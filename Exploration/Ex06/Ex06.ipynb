{
 "cells": [
  {
   "cell_type": "code",
   "execution_count": 1,
   "id": "bec2d40e-e65d-4094-9d92-75ca1980dd59",
   "metadata": {},
   "outputs": [],
   "source": [
    "# 뉴스기사 요약해보기"
   ]
  },
  {
   "cell_type": "code",
   "execution_count": 2,
   "id": "b74c065c-0e4a-45e1-80df-373f005278a0",
   "metadata": {},
   "outputs": [
    {
     "name": "stdout",
     "output_type": "stream",
     "text": [
      "Requirement already satisfied: summa in /opt/conda/lib/python3.12/site-packages (1.2.0)\n",
      "Requirement already satisfied: scipy>=0.19 in /opt/conda/lib/python3.12/site-packages (from summa) (1.15.2)\n",
      "Requirement already satisfied: numpy<2.5,>=1.23.5 in /opt/conda/lib/python3.12/site-packages (from scipy>=0.19->summa) (2.2.6)\n",
      "Requirement already satisfied: nltk in /opt/conda/lib/python3.12/site-packages (3.9.1)\n",
      "Requirement already satisfied: click in /opt/conda/lib/python3.12/site-packages (from nltk) (8.2.1)\n",
      "Requirement already satisfied: joblib in /opt/conda/lib/python3.12/site-packages (from nltk) (1.5.1)\n",
      "Requirement already satisfied: regex>=2021.8.3 in /opt/conda/lib/python3.12/site-packages (from nltk) (2025.7.34)\n",
      "Requirement already satisfied: tqdm in /opt/conda/lib/python3.12/site-packages (from nltk) (4.67.1)\n",
      "Requirement already satisfied: beautifulsoup4 in /opt/conda/lib/python3.12/site-packages (4.13.4)\n",
      "Requirement already satisfied: soupsieve>1.2 in /opt/conda/lib/python3.12/site-packages (from beautifulsoup4) (2.7)\n",
      "Requirement already satisfied: typing-extensions>=4.0.0 in /opt/conda/lib/python3.12/site-packages (from beautifulsoup4) (4.14.0)\n",
      "Requirement already satisfied: sentencepiece in /opt/conda/lib/python3.12/site-packages (0.2.0)\n"
     ]
    }
   ],
   "source": [
    "!pip install --upgrade summa\n",
    "!pip install --upgrade nltk \n",
    "!pip install beautifulsoup4\n",
    "!pip install sentencepiece"
   ]
  },
  {
   "cell_type": "code",
   "execution_count": 3,
   "id": "89cba74f-e6b2-4f46-9c86-98d8d0f7fb50",
   "metadata": {},
   "outputs": [
    {
     "name": "stderr",
     "output_type": "stream",
     "text": [
      "[nltk_data] Downloading package stopwords to /home/jovyan/nltk_data...\n",
      "[nltk_data]   Package stopwords is already up-to-date!\n"
     ]
    }
   ],
   "source": [
    "from importlib.metadata import version\n",
    "import os, re, warnings, urllib.request\n",
    "import numpy as np\n",
    "import pandas as pd\n",
    "import matplotlib.pyplot as plt\n",
    "from collections import Counter\n",
    "import nltk\n",
    "from nltk.corpus import stopwords\n",
    "from bs4 import BeautifulSoup\n",
    "import summa\n",
    "from summa.summarizer import summarize\n",
    "import torch\n",
    "from torch import nn, optim\n",
    "import torch.nn.functional as F\n",
    "from torch.nn.utils.rnn import pad_sequence\n",
    "from torch.utils.data import TensorDataset, DataLoader\n",
    "from sklearn.model_selection import train_test_split\n",
    "from tqdm import tqdm\n",
    "nltk.download('stopwords')\n",
    "warnings.filterwarnings(\"ignore\", category=UserWarning, module='bs4')"
   ]
  },
  {
   "cell_type": "code",
   "execution_count": 4,
   "id": "34957e73-60b7-4430-be3e-d3ac7ec1869e",
   "metadata": {},
   "outputs": [],
   "source": [
    "# Step 1. 데이터 수집하기"
   ]
  },
  {
   "cell_type": "code",
   "execution_count": 5,
   "id": "744cff95-ee68-41d9-9836-eb2b2a5f2ad1",
   "metadata": {},
   "outputs": [],
   "source": [
    "urllib.request.urlretrieve(\"https://raw.githubusercontent.com/sunnysai12345/News_Summary/master/news_summary_more.csv\", filename=\"news_summary_more.csv\")\n",
    "data = pd.read_csv('news_summary_more.csv', encoding='iso-8859-1')"
   ]
  },
  {
   "cell_type": "code",
   "execution_count": 6,
   "id": "ba92ee8e-654f-48e7-84bf-6f051a8004be",
   "metadata": {},
   "outputs": [
    {
     "data": {
      "text/html": [
       "<div>\n",
       "<style scoped>\n",
       "    .dataframe tbody tr th:only-of-type {\n",
       "        vertical-align: middle;\n",
       "    }\n",
       "\n",
       "    .dataframe tbody tr th {\n",
       "        vertical-align: top;\n",
       "    }\n",
       "\n",
       "    .dataframe thead th {\n",
       "        text-align: right;\n",
       "    }\n",
       "</style>\n",
       "<table border=\"1\" class=\"dataframe\">\n",
       "  <thead>\n",
       "    <tr style=\"text-align: right;\">\n",
       "      <th></th>\n",
       "      <th>headlines</th>\n",
       "      <th>text</th>\n",
       "    </tr>\n",
       "  </thead>\n",
       "  <tbody>\n",
       "    <tr>\n",
       "      <th>89258</th>\n",
       "      <td>25 killed, 37 injured in Pak suicide attack by...</td>\n",
       "      <td>At least 25 people have been killed and 37 oth...</td>\n",
       "    </tr>\n",
       "    <tr>\n",
       "      <th>41170</th>\n",
       "      <td>Kim Jong-un attends first South Korean concert</td>\n",
       "      <td>North Korean leader Kim Jong-un on Sunday beca...</td>\n",
       "    </tr>\n",
       "    <tr>\n",
       "      <th>64905</th>\n",
       "      <td>Fence along Afghanistan border will reduce att...</td>\n",
       "      <td>Pakistan's military has said that new fencing ...</td>\n",
       "    </tr>\n",
       "    <tr>\n",
       "      <th>27715</th>\n",
       "      <td>And they say only women gossip: Smriti Irani o...</td>\n",
       "      <td>Union Minister Smriti Irani on Sunday posted a...</td>\n",
       "    </tr>\n",
       "    <tr>\n",
       "      <th>64351</th>\n",
       "      <td>Mumbai-Nagercoil Express runs with missing whe...</td>\n",
       "      <td>A coach of the Mumbai-Nagercoil Express was fo...</td>\n",
       "    </tr>\n",
       "    <tr>\n",
       "      <th>41318</th>\n",
       "      <td>Indore building collapse victims to get Ã¢ÂÂ¹...</td>\n",
       "      <td>Madhya Pradesh Chief Minister Shivraj Singh Ch...</td>\n",
       "    </tr>\n",
       "    <tr>\n",
       "      <th>21400</th>\n",
       "      <td>AIIMS starts door-step test, screening facilit...</td>\n",
       "      <td>AIIMS has started a doorstep test and screenin...</td>\n",
       "    </tr>\n",
       "    <tr>\n",
       "      <th>43553</th>\n",
       "      <td>GM invests $100 mn in facilities to build self...</td>\n",
       "      <td>General Motors on Thursday announced it will b...</td>\n",
       "    </tr>\n",
       "    <tr>\n",
       "      <th>47070</th>\n",
       "      <td>Hyderabad temple holds special puja to solve b...</td>\n",
       "      <td>The Chilkur Balaji Temple in Hyderabad perform...</td>\n",
       "    </tr>\n",
       "    <tr>\n",
       "      <th>31939</th>\n",
       "      <td>Yahoo launches invite-only group messaging app...</td>\n",
       "      <td>Yahoo has launched a group messaging app calle...</td>\n",
       "    </tr>\n",
       "  </tbody>\n",
       "</table>\n",
       "</div>"
      ],
      "text/plain": [
       "                                               headlines  \\\n",
       "89258  25 killed, 37 injured in Pak suicide attack by...   \n",
       "41170     Kim Jong-un attends first South Korean concert   \n",
       "64905  Fence along Afghanistan border will reduce att...   \n",
       "27715  And they say only women gossip: Smriti Irani o...   \n",
       "64351  Mumbai-Nagercoil Express runs with missing whe...   \n",
       "41318  Indore building collapse victims to get Ã¢ÂÂ¹...   \n",
       "21400  AIIMS starts door-step test, screening facilit...   \n",
       "43553  GM invests $100 mn in facilities to build self...   \n",
       "47070  Hyderabad temple holds special puja to solve b...   \n",
       "31939  Yahoo launches invite-only group messaging app...   \n",
       "\n",
       "                                                    text  \n",
       "89258  At least 25 people have been killed and 37 oth...  \n",
       "41170  North Korean leader Kim Jong-un on Sunday beca...  \n",
       "64905  Pakistan's military has said that new fencing ...  \n",
       "27715  Union Minister Smriti Irani on Sunday posted a...  \n",
       "64351  A coach of the Mumbai-Nagercoil Express was fo...  \n",
       "41318  Madhya Pradesh Chief Minister Shivraj Singh Ch...  \n",
       "21400  AIIMS has started a doorstep test and screenin...  \n",
       "43553  General Motors on Thursday announced it will b...  \n",
       "47070  The Chilkur Balaji Temple in Hyderabad perform...  \n",
       "31939  Yahoo has launched a group messaging app calle...  "
      ]
     },
     "execution_count": 6,
     "metadata": {},
     "output_type": "execute_result"
    }
   ],
   "source": [
    "data.sample(10)"
   ]
  },
  {
   "cell_type": "code",
   "execution_count": 7,
   "id": "0075c2d3-e5e0-4386-b005-31269ed2982a",
   "metadata": {},
   "outputs": [],
   "source": [
    "# Step 2. 데이터 전처리하기 (추상적 요약)"
   ]
  },
  {
   "cell_type": "code",
   "execution_count": 8,
   "id": "30227126-32fc-49ba-b014-b4dc3dfe5070",
   "metadata": {},
   "outputs": [
    {
     "name": "stdout",
     "output_type": "stream",
     "text": [
      "Text 열에서 중복을 배제한 유일한 샘플의 수 : 98360\n",
      "Summary 열에서 중복을 배제한 유일한 샘플의 수 : 98280\n"
     ]
    }
   ],
   "source": [
    "print('Text 열에서 중복을 배제한 유일한 샘플의 수 :', data['text'].nunique())\n",
    "print('Summary 열에서 중복을 배제한 유일한 샘플의 수 :', data['headlines'].nunique())"
   ]
  },
  {
   "cell_type": "code",
   "execution_count": 9,
   "id": "4b875e76-74c2-4324-aa95-ab7de12f6a34",
   "metadata": {},
   "outputs": [
    {
     "name": "stdout",
     "output_type": "stream",
     "text": [
      "전체 샘플수 : 98360\n"
     ]
    }
   ],
   "source": [
    "# inplace=True 를 설정하면 DataFrame 타입 값을 return 하지 않고 data 내부를 직접적으로 바꿉니다\n",
    "data.drop_duplicates(subset = ['text'], inplace=True)\n",
    "print('전체 샘플수 :', (len(data)))"
   ]
  },
  {
   "cell_type": "code",
   "execution_count": 10,
   "id": "739402bb-e7bd-4c11-a29e-70caa7afe8b6",
   "metadata": {},
   "outputs": [
    {
     "name": "stdout",
     "output_type": "stream",
     "text": [
      "headlines    0\n",
      "text         0\n",
      "dtype: int64\n"
     ]
    }
   ],
   "source": [
    "print(data.isnull().sum())"
   ]
  },
  {
   "cell_type": "code",
   "execution_count": 11,
   "id": "b11e6f2a-beea-4a20-a8f0-a738cd2c64db",
   "metadata": {},
   "outputs": [
    {
     "name": "stdout",
     "output_type": "stream",
     "text": [
      "전체 샘플수 : 98360\n"
     ]
    }
   ],
   "source": [
    "data.dropna(axis=0, inplace=True)\n",
    "print('전체 샘플수 :', (len(data)))"
   ]
  },
  {
   "cell_type": "code",
   "execution_count": 12,
   "id": "fc3e78b1-2cc3-47b2-973b-379d2c0d1b1f",
   "metadata": {},
   "outputs": [
    {
     "name": "stdout",
     "output_type": "stream",
     "text": [
      "정규화 사전의 수:  120\n"
     ]
    }
   ],
   "source": [
    "contractions = {\"ain't\": \"is not\", \"aren't\": \"are not\",\"can't\": \"cannot\", \"'cause\": \"because\", \"could've\": \"could have\", \"couldn't\": \"could not\",\n",
    "                           \"didn't\": \"did not\",  \"doesn't\": \"does not\", \"don't\": \"do not\", \"hadn't\": \"had not\", \"hasn't\": \"has not\", \"haven't\": \"have not\",\n",
    "                           \"he'd\": \"he would\",\"he'll\": \"he will\", \"he's\": \"he is\", \"how'd\": \"how did\", \"how'd'y\": \"how do you\", \"how'll\": \"how will\", \"how's\": \"how is\",\n",
    "                           \"I'd\": \"I would\", \"I'd've\": \"I would have\", \"I'll\": \"I will\", \"I'll've\": \"I will have\",\"I'm\": \"I am\", \"I've\": \"I have\", \"i'd\": \"i would\",\n",
    "                           \"i'd've\": \"i would have\", \"i'll\": \"i will\",  \"i'll've\": \"i will have\",\"i'm\": \"i am\", \"i've\": \"i have\", \"isn't\": \"is not\", \"it'd\": \"it would\",\n",
    "                           \"it'd've\": \"it would have\", \"it'll\": \"it will\", \"it'll've\": \"it will have\",\"it's\": \"it is\", \"let's\": \"let us\", \"ma'am\": \"madam\",\n",
    "                           \"mayn't\": \"may not\", \"might've\": \"might have\",\"mightn't\": \"might not\",\"mightn't've\": \"might not have\", \"must've\": \"must have\",\n",
    "                           \"mustn't\": \"must not\", \"mustn't've\": \"must not have\", \"needn't\": \"need not\", \"needn't've\": \"need not have\",\"o'clock\": \"of the clock\",\n",
    "                           \"oughtn't\": \"ought not\", \"oughtn't've\": \"ought not have\", \"shan't\": \"shall not\", \"sha'n't\": \"shall not\", \"shan't've\": \"shall not have\",\n",
    "                           \"she'd\": \"she would\", \"she'd've\": \"she would have\", \"she'll\": \"she will\", \"she'll've\": \"she will have\", \"she's\": \"she is\",\n",
    "                           \"should've\": \"should have\", \"shouldn't\": \"should not\", \"shouldn't've\": \"should not have\", \"so've\": \"so have\",\"so's\": \"so as\",\n",
    "                           \"this's\": \"this is\",\"that'd\": \"that would\", \"that'd've\": \"that would have\", \"that's\": \"that is\", \"there'd\": \"there would\",\n",
    "                           \"there'd've\": \"there would have\", \"there's\": \"there is\", \"here's\": \"here is\",\"they'd\": \"they would\", \"they'd've\": \"they would have\",\n",
    "                           \"they'll\": \"they will\", \"they'll've\": \"they will have\", \"they're\": \"they are\", \"they've\": \"they have\", \"to've\": \"to have\",\n",
    "                           \"wasn't\": \"was not\", \"we'd\": \"we would\", \"we'd've\": \"we would have\", \"we'll\": \"we will\", \"we'll've\": \"we will have\", \"we're\": \"we are\",\n",
    "                           \"we've\": \"we have\", \"weren't\": \"were not\", \"what'll\": \"what will\", \"what'll've\": \"what will have\", \"what're\": \"what are\",\n",
    "                           \"what's\": \"what is\", \"what've\": \"what have\", \"when's\": \"when is\", \"when've\": \"when have\", \"where'd\": \"where did\", \"where's\": \"where is\",\n",
    "                           \"where've\": \"where have\", \"who'll\": \"who will\", \"who'll've\": \"who will have\", \"who's\": \"who is\", \"who've\": \"who have\",\n",
    "                           \"why's\": \"why is\", \"why've\": \"why have\", \"will've\": \"will have\", \"won't\": \"will not\", \"won't've\": \"will not have\",\n",
    "                           \"would've\": \"would have\", \"wouldn't\": \"would not\", \"wouldn't've\": \"would not have\", \"y'all\": \"you all\",\n",
    "                           \"y'all'd\": \"you all would\",\"y'all'd've\": \"you all would have\",\"y'all're\": \"you all are\",\"y'all've\": \"you all have\",\n",
    "                           \"you'd\": \"you would\", \"you'd've\": \"you would have\", \"you'll\": \"you will\", \"you'll've\": \"you will have\",\n",
    "                           \"you're\": \"you are\", \"you've\": \"you have\"}\n",
    "\n",
    "print(\"정규화 사전의 수: \", len(contractions))"
   ]
  },
  {
   "cell_type": "code",
   "execution_count": 13,
   "id": "5159336f-8153-4cfa-970b-af6abd95fe3e",
   "metadata": {},
   "outputs": [
    {
     "name": "stdout",
     "output_type": "stream",
     "text": [
      "불용어 개수 : 198\n",
      "['a', 'about', 'above', 'after', 'again', 'against', 'ain', 'all', 'am', 'an', 'and', 'any', 'are', 'aren', \"aren't\", 'as', 'at', 'be', 'because', 'been', 'before', 'being', 'below', 'between', 'both', 'but', 'by', 'can', 'couldn', \"couldn't\", 'd', 'did', 'didn', \"didn't\", 'do', 'does', 'doesn', \"doesn't\", 'doing', 'don', \"don't\", 'down', 'during', 'each', 'few', 'for', 'from', 'further', 'had', 'hadn', \"hadn't\", 'has', 'hasn', \"hasn't\", 'have', 'haven', \"haven't\", 'having', 'he', \"he'd\", \"he'll\", 'her', 'here', 'hers', 'herself', \"he's\", 'him', 'himself', 'his', 'how', 'i', \"i'd\", 'if', \"i'll\", \"i'm\", 'in', 'into', 'is', 'isn', \"isn't\", 'it', \"it'd\", \"it'll\", \"it's\", 'its', 'itself', \"i've\", 'just', 'll', 'm', 'ma', 'me', 'mightn', \"mightn't\", 'more', 'most', 'mustn', \"mustn't\", 'my', 'myself', 'needn', \"needn't\", 'no', 'nor', 'not', 'now', 'o', 'of', 'off', 'on', 'once', 'only', 'or', 'other', 'our', 'ours', 'ourselves', 'out', 'over', 'own', 're', 's', 'same', 'shan', \"shan't\", 'she', \"she'd\", \"she'll\", \"she's\", 'should', 'shouldn', \"shouldn't\", \"should've\", 'so', 'some', 'such', 't', 'than', 'that', \"that'll\", 'the', 'their', 'theirs', 'them', 'themselves', 'then', 'there', 'these', 'they', \"they'd\", \"they'll\", \"they're\", \"they've\", 'this', 'those', 'through', 'to', 'too', 'under', 'until', 'up', 've', 'very', 'was', 'wasn', \"wasn't\", 'we', \"we'd\", \"we'll\", \"we're\", 'were', 'weren', \"weren't\", \"we've\", 'what', 'when', 'where', 'which', 'while', 'who', 'whom', 'why', 'will', 'with', 'won', \"won't\", 'wouldn', \"wouldn't\", 'y', 'you', \"you'd\", \"you'll\", 'your', \"you're\", 'yours', 'yourself', 'yourselves', \"you've\"]\n"
     ]
    }
   ],
   "source": [
    "print('불용어 개수 :', len(stopwords.words('english') ))\n",
    "print(stopwords.words('english'))"
   ]
  },
  {
   "cell_type": "code",
   "execution_count": 14,
   "id": "65405e01-168b-4649-9325-a4ebc0352145",
   "metadata": {},
   "outputs": [],
   "source": [
    "# 데이터 전처리 함수\n",
    "def preprocess_sentence(sentence, remove_stopwords=True):\n",
    "    sentence = sentence.lower() # 텍스트 소문자화\n",
    "    sentence = BeautifulSoup(sentence, \"html.parser\").text # <br />, <a href = ...> 등의 html 태그 제거\n",
    "    sentence = re.sub(r'\\([^)]*\\)', '', sentence) # 괄호로 닫힌 문자열 (...) 제거 Ex) my husband (and myself!) for => my husband for\n",
    "    sentence = re.sub('\"','', sentence) # 쌍따옴표 \" 제거\n",
    "    sentence = ' '.join([contractions[t] if t in contractions else t for t in sentence.split(\" \")]) # 약어 정규화\n",
    "    sentence = re.sub(r\"'s\\b\",\"\", sentence) # 소유격 제거. Ex) roland's -> roland\n",
    "    sentence = re.sub(\"[^a-zA-Z]\", \" \", sentence) # 영어 외 문자(숫자, 특수문자 등) 공백으로 변환\n",
    "    sentence = re.sub('[m]{2,}', 'mm', sentence) # m이 3개 이상이면 2개로 변경. Ex) ummmmmmm yeah -> umm yeah\n",
    "\n",
    "    # 불용어 제거 (text)\n",
    "    if remove_stopwords:\n",
    "        tokens = ' '.join(word for word in sentence.split() if not word in stopwords.words('english') if len(word) > 1)\n",
    "    # 불용어 미제거 (headlines)\n",
    "    else:\n",
    "        tokens = ' '.join(word for word in sentence.split() if len(word) > 1)\n",
    "    return tokens"
   ]
  },
  {
   "cell_type": "code",
   "execution_count": 15,
   "id": "d80ed1b2-49ea-4af8-82d6-2e042f53ef32",
   "metadata": {},
   "outputs": [],
   "source": [
    "# # 데이터 전처리 함수\n",
    "# def preprocess_sentence(sentence):\n",
    "#     sentence = sentence.lower() # 텍스트 소문자화\n",
    "#     sentence = BeautifulSoup(sentence, \"html.parser\").text # <br />, <a href = ...> 등의 html 태그 제거\n",
    "#     sentence = re.sub(r'\\([^)]*\\)', '', sentence) # 괄호로 닫힌 문자열 (...) 제거 Ex) my husband (and myself!) for => my husband for\n",
    "#     sentence = re.sub('\"','', sentence) # 쌍따옴표 \" 제거\n",
    "#     sentence = ' '.join([contractions[t] if t in contractions else t for t in sentence.split(\" \")]) # 약어 정규화\n",
    "#     sentence = re.sub(r\"'s\\b\",\"\", sentence) # 소유격 제거. Ex) roland's -> roland\n",
    "#     sentence = re.sub(\"[^a-zA-Z0-9]\", \" \", sentence) \n",
    "#     sentence = re.sub('[m]{3,}', 'mm', sentence) \n",
    "#     tokens = ' '.join(word for word in sentence.split() if len(word) > 1)\n",
    "    \n",
    "#     return tokens"
   ]
  },
  {
   "cell_type": "code",
   "execution_count": 16,
   "id": "a2a46510-50c7-4c42-aec9-7c42301da758",
   "metadata": {},
   "outputs": [
    {
     "name": "stdout",
     "output_type": "stream",
     "text": [
      "text:  everything bought great infact ordered twice third ordered wasfor mother father\n",
      "headlines: great way start day\n"
     ]
    }
   ],
   "source": [
    "temp_text = 'Everything I bought was great, infact I ordered twice and the third ordered was<br />for my mother and father.'\n",
    "temp_headlines = 'Great way to start (or finish) the day!!!'\n",
    "\n",
    "print(\"text: \", preprocess_sentence(temp_text))\n",
    "print(\"headlines:\", preprocess_sentence(temp_headlines))"
   ]
  },
  {
   "cell_type": "code",
   "execution_count": 17,
   "id": "b1ff63dc-181c-418e-a217-4cfe1252f74c",
   "metadata": {},
   "outputs": [
    {
     "name": "stdout",
     "output_type": "stream",
     "text": [
      "text 전처리 후 결과:  ['saurav kant alumnus upgrad iiit pg program machine learning artificial intelligence sr systems engineer infosys almost years work experience program upgrad degree career support helped transition data scientist tech mahindra salary hike upgrad online power learning powered lakh careers', 'kunal shah credit card bill payment platform cred gave users chance win free food swiggy one year pranav kaushik delhi techie bagged reward spending cred coins users get one cred coin per rupee bill paid used avail rewards brands like ixigo bookmyshow ubereats cult fit', 'new zealand defeated india wickets fourth odi hamilton thursday win first match five match odi series india lost international match rohit sharma captaincy consecutive victories dating back march match witnessed india getting seventh lowest total odi cricket history', 'aegon life iterm insurance plan customers enjoy tax benefits premiums paid save taxes plan provides life cover age years also customers options insure critical illnesses disability accidental death benefit rider life cover age years', 'speaking sexual harassment allegations rajkumar hirani sonam kapoor said known hirani many years true metoo movement get derailed metoo movement always believe woman case need reserve judgment added hirani accused assistant worked sanju']\n"
     ]
    }
   ],
   "source": [
    "# 전체 text 데이터에 대한 전처리\n",
    "clean_text = []\n",
    "\n",
    "for sentence in data['text']:\n",
    "    clean_text.append(preprocess_sentence(sentence))\n",
    "\n",
    "# 전처리 후 출력\n",
    "print(\"text 전처리 후 결과: \", clean_text[:5])"
   ]
  },
  {
   "cell_type": "code",
   "execution_count": 18,
   "id": "267852a4-07e5-499d-be85-281dfbf20def",
   "metadata": {},
   "outputs": [
    {
     "name": "stdout",
     "output_type": "stream",
     "text": [
      "headlines 전처리 후 결과:  ['upgrad learner switches career ml al salary hike', 'delhi techie wins free food swiggy one year cred', 'new zealand end rohit sharma led india match winning streak', 'aegon life iterm insurance plan helps customers save tax', 'known hirani yrs metoo claims true sonam']\n"
     ]
    }
   ],
   "source": [
    "# 전체 headlines 데이터에 대한 전처리 \n",
    "clean_headlines = []\n",
    "\n",
    "for sentence in data['headlines']:\n",
    "    clean_headlines.append(preprocess_sentence(sentence))\n",
    "\n",
    "print(\"headlines 전처리 후 결과: \", clean_headlines[:5])"
   ]
  },
  {
   "cell_type": "code",
   "execution_count": 19,
   "id": "668b5bc2-f6d4-45d0-9dc5-8d3249d550e5",
   "metadata": {},
   "outputs": [],
   "source": [
    "data['text'] = clean_text\n",
    "data['headlines'] = clean_headlines\n",
    "\n",
    "# 빈 값을 Null 값으로 변환\n",
    "data.replace('', np.nan, inplace=True)"
   ]
  },
  {
   "cell_type": "code",
   "execution_count": 20,
   "id": "2c0ac8db-076d-483e-a936-fced6568b56f",
   "metadata": {},
   "outputs": [
    {
     "data": {
      "text/plain": [
       "headlines    0\n",
       "text         0\n",
       "dtype: int64"
      ]
     },
     "execution_count": 20,
     "metadata": {},
     "output_type": "execute_result"
    }
   ],
   "source": [
    "data.isnull().sum()"
   ]
  },
  {
   "cell_type": "code",
   "execution_count": 21,
   "id": "4b0fbb94-c575-4f28-a654-cc6fafce00df",
   "metadata": {},
   "outputs": [
    {
     "name": "stdout",
     "output_type": "stream",
     "text": [
      "전체 샘플수 : 98360\n"
     ]
    }
   ],
   "source": [
    "data.dropna(axis=0, inplace=True)\n",
    "print('전체 샘플수 :', (len(data)))"
   ]
  },
  {
   "cell_type": "code",
   "execution_count": 22,
   "id": "df6d398f-b403-4cf9-8dc1-fee2643239b9",
   "metadata": {},
   "outputs": [
    {
     "data": {
      "text/html": [
       "<div>\n",
       "<style scoped>\n",
       "    .dataframe tbody tr th:only-of-type {\n",
       "        vertical-align: middle;\n",
       "    }\n",
       "\n",
       "    .dataframe tbody tr th {\n",
       "        vertical-align: top;\n",
       "    }\n",
       "\n",
       "    .dataframe thead th {\n",
       "        text-align: right;\n",
       "    }\n",
       "</style>\n",
       "<table border=\"1\" class=\"dataframe\">\n",
       "  <thead>\n",
       "    <tr style=\"text-align: right;\">\n",
       "      <th></th>\n",
       "      <th>headlines</th>\n",
       "      <th>text</th>\n",
       "    </tr>\n",
       "  </thead>\n",
       "  <tbody>\n",
       "    <tr>\n",
       "      <th>64252</th>\n",
       "      <td>singapore passport named world powerful passport</td>\n",
       "      <td>singapore passport become powerful world visa ...</td>\n",
       "    </tr>\n",
       "    <tr>\n",
       "      <th>26262</th>\n",
       "      <td>nagarjuna confirms star ranbir alia brahm stra</td>\n",
       "      <td>south indian actor nagarjuna confirmed star ra...</td>\n",
       "    </tr>\n",
       "    <tr>\n",
       "      <th>43014</th>\n",
       "      <td>demonetisation led tax terrorism yashwant sinha</td>\n",
       "      <td>former finance minister yashwant sinha said de...</td>\n",
       "    </tr>\n",
       "    <tr>\n",
       "      <th>33726</th>\n",
       "      <td>states army pakistan army state iaf chief</td>\n",
       "      <td>indian air force chief bs dhanoa said countrie...</td>\n",
       "    </tr>\n",
       "    <tr>\n",
       "      <th>67035</th>\n",
       "      <td>siri mistakenly says bulgaria national anthem ...</td>\n",
       "      <td>siri mistakenly told apple user national anthe...</td>\n",
       "    </tr>\n",
       "    <tr>\n",
       "      <th>8843</th>\n",
       "      <td>man married girl raped settle case held torturing</td>\n",
       "      <td>mumbai police arrested year old man allegedly ...</td>\n",
       "    </tr>\n",
       "    <tr>\n",
       "      <th>93569</th>\n",
       "      <td>ipl site wrongly mentions kohli left handed ba...</td>\n",
       "      <td>official website indian premier league wrongly...</td>\n",
       "    </tr>\n",
       "    <tr>\n",
       "      <th>94958</th>\n",
       "      <td>farhan aditya get verbal spat shraddha report</td>\n",
       "      <td>per reports farhan akhtar aditya roy kapur got...</td>\n",
       "    </tr>\n",
       "    <tr>\n",
       "      <th>58842</th>\n",
       "      <td>woman syndrome competes us beauty pageant</td>\n",
       "      <td>twenty two year old mikayla holmgren become fi...</td>\n",
       "    </tr>\n",
       "    <tr>\n",
       "      <th>36883</th>\n",
       "      <td>nd apple worker arrested self driving car secr...</td>\n",
       "      <td>fbi arrested apple employee jizhong chen alleg...</td>\n",
       "    </tr>\n",
       "  </tbody>\n",
       "</table>\n",
       "</div>"
      ],
      "text/plain": [
       "                                               headlines  \\\n",
       "64252   singapore passport named world powerful passport   \n",
       "26262     nagarjuna confirms star ranbir alia brahm stra   \n",
       "43014    demonetisation led tax terrorism yashwant sinha   \n",
       "33726          states army pakistan army state iaf chief   \n",
       "67035  siri mistakenly says bulgaria national anthem ...   \n",
       "8843   man married girl raped settle case held torturing   \n",
       "93569  ipl site wrongly mentions kohli left handed ba...   \n",
       "94958      farhan aditya get verbal spat shraddha report   \n",
       "58842          woman syndrome competes us beauty pageant   \n",
       "36883  nd apple worker arrested self driving car secr...   \n",
       "\n",
       "                                                    text  \n",
       "64252  singapore passport become powerful world visa ...  \n",
       "26262  south indian actor nagarjuna confirmed star ra...  \n",
       "43014  former finance minister yashwant sinha said de...  \n",
       "33726  indian air force chief bs dhanoa said countrie...  \n",
       "67035  siri mistakenly told apple user national anthe...  \n",
       "8843   mumbai police arrested year old man allegedly ...  \n",
       "93569  official website indian premier league wrongly...  \n",
       "94958  per reports farhan akhtar aditya roy kapur got...  \n",
       "58842  twenty two year old mikayla holmgren become fi...  \n",
       "36883  fbi arrested apple employee jizhong chen alleg...  "
      ]
     },
     "execution_count": 22,
     "metadata": {},
     "output_type": "execute_result"
    }
   ],
   "source": [
    "data.sample(10)"
   ]
  },
  {
   "cell_type": "code",
   "execution_count": 23,
   "id": "7743eed9-df7e-4eca-9cb4-cccaa1f71436",
   "metadata": {},
   "outputs": [
    {
     "name": "stdout",
     "output_type": "stream",
     "text": [
      "텍스트의 최소 길이 : 1\n",
      "텍스트의 최대 길이 : 60\n",
      "텍스트의 평균 길이 : 35.09968483123221\n",
      "헤드라인의 최소 길이 : 1\n",
      "헤드라인의 최대 길이 : 13\n",
      "헤드라인의 평균 길이 : 7.137759251728345\n"
     ]
    },
    {
     "data": {
      "image/png": "[encoded data removed]",
      "text/plain": [
       "<Figure size 640x480 with 2 Axes>"
      ]
     },
     "metadata": {},
     "output_type": "display_data"
    },
    {
     "data": {
      "image/png": "[encoded data removed]",
      "text/plain": [
       "<Figure size 640x480 with 1 Axes>"
      ]
     },
     "metadata": {},
     "output_type": "display_data"
    },
    {
     "data": {
      "image/png": "[encoded data removed]",
      "text/plain": [
       "<Figure size 640x480 with 1 Axes>"
      ]
     },
     "metadata": {},
     "output_type": "display_data"
    }
   ],
   "source": [
    "# 길이 분포 출력\n",
    "import matplotlib.pyplot as plt\n",
    "\n",
    "text_len = [len(s.split()) for s in data['text']]\n",
    "headlines_len = [len(s.split()) for s in data['headlines']]\n",
    "\n",
    "print('텍스트의 최소 길이 : {}'.format(np.min(text_len)))\n",
    "print('텍스트의 최대 길이 : {}'.format(np.max(text_len)))\n",
    "print('텍스트의 평균 길이 : {}'.format(np.mean(text_len)))\n",
    "print('헤드라인의 최소 길이 : {}'.format(np.min(headlines_len)))\n",
    "print('헤드라인의 최대 길이 : {}'.format(np.max(headlines_len)))\n",
    "print('헤드라인의 평균 길이 : {}'.format(np.mean(headlines_len)))\n",
    "\n",
    "plt.subplot(1,2,1)\n",
    "plt.boxplot(text_len)\n",
    "plt.title('text')\n",
    "plt.subplot(1,2,2)\n",
    "plt.boxplot(headlines_len)\n",
    "plt.title('headlines')\n",
    "plt.tight_layout()\n",
    "plt.show()\n",
    "\n",
    "plt.title('text')\n",
    "plt.hist(text_len, bins = 40)\n",
    "plt.xlabel('length of samples')\n",
    "plt.ylabel('number of samples')\n",
    "plt.show()\n",
    "\n",
    "plt.title('headlines')\n",
    "plt.hist(headlines_len, bins = 40)\n",
    "plt.xlabel('length of samples')\n",
    "plt.ylabel('number of samples')\n",
    "plt.show()"
   ]
  },
  {
   "cell_type": "code",
   "execution_count": 24,
   "id": "6869db18-8891-4d4a-9760-956941ac80ee",
   "metadata": {},
   "outputs": [],
   "source": [
    "text_max_len = 70\n",
    "headlines_max_len = 15"
   ]
  },
  {
   "cell_type": "code",
   "execution_count": 25,
   "id": "f8fd2797-210e-412b-971c-29169ed4030c",
   "metadata": {},
   "outputs": [],
   "source": [
    "def below_threshold_len(max_len, nested_list):\n",
    "  cnt = 0\n",
    "  for s in nested_list:\n",
    "    if(len(s.split()) <= max_len):\n",
    "        cnt = cnt + 1\n",
    "  print('전체 샘플 중 길이가 %s 이하인 샘플의 비율: %s'%(max_len, (cnt / len(nested_list))))"
   ]
  },
  {
   "cell_type": "code",
   "execution_count": 26,
   "id": "6a1fa852-d30e-471a-9008-55ac32102fa3",
   "metadata": {},
   "outputs": [
    {
     "name": "stdout",
     "output_type": "stream",
     "text": [
      "전체 샘플 중 길이가 70 이하인 샘플의 비율: 1.0\n",
      "전체 샘플 중 길이가 15 이하인 샘플의 비율: 1.0\n"
     ]
    }
   ],
   "source": [
    "below_threshold_len(text_max_len, data['text'])\n",
    "below_threshold_len(headlines_max_len, data['headlines'])"
   ]
  },
  {
   "cell_type": "code",
   "execution_count": 27,
   "id": "469e9022-b321-44db-ba54-5e41438558b7",
   "metadata": {},
   "outputs": [
    {
     "name": "stdout",
     "output_type": "stream",
     "text": [
      "전체 샘플수 : 98360\n"
     ]
    }
   ],
   "source": [
    "data = data[data['text'].apply(lambda x: len(x.split()) <= text_max_len)]\n",
    "data = data[data['headlines'].apply(lambda x: len(x.split()) <= headlines_max_len)]\n",
    "\n",
    "print('전체 샘플수 :', (len(data)))"
   ]
  },
  {
   "cell_type": "code",
   "execution_count": 28,
   "id": "1503b814-1739-4d90-abc0-705085cebe89",
   "metadata": {},
   "outputs": [
    {
     "data": {
      "text/html": [
       "<div>\n",
       "<style scoped>\n",
       "    .dataframe tbody tr th:only-of-type {\n",
       "        vertical-align: middle;\n",
       "    }\n",
       "\n",
       "    .dataframe tbody tr th {\n",
       "        vertical-align: top;\n",
       "    }\n",
       "\n",
       "    .dataframe thead th {\n",
       "        text-align: right;\n",
       "    }\n",
       "</style>\n",
       "<table border=\"1\" class=\"dataframe\">\n",
       "  <thead>\n",
       "    <tr style=\"text-align: right;\">\n",
       "      <th></th>\n",
       "      <th>headlines</th>\n",
       "      <th>text</th>\n",
       "      <th>decoder_input</th>\n",
       "      <th>decoder_target</th>\n",
       "    </tr>\n",
       "  </thead>\n",
       "  <tbody>\n",
       "    <tr>\n",
       "      <th>0</th>\n",
       "      <td>upgrad learner switches career ml al salary hike</td>\n",
       "      <td>saurav kant alumnus upgrad iiit pg program mac...</td>\n",
       "      <td>sostoken upgrad learner switches career ml al ...</td>\n",
       "      <td>upgrad learner switches career ml al salary hi...</td>\n",
       "    </tr>\n",
       "    <tr>\n",
       "      <th>1</th>\n",
       "      <td>delhi techie wins free food swiggy one year cred</td>\n",
       "      <td>kunal shah credit card bill payment platform c...</td>\n",
       "      <td>sostoken delhi techie wins free food swiggy on...</td>\n",
       "      <td>delhi techie wins free food swiggy one year cr...</td>\n",
       "    </tr>\n",
       "    <tr>\n",
       "      <th>2</th>\n",
       "      <td>new zealand end rohit sharma led india match w...</td>\n",
       "      <td>new zealand defeated india wickets fourth odi ...</td>\n",
       "      <td>sostoken new zealand end rohit sharma led indi...</td>\n",
       "      <td>new zealand end rohit sharma led india match w...</td>\n",
       "    </tr>\n",
       "    <tr>\n",
       "      <th>3</th>\n",
       "      <td>aegon life iterm insurance plan helps customer...</td>\n",
       "      <td>aegon life iterm insurance plan customers enjo...</td>\n",
       "      <td>sostoken aegon life iterm insurance plan helps...</td>\n",
       "      <td>aegon life iterm insurance plan helps customer...</td>\n",
       "    </tr>\n",
       "    <tr>\n",
       "      <th>4</th>\n",
       "      <td>known hirani yrs metoo claims true sonam</td>\n",
       "      <td>speaking sexual harassment allegations rajkuma...</td>\n",
       "      <td>sostoken known hirani yrs metoo claims true sonam</td>\n",
       "      <td>known hirani yrs metoo claims true sonam eostoken</td>\n",
       "    </tr>\n",
       "  </tbody>\n",
       "</table>\n",
       "</div>"
      ],
      "text/plain": [
       "                                           headlines  \\\n",
       "0   upgrad learner switches career ml al salary hike   \n",
       "1   delhi techie wins free food swiggy one year cred   \n",
       "2  new zealand end rohit sharma led india match w...   \n",
       "3  aegon life iterm insurance plan helps customer...   \n",
       "4           known hirani yrs metoo claims true sonam   \n",
       "\n",
       "                                                text  \\\n",
       "0  saurav kant alumnus upgrad iiit pg program mac...   \n",
       "1  kunal shah credit card bill payment platform c...   \n",
       "2  new zealand defeated india wickets fourth odi ...   \n",
       "3  aegon life iterm insurance plan customers enjo...   \n",
       "4  speaking sexual harassment allegations rajkuma...   \n",
       "\n",
       "                                       decoder_input  \\\n",
       "0  sostoken upgrad learner switches career ml al ...   \n",
       "1  sostoken delhi techie wins free food swiggy on...   \n",
       "2  sostoken new zealand end rohit sharma led indi...   \n",
       "3  sostoken aegon life iterm insurance plan helps...   \n",
       "4  sostoken known hirani yrs metoo claims true sonam   \n",
       "\n",
       "                                      decoder_target  \n",
       "0  upgrad learner switches career ml al salary hi...  \n",
       "1  delhi techie wins free food swiggy one year cr...  \n",
       "2  new zealand end rohit sharma led india match w...  \n",
       "3  aegon life iterm insurance plan helps customer...  \n",
       "4  known hirani yrs metoo claims true sonam eostoken  "
      ]
     },
     "execution_count": 28,
     "metadata": {},
     "output_type": "execute_result"
    }
   ],
   "source": [
    "# 요약 데이터에는 시작 토큰과 종료 토큰을 추가한다.\n",
    "data['decoder_input'] = data['headlines'].apply(lambda x : 'sostoken '+ x)\n",
    "data['decoder_target'] = data['headlines'].apply(lambda x : x + ' eostoken')\n",
    "data.head()"
   ]
  },
  {
   "cell_type": "code",
   "execution_count": 29,
   "id": "ba391662-ac69-4de3-94ab-4be402ce1e9d",
   "metadata": {},
   "outputs": [],
   "source": [
    "encoder_input = np.array(data['text']) # 인코더의 입력\n",
    "decoder_input = np.array(data['decoder_input']) # 디코더의 입력\n",
    "decoder_target = np.array(data['decoder_target']) # 디코더의 레이블"
   ]
  },
  {
   "cell_type": "code",
   "execution_count": 30,
   "id": "e9253a74-62fc-4297-86c0-ef963f2d90ca",
   "metadata": {},
   "outputs": [
    {
     "name": "stdout",
     "output_type": "stream",
     "text": [
      "[15218 93849 48606 ... 45460 25516 56852]\n"
     ]
    }
   ],
   "source": [
    "indices = np.arange(encoder_input.shape[0])\n",
    "np.random.shuffle(indices)\n",
    "print(indices)"
   ]
  },
  {
   "cell_type": "code",
   "execution_count": 31,
   "id": "87753c9b-0f4c-4604-84b8-68761168a6ae",
   "metadata": {},
   "outputs": [
    {
     "name": "stdout",
     "output_type": "stream",
     "text": [
      "훈련 데이터의 개수 : 78688\n",
      "훈련 레이블의 개수 : 78688\n",
      "검증 데이터의 개수 : 9836\n",
      "검증 레이블의 개수 : 9836\n",
      "테스트 데이터의 개수 : 9836\n",
      "테스트 레이블의 개수 : 9836\n"
     ]
    }
   ],
   "source": [
    "encoder_input_train, encoder_temp, decoder_input_train, decoder_input_temp, decoder_target_train, decoder_target_temp = train_test_split(\n",
    "    encoder_input, decoder_input, decoder_target, test_size=0.2, random_state=42, shuffle=True\n",
    ")\n",
    "encoder_input_valid, encoder_input_test, decoder_input_valid, decoder_input_test, decoder_target_valid, decoder_target_test = train_test_split(\n",
    "    encoder_temp, decoder_input_temp, decoder_target_temp, test_size=0.5, random_state=42, shuffle=True\n",
    ")\n",
    "\n",
    "print('훈련 데이터의 개수 :', len(encoder_input_train))\n",
    "print('훈련 레이블의 개수 :', len(decoder_input_train))\n",
    "print('검증 데이터의 개수 :', len(encoder_input_valid))\n",
    "print('검증 레이블의 개수 :', len(decoder_input_valid))\n",
    "print('테스트 데이터의 개수 :', len(encoder_input_test))\n",
    "print('테스트 레이블의 개수 :', len(decoder_input_test))"
   ]
  },
  {
   "cell_type": "code",
   "execution_count": 32,
   "id": "0d21617b-dcc0-466e-a87e-f863d08f7f8d",
   "metadata": {},
   "outputs": [],
   "source": [
    "def src_tokenizer(text): # 토크나이저 정의\n",
    "    text = text.lower()  # 소문자로 변환\n",
    "    text = re.sub(r\"[^a-zA-Z0-9]+\", \" \", text)  # 특수문자 제거\n",
    "    return text.split()  # 공백 기준 토큰화\n",
    "\n",
    "def build_vocab(texts):\n",
    "    vocab = {\"<PAD>\": 0, \"<UNK>\": 1}  # 패딩과 UNK 토큰 추가\n",
    "    word_counter = Counter()\n",
    "\n",
    "    for text in texts:\n",
    "        word_counter.update(src_tokenizer(text))  # 단어 빈도수 계산\n",
    "\n",
    "    # 단어 집합 생성 (빈도가 높은 순서대로)\n",
    "    for word, _ in word_counter.most_common():\n",
    "        if word not in vocab:\n",
    "            vocab[word] = len(vocab)\n",
    "\n",
    "    return vocab\n",
    "\n",
    "src_vocab = build_vocab(encoder_input_train) # 입력된 데이터로부터 단어 집합 생성"
   ]
  },
  {
   "cell_type": "code",
   "execution_count": 33,
   "id": "9114a1ce-ecf6-4ccf-9d29-9b1305078de7",
   "metadata": {},
   "outputs": [
    {
     "name": "stdout",
     "output_type": "stream",
     "text": [
      "단어 집합(vocabulary)의 크기 : 76334\n",
      "등장 빈도가 6번 이하인 희귀 단어의 수: 51776\n",
      "단어 집합에서 희귀 단어를 제외시킬 경우의 단어 집합의 크기 24558\n",
      "단어 집합에서 희귀 단어의 비율: 67.82822857442294\n",
      "전체 등장 빈도에서 희귀 단어 등장 빈도 비율: 3.0337692130558263\n"
     ]
    }
   ],
   "source": [
    "threshold = 7\n",
    "\n",
    "# 전처리된 데이터 사용\n",
    "text_data = data['text'].tolist()\n",
    "headlines_data = data['headlines'].tolist()\n",
    "# 단어 빈도수 계산\n",
    "word_counter = Counter()\n",
    "for text in text_data:\n",
    "    word_counter.update(text.split())\n",
    "\n",
    "total_cnt = len(word_counter)  # 전체 단어 개수\n",
    "total_freq = sum(word_counter.values())  # 전체 단어 등장 횟수\n",
    "rare_cnt = sum(1 for count in word_counter.values() if count < threshold)  # 희귀 단어 개수\n",
    "rare_freq = sum(count for count in word_counter.values() if count < threshold)  # 희귀 단어 등장 횟수\n",
    "\n",
    "# 희귀 단어를 제외한 단어 사전 구축\n",
    "vocab = {\"<PAD>\": 0, \"<UNK>\": 1}  # 패딩 및 미등록 단어 추가\n",
    "word_index = {word: idx + 2 for idx, (word, count) in enumerate(word_counter.items()) if count >= threshold}\n",
    "\n",
    "print('단어 집합(vocabulary)의 크기 :', total_cnt)\n",
    "print('등장 빈도가 %s번 이하인 희귀 단어의 수: %s'%(threshold - 1, rare_cnt))\n",
    "print('단어 집합에서 희귀 단어를 제외시킬 경우의 단어 집합의 크기 %s'%(total_cnt - rare_cnt))\n",
    "print(\"단어 집합에서 희귀 단어의 비율:\", (rare_cnt / total_cnt)*100)\n",
    "print(\"전체 등장 빈도에서 희귀 단어 등장 빈도 비율:\", (rare_freq / total_freq)*100)"
   ]
  },
  {
   "cell_type": "code",
   "execution_count": 34,
   "id": "73850efe-6b40-45ce-b570-e6bf08c4f2cb",
   "metadata": {},
   "outputs": [],
   "source": [
    "src_vocab_size = 25689\n",
    "\n",
    "def build_limited_vocab(texts, vocab_size):\n",
    "    vocab = {\"<PAD>\": 0, \"<UNK>\": 1}  # 패딩과 UNK 토큰 추가\n",
    "    word_counter = Counter()\n",
    "\n",
    "    for text in texts:\n",
    "        word_counter.update(src_tokenizer(text))  # 단어 빈도수 계산\n",
    "\n",
    "    # 빈도가 높은 상위 vocab_size - 2개 단어만 선택 (PAD, UNK 포함)\n",
    "    for word, _ in word_counter.most_common(vocab_size - 2):\n",
    "        vocab[word] = len(vocab)\n",
    "\n",
    "    return vocab\n",
    "\n",
    "src_vocab = build_limited_vocab(encoder_input_train, src_vocab_size)"
   ]
  },
  {
   "cell_type": "code",
   "execution_count": 35,
   "id": "2133f863-6cd5-490d-b6c4-2f8ffb96f647",
   "metadata": {},
   "outputs": [
    {
     "name": "stdout",
     "output_type": "stream",
     "text": [
      "[[345, 355, 16, 6733, 7070, 68, 2933, 155, 542, 92, 986, 1370, 396, 1726, 140, 85, 5390, 1978, 787, 7070, 619, 986, 1370, 396, 379, 12549, 14, 457, 3208, 3141, 542, 1710, 990, 13352, 2581, 542, 3604, 62, 381, 986, 1370, 396, 358, 6, 17, 125, 45], [11, 707, 8285, 231, 340, 15361, 4001, 7665, 883, 1, 10, 10031, 3176, 4262, 1, 3917, 5891, 411, 180, 8285, 1215, 12, 1586, 1659, 2362, 2549, 3176, 1, 1, 1, 1481, 1347, 1097, 3955, 11, 2], [622, 232, 153, 26, 146, 7259, 2397, 9849, 4702, 44, 1535, 476, 4785, 267, 501, 1233, 7259, 9478, 2670, 4029, 5892, 309, 4823, 3434, 13353, 309, 4785, 146, 3918, 6488, 1, 4867, 19441, 1, 2906, 6335]]\n",
      "[[556, 28, 433, 3832, 1364, 2952, 377, 2621, 208, 74, 5530, 23423, 2139, 1, 2952, 2952, 11331, 11331, 9998, 150, 378, 320, 1103, 452, 1052, 7402, 800, 2952, 674, 319, 120, 115], [3, 722, 4569, 960, 93, 1899, 20, 338, 1588, 2001, 583, 68, 4569, 101, 1912, 1, 2355, 1704, 1013, 1, 49, 22463, 49, 4739, 49, 393, 3, 1420, 93, 3, 278, 173, 3589, 93, 374, 1193], [6, 35, 25262, 4041, 86, 876, 8, 4650, 893, 211, 105, 387, 743, 6, 105, 736, 388, 6459, 1138, 15364, 1806, 2144, 1440, 4041, 105, 17, 1140, 1, 2, 4650, 211, 16403, 13375, 12607, 1, 2518, 4, 997]]\n",
      "[[1674, 10703, 13873, 1, 337, 2513, 15, 853, 1, 170, 13873, 165, 319, 10860, 683, 15, 834, 767, 9350, 69, 1788, 1, 463, 1557, 20, 268, 229, 39, 241, 6171, 204, 10470, 1, 15, 400, 1487, 220, 6, 519], [3, 11021, 3578, 3880, 3464, 2237, 6441, 4335, 202, 716, 64, 998, 3629, 338, 1305, 2237, 905, 2040, 651, 666, 13295, 3578, 1067, 155, 3375, 6232, 195, 314, 4335, 1067, 331, 25450, 11117, 11114, 7, 1067, 64, 29, 1], [7011, 12116, 9724, 20, 8316, 39, 7943, 851, 6971, 1794, 1, 8556, 1790, 2281, 643, 1632, 4184, 1996, 3645, 1231, 2281, 580, 497, 963, 150, 1043, 849, 2, 9724, 1927, 12984, 2281, 4350, 1043]]\n"
     ]
    }
   ],
   "source": [
    "def text_to_sequence(texts, vocab):\n",
    "    sequences = []\n",
    "    for text in texts:\n",
    "        sequence = [vocab.get(word, vocab[\"<UNK>\"]) for word in src_tokenizer(text)]\n",
    "        sequences.append(sequence)\n",
    "    return sequences\n",
    "\n",
    "# 텍스트 데이터 정수 시퀀스로 변환\n",
    "encoder_input_train_seq = text_to_sequence(encoder_input_train, src_vocab)\n",
    "encoder_input_valid_seq = text_to_sequence(encoder_input_valid, src_vocab)\n",
    "encoder_input_test_seq = text_to_sequence(encoder_input_test, src_vocab)\n",
    "\n",
    "# 잘 진행되었는지 샘플 출력\n",
    "print(encoder_input_train_seq[:3])\n",
    "print(encoder_input_valid_seq[:3])\n",
    "print(encoder_input_test_seq[:3])"
   ]
  },
  {
   "cell_type": "code",
   "execution_count": 36,
   "id": "fab3f85a-c347-4d74-9978-ad2cc42e74bd",
   "metadata": {},
   "outputs": [],
   "source": [
    "def tar_tokenizer(text):\n",
    "    text = text.lower()  # 소문자로 변환\n",
    "    text = re.sub(r\"[^a-zA-Z0-9]+\", \" \", text)  # 특수문자 제거\n",
    "    return text.split()  # 공백 기준 토큰화\n",
    "\n",
    "tar_vocab = build_vocab(decoder_input_train)"
   ]
  },
  {
   "cell_type": "code",
   "execution_count": 37,
   "id": "54279599-d4fa-444a-9304-88641cd08c1b",
   "metadata": {},
   "outputs": [
    {
     "name": "stdout",
     "output_type": "stream",
     "text": [
      "단어 집합(vocabulary)의 크기 : 29944\n",
      "등장 빈도가 5번 이하인 희귀 단어의 수: 19717\n",
      "단어 집합에서 희귀 단어를 제외시킬 경우의 단어 집합의 크기 10227\n",
      "단어 집합에서 희귀 단어의 비율: 65.84624632647609\n",
      "전체 등장 빈도에서 희귀 단어 등장 빈도 비율: 5.921514868582527\n"
     ]
    }
   ],
   "source": [
    "threshold = 6\n",
    "\n",
    "word_counter = Counter()\n",
    "for text in decoder_input_train:\n",
    "    word_counter.update(tar_tokenizer(text))  # 각 문장의 단어 빈도 계산\n",
    "\n",
    "# 전체 단어 개수 및 등장 빈도 계산\n",
    "total_cnt = len(word_counter)  # 전체 단어 개수\n",
    "total_freq = sum(word_counter.values())  # 전체 단어 등장 횟수\n",
    "rare_cnt = sum(1 for count in word_counter.values() if count < threshold)  # 희귀 단어 개수\n",
    "rare_freq = sum(count for count in word_counter.values() if count < threshold)  # 희귀 단어 등장 횟수\n",
    "\n",
    "print('단어 집합(vocabulary)의 크기 :', total_cnt)\n",
    "print('등장 빈도가 %s번 이하인 희귀 단어의 수: %s'%(threshold - 1, rare_cnt))\n",
    "print('단어 집합에서 희귀 단어를 제외시킬 경우의 단어 집합의 크기 %s'%(total_cnt - rare_cnt))\n",
    "print(\"단어 집합에서 희귀 단어의 비율:\", (rare_cnt / total_cnt)*100)\n",
    "print(\"전체 등장 빈도에서 희귀 단어 등장 빈도 비율:\", (rare_freq / total_freq)*100)"
   ]
  },
  {
   "cell_type": "code",
   "execution_count": 38,
   "id": "52d212a8-239d-4318-9811-c8012f1e5745",
   "metadata": {},
   "outputs": [
    {
     "name": "stdout",
     "output_type": "stream",
     "text": [
      "input\n",
      "input  [[2, 152, 1363, 303, 87, 622, 869, 143, 2169, 4965], [2, 66, 35, 4251, 1, 4502, 1, 6228, 2886], [2, 363, 1, 1, 78, 2647, 25, 4038], [2, 2887, 3324, 7570, 3824, 100, 1, 1014], [2, 513, 791, 642, 1579, 1148, 2747, 1684, 7]]\n",
      "target\n",
      "decoder  [[152, 1363, 303, 87, 622, 869, 143, 2169, 4965, 3], [66, 35, 4251, 1, 4502, 1, 6228, 2886, 3], [363, 1, 1, 78, 2647, 25, 4038, 3], [2887, 3324, 7570, 3824, 100, 1, 1014, 3], [513, 791, 642, 1579, 1148, 2747, 1684, 7, 3]]\n"
     ]
    }
   ],
   "source": [
    "tar_vocab_size = 10791\n",
    "tar_vocab = build_limited_vocab(decoder_input_train + decoder_target_train, tar_vocab_size)\n",
    "\n",
    "# 텍스트 시퀀스를 정수 시퀀스로 변환\n",
    "decoder_input_train_seq = text_to_sequence(decoder_input_train, tar_vocab)\n",
    "decoder_target_train_seq = text_to_sequence(decoder_target_train, tar_vocab)\n",
    "decoder_input_valid_seq = text_to_sequence(decoder_input_valid, tar_vocab)\n",
    "decoder_target_valid_seq = text_to_sequence(decoder_target_valid, tar_vocab)\n",
    "decoder_input_test_seq = text_to_sequence(decoder_input_test, tar_vocab)\n",
    "decoder_target_test_seq = text_to_sequence(decoder_target_test, tar_vocab)\n",
    "\n",
    "# 잘 변환되었는지 확인\n",
    "print('input')\n",
    "print('input ',decoder_input_train_seq[:5])\n",
    "print('target')\n",
    "print('decoder ',decoder_target_train_seq[:5])"
   ]
  },
  {
   "cell_type": "code",
   "execution_count": 39,
   "id": "4868565c-3d8b-4c81-89fe-f198a25b9a4a",
   "metadata": {},
   "outputs": [
    {
     "name": "stdout",
     "output_type": "stream",
     "text": [
      "삭제할 훈련 데이터의 개수 : 0\n",
      "삭제할 검증 데이터의 개수 : 0\n",
      "삭제할 테스트 데이터의 개수 : 0\n",
      "훈련 데이터의 개수 : 78688\n",
      "훈련 레이블의 개수 : 78688\n",
      "검증 데이터의 개수 : 9836\n",
      "검증 레이블의 개수 : 9836\n",
      "테스트 데이터의 개수 : 9836\n",
      "테스트 레이블의 개수 : 9836\n"
     ]
    }
   ],
   "source": [
    "drop_train = [index for index, sentence in enumerate(decoder_input_train) if len(sentence) == 1]\n",
    "drop_valid = [index for index, sentence in enumerate(decoder_input_valid) if len(sentence) == 1]\n",
    "drop_test = [index for index, sentence in enumerate(decoder_input_test) if len(sentence) == 1]\n",
    "\n",
    "print('삭제할 훈련 데이터의 개수 :', len(drop_train))\n",
    "print('삭제할 검증 데이터의 개수 :', len(drop_valid))\n",
    "print('삭제할 테스트 데이터의 개수 :', len(drop_test))\n",
    "\n",
    "encoder_input_train = [sentence for index, sentence in enumerate(encoder_input_train) if index not in drop_train]\n",
    "decoder_input_train = [sentence for index, sentence in enumerate(decoder_input_train) if index not in drop_train]\n",
    "decoder_target_train = [sentence for index, sentence in enumerate(decoder_target_train) if index not in drop_train]\n",
    "\n",
    "encoder_input_valid = [sentence for index, sentence in enumerate(encoder_input_valid) if index not in drop_valid]\n",
    "decoder_input_valid = [sentence for index, sentence in enumerate(decoder_input_valid) if index not in drop_valid]\n",
    "decoder_target_valid = [sentence for index, sentence in enumerate(decoder_target_valid) if index not in drop_valid]\n",
    "\n",
    "encoder_input_test = [sentence for index, sentence in enumerate(encoder_input_test) if index not in drop_test]\n",
    "decoder_input_test = [sentence for index, sentence in enumerate(decoder_input_test) if index not in drop_test]\n",
    "decoder_target_test = [sentence for index, sentence in enumerate(decoder_target_test) if index not in drop_test]\n",
    "\n",
    "print('훈련 데이터의 개수 :', len(encoder_input_train))\n",
    "print('훈련 레이블의 개수 :', len(decoder_input_train))\n",
    "print('검증 데이터의 개수 :', len(encoder_input_valid))\n",
    "print('검증 레이블의 개수 :', len(decoder_input_valid))\n",
    "print('테스트 데이터의 개수 :', len(encoder_input_test))\n",
    "print('테스트 레이블의 개수 :', len(decoder_input_test))"
   ]
  },
  {
   "cell_type": "code",
   "execution_count": 40,
   "id": "a09b69e4-0791-404f-bb3c-0a4cff617556",
   "metadata": {},
   "outputs": [],
   "source": [
    "# 텐서 변환 함수 (리스트 → PyTorch 텐서)\n",
    "def convert_to_tensor(sequences):\n",
    "    return [torch.tensor(seq, dtype=torch.long) for seq in sequences]\n",
    "\n",
    "# 패딩 적용 함수 (PyTorch `pad_sequence()` 활용)\n",
    "def pad_sequences_pytorch(sequences, maxlen, padding_value=0):\n",
    "    sequences = convert_to_tensor(sequences)  # 리스트를 텐서로 변환\n",
    "    padded_seqs = pad_sequence(sequences, batch_first=True, padding_value=padding_value)  # 패딩 적용\n",
    "    return padded_seqs[:, :maxlen]  # maxlen 길이로 자르기 (최대 길이 초과 방지)\n",
    "\n",
    "# 패딩 적용\n",
    "encoder_input_train = pad_sequences_pytorch(encoder_input_train_seq, maxlen=text_max_len)\n",
    "encoder_input_valid = pad_sequences_pytorch(encoder_input_valid_seq, maxlen=text_max_len)\n",
    "encoder_input_test = pad_sequences_pytorch(encoder_input_test_seq, maxlen=text_max_len)\n",
    "decoder_input_train = pad_sequences_pytorch(decoder_input_train_seq, maxlen=headlines_max_len)\n",
    "decoder_target_train = pad_sequences_pytorch(decoder_target_train_seq, maxlen=headlines_max_len)\n",
    "decoder_input_valid = pad_sequences_pytorch(decoder_input_valid_seq, maxlen=headlines_max_len)\n",
    "decoder_target_valid = pad_sequences_pytorch(decoder_target_valid_seq, maxlen=headlines_max_len)\n",
    "decoder_input_test = pad_sequences_pytorch(decoder_input_test_seq, maxlen=headlines_max_len)\n",
    "decoder_target_test = pad_sequences_pytorch(decoder_target_test_seq, maxlen=headlines_max_len)"
   ]
  },
  {
   "cell_type": "code",
   "execution_count": 41,
   "id": "81fcf047-67d2-4828-af5a-f400853f5f4b",
   "metadata": {},
   "outputs": [],
   "source": [
    "# Step 3. 어텐션 메커니즘 사용하기 (추상적 요약)"
   ]
  },
  {
   "cell_type": "code",
   "execution_count": 42,
   "id": "585ac204-46a5-4920-a571-28fa32124a41",
   "metadata": {},
   "outputs": [],
   "source": [
    "CFG = {\n",
    "    'embedding_dim': 128,                  \n",
    "    'hidden_size': 256,                        \n",
    "    'num_layers': 3,                      \n",
    "    'dropout': 0.4,                            \n",
    "    'epochs': 50,                              \n",
    "    'batch_size': 128,                          \n",
    "    'learning_rate': 1e-3,                                           \n",
    "    'device': 'cuda' if torch.cuda.is_available() else 'cpu',\n",
    "    'patience': 2\n",
    "}"
   ]
  },
  {
   "cell_type": "code",
   "execution_count": 43,
   "id": "042492a4-0a6d-4022-bc5d-901cdac33109",
   "metadata": {},
   "outputs": [],
   "source": [
    "# 인코더\n",
    "class Encoder(nn.Module):\n",
    "    def __init__(self, vocab_size, embedding_dim, hidden_size, num_layers=3, dropout=0.4):\n",
    "        super(Encoder, self).__init__()\n",
    "        self.embedding = nn.Embedding(vocab_size, embedding_dim)\n",
    "        self.lstm = nn.LSTM(\n",
    "            embedding_dim, hidden_size, num_layers=num_layers,\n",
    "            dropout=dropout, batch_first=True\n",
    "        )\n",
    "\n",
    "    def forward(self, x): # 인코더의 임베딩 층\n",
    "        embedded = self.embedding(x)\n",
    "        output, (hidden, cell) = self.lstm(embedded)  # LSTM 실행\n",
    "        return output, hidden, cell\n",
    "\n",
    "# 인코더 모델 생성\n",
    "encoder = Encoder(src_vocab_size, CFG['embedding_dim'], CFG['hidden_size'], CFG['num_layers'], CFG['dropout'])"
   ]
  },
  {
   "cell_type": "code",
   "execution_count": 44,
   "id": "e3a9ea98-1c66-4c20-b4ea-03f719c644c6",
   "metadata": {},
   "outputs": [],
   "source": [
    "# 디코더 설계\n",
    "class Decoder(nn.Module):\n",
    "    def __init__(self, vocab_size, embedding_dim, hidden_size, dropout=0.4, num_layers=3):\n",
    "        super(Decoder, self).__init__()\n",
    "        self.embedding = nn.Embedding(vocab_size, embedding_dim)\n",
    "        self.lstm = nn.LSTM(\n",
    "            embedding_dim, hidden_size, num_layers=num_layers, dropout=dropout,\n",
    "            batch_first=True\n",
    "        )\n",
    "\n",
    "    def forward(self, x, hidden, cell): # 디코더의 임베딩 층\n",
    "        embedded = self.embedding(x)\n",
    "        output, (hidden, cell) = self.lstm(embedded, (hidden, cell))  # 초기 상태를 인코더에서 전달받음\n",
    "        return output, hidden, cell\n",
    "\n",
    "# 디코더 모델 생성\n",
    "decoder = Decoder(tar_vocab_size, CFG['embedding_dim'], CFG['hidden_size'], CFG['dropout'], CFG['num_layers'])"
   ]
  },
  {
   "cell_type": "code",
   "execution_count": 45,
   "id": "5926e73c-e174-4418-aefa-1598567d89ff",
   "metadata": {},
   "outputs": [
    {
     "name": "stdout",
     "output_type": "stream",
     "text": [
      "Seq2Seq(\n",
      "  (encoder): Encoder(\n",
      "    (embedding): Embedding(25689, 128)\n",
      "    (lstm): LSTM(128, 256, num_layers=3, batch_first=True, dropout=0.4)\n",
      "  )\n",
      "  (decoder): Decoder(\n",
      "    (embedding): Embedding(10791, 128)\n",
      "    (lstm): LSTM(128, 256, num_layers=3, batch_first=True, dropout=0.4)\n",
      "  )\n",
      "  (softmax_layer): Linear(in_features=256, out_features=10791, bias=True)\n",
      ")\n"
     ]
    }
   ],
   "source": [
    "# 디코더의 출력층\n",
    "class Seq2Seq(nn.Module):\n",
    "    def __init__(self, encoder, decoder, vocab_size, hidden_size):\n",
    "        super(Seq2Seq, self).__init__()\n",
    "        self.encoder = encoder\n",
    "        self.decoder = decoder\n",
    "        self.softmax_layer = nn.Linear(hidden_size, vocab_size)  # 출력층 정의\n",
    "\n",
    "    def forward(self, encoder_input, decoder_input):\n",
    "        # 인코더 실행\n",
    "        encoder_output, hidden, cell = self.encoder(encoder_input)\n",
    "\n",
    "        # 디코더 실행\n",
    "        decoder_output, _, _ = self.decoder(decoder_input, hidden, cell)\n",
    "\n",
    "        # 출력층 적용 (Softmax는 Loss 내부에서 적용되므로 생략 가능)\n",
    "        output = self.softmax_layer(decoder_output)\n",
    "        return output\n",
    "\n",
    "# 모델 정의\n",
    "model = Seq2Seq(encoder, decoder, tar_vocab_size, CFG['hidden_size'])\n",
    "print(model)"
   ]
  },
  {
   "cell_type": "code",
   "execution_count": 46,
   "id": "fef4aafd-05a8-409e-ba5b-288ed0dc383a",
   "metadata": {},
   "outputs": [
    {
     "name": "stdout",
     "output_type": "stream",
     "text": [
      "Seq2SeqWithAttention(\n",
      "  (encoder): Encoder(\n",
      "    (embedding): Embedding(25689, 128)\n",
      "    (lstm): LSTM(128, 256, num_layers=3, batch_first=True, dropout=0.4)\n",
      "  )\n",
      "  (decoder): Decoder(\n",
      "    (embedding): Embedding(10791, 128)\n",
      "    (lstm): LSTM(128, 256, num_layers=3, batch_first=True, dropout=0.4)\n",
      "  )\n",
      "  (attention): Attention_dot(\n",
      "    (attn): Linear(in_features=256, out_features=256, bias=True)\n",
      "    (v): Linear(in_features=256, out_features=1, bias=False)\n",
      "  )\n",
      "  (concat): Linear(in_features=512, out_features=256, bias=True)\n",
      "  (output_layer): Linear(in_features=256, out_features=10791, bias=True)\n",
      ")\n"
     ]
    }
   ],
   "source": [
    "class Attention_dot(nn.Module):\n",
    "    def __init__(self, hidden_size):\n",
    "        super(Attention_dot, self).__init__()\n",
    "        self.attn = nn.Linear(hidden_size, hidden_size)  # 어텐션 가중치\n",
    "        self.v = nn.Linear(hidden_size, 1, bias=False)  # 어텐션 가중치 벡터\n",
    "\n",
    "    def forward(self, decoder_output, encoder_outputs):\n",
    "        attn_weights = torch.bmm(decoder_output, encoder_outputs.transpose(1, 2))\n",
    "        attn_weights = F.softmax(attn_weights, dim=-1)  # 어텐션 가중치 정규화\n",
    "        attn_out = torch.bmm(attn_weights, encoder_outputs)\n",
    "\n",
    "        return attn_out\n",
    "\n",
    "class Seq2SeqWithAttention(nn.Module):\n",
    "    def __init__(self, encoder, decoder, vocab_size, hidden_size):\n",
    "        super(Seq2SeqWithAttention, self).__init__()\n",
    "        self.encoder = encoder\n",
    "        self.decoder = decoder\n",
    "        self.attention = Attention_dot(hidden_size)\n",
    "        self.concat = nn.Linear(hidden_size * 2, hidden_size)  # 어텐션 결합\n",
    "        self.output_layer = nn.Linear(hidden_size, vocab_size)  # 최종 출력층\n",
    "\n",
    "    def forward(self, encoder_input, decoder_input):\n",
    "        encoder_outputs, hidden, cell = self.encoder(encoder_input)\n",
    "        decoder_outputs, _, _ = self.decoder(decoder_input, hidden, cell)\n",
    "\n",
    "        # 어텐션 적용\n",
    "        attn_out = self.attention(decoder_outputs, encoder_outputs)\n",
    "\n",
    "        # 어텐션 결과와 디코더 출력 연결\n",
    "        decoder_concat_output = torch.cat((decoder_outputs, attn_out), dim=-1)\n",
    "\n",
    "        # 어텐션 결합 후 최종 출력\n",
    "        decoder_concat_output = torch.tanh(self.concat(decoder_concat_output))\n",
    "        output = self.output_layer(decoder_concat_output)\n",
    "\n",
    "        return output\n",
    "\n",
    "# 모델 생성\n",
    "model = Seq2SeqWithAttention(encoder, decoder, tar_vocab_size, CFG['hidden_size'])\n",
    "print(model)"
   ]
  },
  {
   "cell_type": "code",
   "execution_count": 47,
   "id": "afbf7e13-ae8c-4791-8271-224b95456474",
   "metadata": {},
   "outputs": [],
   "source": [
    "device = CFG['device']\n",
    "model.to(device)\n",
    "\n",
    "# Hyperparameters\n",
    "batch_size = CFG['batch_size']\n",
    "epochs = CFG['epochs']\n",
    "learning_rate = CFG['learning_rate']\n",
    "patience = CFG['patience']\n",
    "\n",
    "# 손실 함수 & 옵티마이저\n",
    "criterion = nn.CrossEntropyLoss(ignore_index=0)  # 패딩 토큰 무시\n",
    "optimizer = optim.AdamW(model.parameters(), lr=CFG['learning_rate'])\n",
    "\n",
    "# PyTorch DataLoader 설정\n",
    "train_dataset = TensorDataset(encoder_input_train, decoder_input_train, decoder_target_train)\n",
    "valid_dataset = TensorDataset(encoder_input_valid, decoder_input_valid, decoder_target_valid)\n",
    "# test_dataset = TensorDataset(encoder_input_test, decoder_input_test, decoder_target_test)\n",
    "\n",
    "train_loader = DataLoader(train_dataset, batch_size=CFG['batch_size'], shuffle=True)\n",
    "valid_loader = DataLoader(valid_dataset, batch_size=CFG['batch_size'], shuffle=False)\n",
    "# test_loader = DataLoader(test_dataset, batch_size=CFG['batch_size'], shuffle=False)"
   ]
  },
  {
   "cell_type": "code",
   "execution_count": 48,
   "id": "04fb59ea-3953-4eea-8983-e362eb44cd26",
   "metadata": {},
   "outputs": [],
   "source": [
    "train_losses = []\n",
    "val_losses = []\n",
    "\n",
    "# 학습 함수\n",
    "def train_model(model, train_loader, test_loader, criterion, optimizer, epochs, patience):\n",
    "    model.train()\n",
    "    best_val_loss = float('inf')\n",
    "    early_stop_counter = 0\n",
    "\n",
    "    for epoch in tqdm(range(epochs)):\n",
    "        total_loss = 0\n",
    "\n",
    "        for encoder_input, decoder_input, target in train_loader:\n",
    "            optimizer.zero_grad()\n",
    "\n",
    "            # 정수형 변환\n",
    "            encoder_input = encoder_input.to(device).long()\n",
    "            decoder_input = decoder_input.to(device).long()\n",
    "            target = target.to(device).long()\n",
    "\n",
    "            # 모델 실행\n",
    "            output = model(encoder_input, decoder_input)\n",
    "            output = output.view(-1, output.shape[-1])\n",
    "            target = target.view(-1)\n",
    "\n",
    "            loss = criterion(output, target)\n",
    "            loss.backward()\n",
    "            optimizer.step()\n",
    "            total_loss += loss.item()\n",
    "\n",
    "        avg_loss = total_loss / len(train_loader)\n",
    "        train_losses.append(avg_loss)\n",
    "\n",
    "        # Validation loss 계산\n",
    "        model.eval()\n",
    "        val_loss = 0\n",
    "        with torch.no_grad():\n",
    "            for encoder_input, decoder_input, target in valid_loader:\n",
    "                encoder_input = encoder_input.to(device).long()\n",
    "                decoder_input = decoder_input.to(device).long()\n",
    "                target = target.to(device).long()\n",
    "\n",
    "                output = model(encoder_input, decoder_input)\n",
    "                output = output.view(-1, output.shape[-1])\n",
    "                target = target.view(-1)\n",
    "                loss = criterion(output, target)\n",
    "\n",
    "                val_loss += loss.item()\n",
    "\n",
    "        val_loss /= len(test_loader)\n",
    "        val_losses.append(val_loss)\n",
    "        print(f\"Epoch {epoch+1}/{epochs} | Train Loss: {avg_loss:.4f} | Val Loss: {val_loss:.4f}\")\n",
    "\n",
    "        # Early Stopping 조건\n",
    "        if val_loss < best_val_loss:\n",
    "            best_val_loss = val_loss\n",
    "            early_stop_counter = 0\n",
    "        else:\n",
    "            early_stop_counter += 1\n",
    "\n",
    "        if early_stop_counter >= patience:\n",
    "            print(f\"Early stopping triggered at epoch {epoch+1}\")\n",
    "            break\n",
    "\n",
    "        model.train()"
   ]
  },
  {
   "cell_type": "code",
   "execution_count": 49,
   "id": "f36cbcc3-bc84-4910-b033-e148c63c4728",
   "metadata": {},
   "outputs": [
    {
     "name": "stderr",
     "output_type": "stream",
     "text": [
      "  2%|▏         | 1/50 [00:29<24:17, 29.74s/it]"
     ]
    },
    {
     "name": "stdout",
     "output_type": "stream",
     "text": [
      "Epoch 1/50 | Train Loss: 7.1180 | Val Loss: 6.8161\n"
     ]
    },
    {
     "name": "stderr",
     "output_type": "stream",
     "text": [
      "  4%|▍         | 2/50 [01:00<24:18, 30.39s/it]"
     ]
    },
    {
     "name": "stdout",
     "output_type": "stream",
     "text": [
      "Epoch 2/50 | Train Loss: 6.5595 | Val Loss: 6.1510\n"
     ]
    },
    {
     "name": "stderr",
     "output_type": "stream",
     "text": [
      "  6%|▌         | 3/50 [01:32<24:17, 31.00s/it]"
     ]
    },
    {
     "name": "stdout",
     "output_type": "stream",
     "text": [
      "Epoch 3/50 | Train Loss: 5.8795 | Val Loss: 5.6198\n"
     ]
    },
    {
     "name": "stderr",
     "output_type": "stream",
     "text": [
      "  8%|▊         | 4/50 [02:03<23:42, 30.92s/it]"
     ]
    },
    {
     "name": "stdout",
     "output_type": "stream",
     "text": [
      "Epoch 4/50 | Train Loss: 5.3939 | Val Loss: 5.2886\n"
     ]
    },
    {
     "name": "stderr",
     "output_type": "stream",
     "text": [
      " 10%|█         | 5/50 [02:34<23:14, 31.00s/it]"
     ]
    },
    {
     "name": "stdout",
     "output_type": "stream",
     "text": [
      "Epoch 5/50 | Train Loss: 5.0179 | Val Loss: 5.0664\n"
     ]
    },
    {
     "name": "stderr",
     "output_type": "stream",
     "text": [
      " 12%|█▏        | 6/50 [03:05<22:48, 31.10s/it]"
     ]
    },
    {
     "name": "stdout",
     "output_type": "stream",
     "text": [
      "Epoch 6/50 | Train Loss: 4.7178 | Val Loss: 4.9108\n"
     ]
    },
    {
     "name": "stderr",
     "output_type": "stream",
     "text": [
      " 14%|█▍        | 7/50 [03:36<22:16, 31.08s/it]"
     ]
    },
    {
     "name": "stdout",
     "output_type": "stream",
     "text": [
      "Epoch 7/50 | Train Loss: 4.4675 | Val Loss: 4.8026\n"
     ]
    },
    {
     "name": "stderr",
     "output_type": "stream",
     "text": [
      " 16%|█▌        | 8/50 [04:07<21:47, 31.14s/it]"
     ]
    },
    {
     "name": "stdout",
     "output_type": "stream",
     "text": [
      "Epoch 8/50 | Train Loss: 4.2514 | Val Loss: 4.7348\n"
     ]
    },
    {
     "name": "stderr",
     "output_type": "stream",
     "text": [
      " 18%|█▊        | 9/50 [04:39<21:17, 31.16s/it]"
     ]
    },
    {
     "name": "stdout",
     "output_type": "stream",
     "text": [
      "Epoch 9/50 | Train Loss: 4.0622 | Val Loss: 4.6849\n"
     ]
    },
    {
     "name": "stderr",
     "output_type": "stream",
     "text": [
      " 20%|██        | 10/50 [05:10<20:45, 31.13s/it]"
     ]
    },
    {
     "name": "stdout",
     "output_type": "stream",
     "text": [
      "Epoch 10/50 | Train Loss: 3.8959 | Val Loss: 4.6504\n"
     ]
    },
    {
     "name": "stderr",
     "output_type": "stream",
     "text": [
      " 22%|██▏       | 11/50 [05:41<20:13, 31.12s/it]"
     ]
    },
    {
     "name": "stdout",
     "output_type": "stream",
     "text": [
      "Epoch 11/50 | Train Loss: 3.7435 | Val Loss: 4.6330\n"
     ]
    },
    {
     "name": "stderr",
     "output_type": "stream",
     "text": [
      " 24%|██▍       | 12/50 [06:12<19:42, 31.13s/it]"
     ]
    },
    {
     "name": "stdout",
     "output_type": "stream",
     "text": [
      "Epoch 12/50 | Train Loss: 3.6047 | Val Loss: 4.6192\n"
     ]
    },
    {
     "name": "stderr",
     "output_type": "stream",
     "text": [
      " 26%|██▌       | 13/50 [06:43<19:12, 31.14s/it]"
     ]
    },
    {
     "name": "stdout",
     "output_type": "stream",
     "text": [
      "Epoch 13/50 | Train Loss: 3.4770 | Val Loss: 4.6261\n"
     ]
    },
    {
     "name": "stderr",
     "output_type": "stream",
     "text": [
      " 26%|██▌       | 13/50 [07:14<20:36, 33.43s/it]"
     ]
    },
    {
     "name": "stdout",
     "output_type": "stream",
     "text": [
      "Epoch 14/50 | Train Loss: 3.3573 | Val Loss: 4.6450\n",
      "Early stopping triggered at epoch 14\n"
     ]
    },
    {
     "name": "stderr",
     "output_type": "stream",
     "text": [
      "\n"
     ]
    }
   ],
   "source": [
    "# 학습 실행\n",
    "train_model(model, train_loader, valid_loader, criterion, optimizer, epochs=CFG['epochs'], patience=CFG['patience'])"
   ]
  },
  {
   "cell_type": "code",
   "execution_count": 50,
   "id": "5080e04c-e3b5-48e7-b6b9-13ddf5e52f04",
   "metadata": {},
   "outputs": [
    {
     "data": {
      "image/png": "[encoded data removed]",
      "text/plain": [
       "<Figure size 640x480 with 1 Axes>"
      ]
     },
     "metadata": {},
     "output_type": "display_data"
    }
   ],
   "source": [
    "plt.plot(range(len(train_losses)), train_losses, label='Train Loss')\n",
    "plt.plot(range(len(val_losses)), val_losses, label='Validation Loss')\n",
    "plt.legend()\n",
    "plt.xlabel(\"Epochs\")\n",
    "plt.ylabel(\"Loss\")\n",
    "plt.title(\"Training and Validation Loss\")\n",
    "plt.show()"
   ]
  },
  {
   "cell_type": "code",
   "execution_count": 51,
   "id": "a2ee954b-db84-42c8-bdd5-3cf38330bc52",
   "metadata": {},
   "outputs": [],
   "source": [
    "src_index_to_word = {idx: word for word, idx in src_vocab.items()} # 원문 단어 집합에서 정수 -> 단어를 얻음\n",
    "tar_word_to_index = tar_vocab # 요약 단어 집합에서 단어 -> 정수를 얻음\n",
    "tar_index_to_word = {idx: word for word, idx in tar_vocab.items()} # 요약 단어 집합에서 정수 -> 단어를 얻음"
   ]
  },
  {
   "cell_type": "code",
   "execution_count": 52,
   "id": "31983bf0-6dfc-4a0a-8282-4acfd35e242a",
   "metadata": {},
   "outputs": [],
   "source": [
    "decoder.to(device)\n",
    "\n",
    "# 인코더 설계\n",
    "def encode_input(encoder, input_seq):\n",
    "    encoder_outputs, hidden, cell = encoder(input_seq)\n",
    "    return encoder_outputs, hidden, cell\n",
    "\n",
    "# 이전 시점의 상태들을 저장하는 텐서\n",
    "num_layers = CFG['num_layers']  # 디코더 LSTM 레이어 개수 (설정에 맞춰 조정)\n",
    "hidden_size = CFG['hidden_size']\n",
    "batch_size = 1\n",
    "\n",
    "decoder_state_input_h = torch.zeros((num_layers, batch_size, hidden_size), dtype=torch.float, device=device)\n",
    "decoder_state_input_c = torch.zeros((num_layers, batch_size, hidden_size), dtype=torch.float, device=device)\n",
    "decoder_input = torch.zeros((batch_size, 1), dtype=torch.long, device=device)\n",
    "\n",
    "dec_emb2 = decoder.embedding(decoder_input)\n",
    "\n",
    "# 문장의 다음 단어를 예측하기 위해서 초기 상태(initial_state)를 이전 시점의 상태로 사용. 이는 뒤의 함수 decode_sequence()에 구현\n",
    "# 훈련 과정에서와 달리 LSTM의 리턴하는 은닉 상태와 셀 상태인 state_h와 state_c를 버리지 않음.\n",
    "decoder_outputs2, state_h2, state_c2 = decoder(decoder_input, decoder_state_input_h, decoder_state_input_c)"
   ]
  },
  {
   "cell_type": "code",
   "execution_count": 53,
   "id": "32b1bf53-2a92-4492-8d35-f0432491faf1",
   "metadata": {},
   "outputs": [],
   "source": [
    "class DecoderWithAttention(nn.Module):\n",
    "    def __init__(self, decoder, attention, hidden_size, vocab_size):\n",
    "        super(DecoderWithAttention, self).__init__()\n",
    "        self.decoder = decoder  # 기존 디코더\n",
    "        self.attention = attention  # 어텐션 레이어\n",
    "        self.concat = nn.Linear(hidden_size * 2, hidden_size)  # 어텐션 결합 레이어\n",
    "        self.output_layer = nn.Linear(hidden_size, vocab_size)  # 최종 출력층\n",
    "        self.softmax = nn.Softmax(dim=-1)  # 소프트맥스\n",
    "\n",
    "    def forward(self, decoder_inputs, decoder_hidden_state, decoder_state_h, decoder_state_c):\n",
    "        # 디코더 실행\n",
    "        decoder_outputs, state_h, state_c = self.decoder(decoder_inputs, decoder_state_h, decoder_state_c)\n",
    "\n",
    "        # 어텐션 적용\n",
    "        attn_out = self.attention(decoder_outputs, decoder_hidden_state)\n",
    "\n",
    "        # 어텐션과 디코더 출력 결합\n",
    "        decoder_concat_output = torch.cat((decoder_outputs, attn_out), dim=-1)\n",
    "        decoder_concat_output = torch.tanh(self.concat(decoder_concat_output))\n",
    "\n",
    "        # 최종 출력층 적용\n",
    "        decoder_outputs2 = self.softmax(self.output_layer(decoder_concat_output))\n",
    "\n",
    "        return decoder_outputs2, state_h, state_c\n",
    "\n",
    "# 기존 Attention 클래스 사용\n",
    "attention_layer = Attention_dot(hidden_size)\n",
    "\n",
    "# 디코더 모델 생성\n",
    "decoder_model = DecoderWithAttention(decoder, attention_layer, hidden_size, tar_vocab_size)"
   ]
  },
  {
   "cell_type": "code",
   "execution_count": 54,
   "id": "e351ed6b-f61e-4707-b879-375f23a27203",
   "metadata": {},
   "outputs": [],
   "source": [
    "def decode_sequence(input_seq, encoder, decoder, tar_word_to_index, tar_index_to_word, text_max_len, summary_max_len, device):\n",
    "    # 입력을 PyTorch Tensor로 변환\n",
    "    input_seq = torch.tensor(input_seq, dtype=torch.long, device=device)\n",
    "\n",
    "    # 인코더 실행하여 초기 상태(hidden, cell) 얻기\n",
    "    with torch.no_grad():\n",
    "        e_out, e_h, e_c = encoder(input_seq)\n",
    "\n",
    "    e_out = e_out.repeat(1, text_max_len, 1)  # 차원 조정 (np.tile 대신 repeat 사용)\n",
    "\n",
    "    # <SOS>에 해당하는 토큰 생성\n",
    "    target_seq = torch.zeros((1, 1), dtype=torch.long, device=device)\n",
    "    target_seq[0, 0] = tar_word_to_index['sostoken']\n",
    "\n",
    "    stop_condition = False\n",
    "    decoded_sentence = ''\n",
    "\n",
    "    while not stop_condition:\n",
    "        # 디코더 실행\n",
    "        with torch.no_grad():\n",
    "            output_tokens, h, c = decoder(target_seq, e_h, e_c)\n",
    "\n",
    "        # 가장 높은 확률을 가진 단어 선택\n",
    "        sampled_token_index = torch.argmax(output_tokens[0, -1, :]).item()\n",
    "        sampled_token = tar_index_to_word[sampled_token_index]\n",
    "\n",
    "        if sampled_token != 'eostoken':\n",
    "            decoded_sentence += ' ' + sampled_token\n",
    "\n",
    "        # 종료 조건: <eos>에 도달하거나 최대 길이를 초과하면 중단\n",
    "        if sampled_token == 'eostoken' or len(decoded_sentence.split()) >= (summary_max_len - 1):\n",
    "            stop_condition = True\n",
    "\n",
    "        # 길이가 1인 타겟 시퀀스를 업데이트\n",
    "        target_seq = torch.zeros((1, 1), dtype=torch.long, device=device)\n",
    "        target_seq[0, 0] = sampled_token_index\n",
    "\n",
    "        # 상태 업데이트\n",
    "        e_h, e_c = h, c\n",
    "\n",
    "    return decoded_sentence"
   ]
  },
  {
   "cell_type": "code",
   "execution_count": 55,
   "id": "fced301a-d628-456b-ba4a-63932fb5ee4a",
   "metadata": {},
   "outputs": [],
   "source": [
    "# 원문의 정수 시퀀스를 텍스트 시퀀스로 변환\n",
    "def seq2text(input_seq):\n",
    "    temp = ''\n",
    "    for i in input_seq:\n",
    "        key = int(i.item())  # PyTorch Tensor → int 변환\n",
    "        if key != 0:  # 패딩(0) 제외\n",
    "            temp = temp + src_index_to_word.get(key, \"<UNK>\") + ' '  # 안전한 조회\n",
    "    return temp.strip()\n",
    "\n",
    "# 요약문의 정수 시퀀스를 텍스트 시퀀스로 변환\n",
    "def seq2headlines(input_seq):\n",
    "    temp = ''\n",
    "    for i in input_seq:\n",
    "        key = int(i.item())  # PyTorch Tensor → int 변환\n",
    "        if key != 0 and key != tar_word_to_index['sostoken'] and key != tar_word_to_index['eostoken']:\n",
    "            temp = temp + tar_index_to_word.get(key, \"<UNK>\") + ' '  # 안전한 조회\n",
    "    return temp.strip()  # 양쪽 공백 제거"
   ]
  },
  {
   "cell_type": "code",
   "execution_count": 56,
   "id": "e6675210-b679-4add-8149-c271276dcfa8",
   "metadata": {},
   "outputs": [
    {
     "name": "stdout",
     "output_type": "stream",
     "text": [
      "원문 : former personal assistant chinese born billionaire guo <UNK> filed million lawsuit new york accusing raping year old woman said lured new york guise one week business trip said held captive subjected repeated acts mental cruelty sexual violence\n",
      "실제 요약 : chinese billionaire sued crore raping assistant\n",
      "예측 요약 :  dead post space students pic money money money show show show show show show\n",
      "\n",
      "\n",
      "원문 : uttar pradesh mughalsarai railway station renamed deen dayal upadhyay railway station bid revive legacy pandit upadhyay found dead near station centre approval uttar pradesh government proposal rename station attracted criticism opposition rajya sabha earlier year\n",
      "실제 요약 : <UNK> station renamed <UNK> <UNK> <UNK> station\n",
      "예측 요약 :  dead post like students like ever money money singh two ceo last kohli show\n",
      "\n",
      "\n",
      "원문 : uttar pradesh chief minister yogi adityanath wednesday said bjp put good fight leadership prime minister narendra modi rajasthan madhya pradesh assembly elections calling victory defeat two sides coin called democracy added congress lies start <UNK> soon make future battles even easier\n",
      "실제 요약 : bjp put good fight assembly polls cm yogi\n",
      "예측 요약 :  dead highest highest highest students crore actor actor mp two show show show show\n",
      "\n",
      "\n",
      "원문 : mangal prabhat lodha founder lodha group topped <UNK> hurun india real estate rich list wealth crore lodha whose firm constructing storey trump tower mumbai bjp mla mumbai malabar hill jitendra <UNK> bengaluru embassy group follows lodha wealth crore\n",
      "실제 요약 : bjp mla <UNK> india richest property tycoon bn wealth\n",
      "예측 요약 :  dead space flight old cup case top pay life help show show police police\n",
      "\n",
      "\n",
      "원문 : serbia gay pm <UNK> <UNK> sunday became first head government balkan country take part lgbt pride march serbian government citizens majority minority show respects diversity <UNK> first gay person well first woman lead serbia said\n",
      "실제 요약 : serbia gay pm st <UNK> head attend lgbt pride parade\n",
      "예측 요약 :  dead post like students pic money money money cannot show show show show show\n",
      "\n",
      "\n",
      "원문 : bengaluru based food tech startup freshmenu raised crore media conglomerate bennett coleman company according filings last year startup raised crore series funding round founded iim ahmedabad alumni rashmi <UNK> freshmenu lets users order meals prepared house chefs\n",
      "실제 요약 : food tech startup <UNK> raises crore\n",
      "예측 요약 :  dead post old students old ever ever money money year help show ceo ceo\n",
      "\n",
      "\n",
      "원문 : indian ethical hacker anand prakash revealed awarded lakh twitter last year discovering bug let tweet account microblogging platform bug also allowed post videos photos delete ones already posted twitter account also let access private files uploaded twitter\n",
      "실제 요약 : indian rewarded lakh discovering twitter bug\n",
      "예측 요약 :  dead post like students pic money money money cannot show show show show show\n",
      "\n",
      "\n",
      "원문 : eight months living isolation near world largest active volcano hawaii six member crew emerged mars like habitat sunday nasa funded study aimed understanding long term space mission psychological effects astronauts isolation crew wore <UNK> shared sq meter habitat minute communication delay outside world\n",
      "실제 요약 : nasa backed team returns month <UNK> near volcano\n",
      "예측 요약 :  dead post like students like asks like state singh mp ceo ceo ceo mn\n",
      "\n",
      "\n",
      "원문 : indian men doubles team <UNK> <UNK> chirag shetty women doubles team ashwini <UNK> <UNK> reddy lost respective finals syed modi international badminton championships notably indian men women doubles team ever title syed modi international badminton championships\n",
      "실제 요약 : indian men women doubles teams lose <UNK> modi finals\n",
      "예측 요약 :  dead space like like court face state state money money kohli last life life\n",
      "\n",
      "\n",
      "원문 : video shows delivery van crashing blue truck driver allegedly fell asleep wheel ukraine video van seen <UNK> line crashing truck towing trailer <UNK> drivers colliding vehicles escaped without major injury\n",
      "실제 요약 : man <UNK> escape falling asleep driving\n",
      "예측 요약 :  dead post like students like ever money money cannot two show show show gst\n",
      "\n",
      "\n",
      "원문 : twitter users across uk us shared images jupiter venus <UNK> monday wherein two planets appeared side side sky <UNK> telescopes also reported seeing four jupiter moons venus appeared much larger brighter lies around million km closer earth compared jupiter\n",
      "실제 요약 : twitter users share photos jupiter venus <UNK>\n",
      "예측 요약 :  dead post pic students video video money money cannot two show show show show\n",
      "\n",
      "\n",
      "원문 : haryana cabinet chaired cm manohar lal khattar approved death penalty guilty raping girls aged years crime also punishable least years jail may extended life term fine levied accused used victim medical expenses\n",
      "실제 요약 : yana cabinet clears death penalty raping girls\n",
      "예측 요약 :  dead post like students pic money money money cannot show show show show show\n",
      "\n",
      "\n",
      "원문 : actress twinkle khanna said upcoming film pad man first production venture bring awareness menstruation far <UNK> shamed topic wonderful project happy part film added twinkle film stars husband akshay kumar actress radhika apte\n",
      "실제 요약 : pad man <UNK> light shamed <UNK> <UNK> twinkle\n",
      "예측 요약 :  dead space wife pic like launches <UNK> like kohli high life show gst show\n",
      "\n",
      "\n",
      "원문 : national green tribunal slapped fines lakh three industrial units uttar pradesh discharging untreated <UNK> ganga river extracting ground water without permission also issued notice pollution control board show cause action taken erring officials granted consent industries\n",
      "실제 요약 : ngt fines industries uttar pradesh <UNK> ganga\n",
      "예측 요약 :  dead post like students like ever money money singh two ceo last kohli show\n",
      "\n",
      "\n",
      "원문 : fir registered hostel warden government school uttar pradesh muzaffarnagar allegedly stripping girls naked check menstruating per reports warden ordered students remove clothes upset blood stains left toilet seat\n",
      "실제 요약 : fir warden stripped girls check period blood\n",
      "예측 요약 :  dead post like students pic money money money cannot show show show show show\n",
      "\n",
      "\n",
      "원문 : dubai mumbai air sector country busiest foreign route passenger flow lakh according government data uae constituted almost half international seats india primarily led migrant workers business market middle east dubai mumbai sector followed dubai delhi dubai kochi sectors\n",
      "실제 요약 : dubai mumbai busiest int route lakh passenger flow\n",
      "예측 요약 :  dead post like students like asks like state money singh show gst gst show\n",
      "\n",
      "\n",
      "원문 : icici bank friday posted net loss crore june quarter first ever quarterly loss reported lender since least according bloomberg bank posted profit crore corresponding quarter last fiscal bank net interest income core income operations rose crore\n",
      "실제 요약 : icici bank posts first ever loss since crore\n",
      "예측 요약 :  dead post old students old ever ever money year seeks show show show show\n",
      "\n",
      "\n",
      "원문 : anna hazare indefinite hunger strike delhi reportedly lost kg sunday three days fasting three people fasting fainted exhaustion hazare protesting farmers rights electoral reforms lokpal centre <UNK> every state\n",
      "실제 요약 : anna hazare loses kg three days hunger strike\n",
      "예측 요약 :  dead post like students like asks money like cr life show gst police gst\n",
      "\n",
      "\n",
      "원문 : indian opener rohit sharma captain virat kohli slammed hundred new zealand third odi sunday become year top two odi run scorers sharma <UNK> th odi ton overtaking joe root become second highest run scorer odis behind kohli slammed nd century crossed odi runs year\n",
      "실제 요약 : kohli sharma score tons become top odi scorers\n",
      "예측 요약 :  dead space flight mn priyanka top salman salman year help show show gst gst\n",
      "\n",
      "\n",
      "원문 : walmart india said expects set wholesale cash carry stores across uttar pradesh store likely create direct indirect jobs resulting least local jobs state said walmart india walmart india currently operates stores brand name best price nine states including four\n",
      "실제 요약 : walmart plans create jobs new stores\n",
      "예측 요약 :  dead post highest students like like like like like like made made kohli mp\n",
      "\n",
      "\n",
      "원문 : actor ranbir kapoor penned special letter shah rukh khan wife gauri khan thank designing home letter shared gauri instagram gauri interior designer designed ranbir kapoor house bandra mumbai ranbir reportedly move new home month october\n",
      "실제 요약 : ranbir kapoor pens special letter srk wife gauri khan\n",
      "예측 요약 :  dead post old highest pic like crore like launches kohli mp year last show\n",
      "\n",
      "\n",
      "원문 : talking daughter sara ali khan starring karan johar upcoming production simmba saif ali khan said quite involved getting board karan added happy good film karan afford take backseat saif said needs\n",
      "실제 요약 : helped sara get board karan johar simmba saif\n",
      "예측 요약 :  highest russia highest highest crore crore actor actor mp mp year last show show\n",
      "\n",
      "\n",
      "원문 : new zealand banned watching netflix drama reasons without supervision adult amid complaints series <UNK> suicide average two youngsters commit suicide every week new zealand created new censorship category address concerns show show teenager sexual assault suicide\n",
      "실제 요약 : nz bans kids watching reasons without adults\n",
      "예측 요약 :  dead post like students pic money money money cannot show show show show show\n",
      "\n",
      "\n",
      "원문 : google search app ios introduced new feature show user searches trending tap search box feature also provides instant answers user types query google included opt option users gave negative reviews feature introduced android last year\n",
      "실제 요약 : google search app ios gets trending searches feature\n"
     ]
    },
    {
     "name": "stderr",
     "output_type": "stream",
     "text": [
      "/tmp/ipykernel_2296/518603636.py:4: UserWarning: To copy construct from a tensor, it is recommended to use sourceTensor.detach().clone() or sourceTensor.detach().clone().requires_grad_(True), rather than torch.tensor(sourceTensor).\n",
      "  input_seq = torch.tensor(encoder_input_test[i], dtype=torch.long, device=device).unsqueeze(0)\n",
      "/tmp/ipykernel_2296/3400655303.py:3: UserWarning: To copy construct from a tensor, it is recommended to use sourceTensor.detach().clone() or sourceTensor.detach().clone().requires_grad_(True), rather than torch.tensor(sourceTensor).\n",
      "  input_seq = torch.tensor(input_seq, dtype=torch.long, device=device)\n"
     ]
    },
    {
     "name": "stdout",
     "output_type": "stream",
     "text": [
      "예측 요약 :  reports pic used pic pic court would two pay kohli high show show show\n",
      "\n",
      "\n",
      "원문 : team india chief selector msk prasad said karnataka batsman mayank agarwal scored record plus runs domestic cricket last season get due soon identified potential mayank keeping track time done well prasad added prasad said team india players rested windies series\n",
      "실제 요약 : mayank agarwal get due soon team india chief selector\n",
      "예측 요약 :  highest post highest highest students highest crore actor facebook two year last back show\n",
      "\n",
      "\n",
      "원문 : india third targeted country phishing scams according <UNK> quarterly fraud report january march period phishing accounted cyber attacks us canada brazil top countries targeted phishing mobile app fraud transactions increased past three years report added\n",
      "실제 요약 : india rd targeted country <UNK> scams report\n",
      "예측 요약 :  dead post like students like asks like like state singh mp gst gst show\n",
      "\n",
      "\n",
      "원문 : journalist released years old picture former us president barack obama nation islam leader louis <UNK> <UNK> muhammad said kept photograph secret could damaged obama political career <UNK> accused making anti semitic anti white statements past\n",
      "실제 요약 : journo releases pic could cost obama career\n",
      "예측 요약 :  dead post like students like kills like like launches kohli mp year last show\n",
      "\n",
      "\n",
      "원문 : british prime minister theresa may friday said form government supported northern ireland democratic <UNK> party ruling conservative party failed retain majority snap general elections adding government provide stability lead britain eu may said continue work friends allies\n",
      "실제 요약 : form new government uk pm theresa may\n",
      "예측 요약 :  dead post pic like students like asks like like kohli mp year show show\n",
      "\n",
      "\n",
      "원문 : reliance industries chairman mukesh ambani daughter isha ambani featured cover february edition vogue india dressed white shirt dress black <UNK> skirt australian designer toni <UNK> <UNK> look <UNK> ring cover story isha spoken work life marriage\n",
      "실제 요약 : isha ambani features february cover vogue magazine\n",
      "예측 요약 :  reports dead food old family pic money money money show show show show show\n",
      "\n",
      "\n",
      "원문 : answering school student question state affairs parliamentary constituency amethi congress president rahul gandhi said cm yogi governs amethi work enact laws lok sabha questioned improper implementation laws villages rahul asked students question prime minister narendra modi instead\n",
      "실제 요약 : cm yogi <UNK> amethi enact laws lok sabha rahul\n",
      "예측 요약 :  dead highest highest highest students pic film two singh last back life show show\n",
      "\n",
      "\n",
      "원문 : us president donald trump slammed leaking information white house calling traitors cowards find trump added comes staffer revealed white house aide mocked cancer stricken us senator john mccain opposition cia director nominee gina haspel saying matter dying anyway\n",
      "실제 요약 : us president trump calls white house <UNK> <UNK>\n",
      "예측 요약 :  dead post like students like kills like like like kohli mp kohli two life\n",
      "\n",
      "\n",
      "원문 : sushant singh rajput launching initiative provide free education underprivileged children talking said team working selecting group schools children take merit test pass provided free education year added process encourage kids study\n",
      "실제 요약 : sushant provide free education underprivileged kids\n",
      "예측 요약 :  dead post like students like asks like like launches singh mp ceo ceo ceo\n",
      "\n",
      "\n",
      "원문 : cryptocurrency <UNK> price plunged company behind accidentally tweeted cryptocurrency <UNK> company announced would give away cryptocurrency valentine day later apologised saying one employees among winners chosen randomly software <UNK> tweeted wrong profile\n",
      "실제 요약 : crypto crashes firm tweets <UNK>\n",
      "예측 요약 :  dead post pic students video money money money show show show show show show\n",
      "\n",
      "\n",
      "원문 : india meteorological department officials saturday warned heavy rainfall mumbai konkan regions next two days flights delayed three cancelled due adverse weather conditions regional meteorological centre mumbai urged people stay indoors navy officers stationed across city precautionary measure\n",
      "실제 요약 : heavy rainfall predicted mumbai next days imd\n",
      "예측 요약 :  dead post like students like asks like state singh mp ceo ceo ceo mn\n",
      "\n",
      "\n",
      "원문 : late actor raj kapoor mera naam joker sangam last two films shown delhi year old regal cinema hall shut march cinema hall located connaught place said favourite raj kapoor building converted multiplex soon\n",
      "실제 요약 : mera naam joker <UNK> last films screened <UNK>\n",
      "예측 요약 :  reports dead dead president two ipl money money show show show show gst gst\n",
      "\n",
      "\n",
      "원문 : winning gold medal alpine skiing winter olympics czech <UNK> skier <UNK> <UNK> asked cameraman happened must mistake going switch time others added year old beat austria anna <UNK> seconds win super event alpine skiing\n",
      "실제 요약 : must mistake <UNK> winning gold skiing\n",
      "예측 요약 :  dead post russia students name hit pay cong seeks life kohli last kohli life\n",
      "\n",
      "\n",
      "원문 : indian representative manushi chhillar became sixth woman india crowned miss world declared year winner beauty pageant year old medical student haryana spread awareness menstrual hygiene india part pageant manushi also outdoor sports <UNK> trained indian classical dancer\n",
      "실제 요약 : miss world manushi chhillar\n",
      "예측 요약 :  dead space flight new saudi users two modi modi year help show ceo ceo\n",
      "\n",
      "\n",
      "원문 : india trade deficit widened billion may highest two half years higher gold imports government data showed thursday trade deficit billion april additionally also ninth consecutive month rise exports sectors showing increase exports\n",
      "실제 요약 : india trade deficit widens month high bn\n",
      "예측 요약 :  dead post like students like asks like cannot kohli shah two gst show show\n",
      "\n",
      "\n",
      "원문 : seeking foreign minister sushma swaraj help visa issue twitter user posted please help visa commit suicide get problem across replying woman query swaraj tweeted aap haar mat <UNK> mujhe apni <UNK> <UNK>\n",
      "실제 요약 : kill visa issue tweets user swaraj\n",
      "예측 요약 :  dead post like students pic pic pic asks money singh show show show show\n",
      "\n",
      "\n",
      "원문 : technology <UNK> marques <UNK> tuesday pointed apple music used android device promote music album american singer ariana grande responding user tweeted marques got someone fired another tweet read apple music also android youtuber earlier highlighted anushka sharma promoting google pixel camera via iphone\n",
      "실제 요약 : apple music uses android phone promotion twitter\n",
      "예측 요약 :  reports dead dead pic court money money money show show show show show show\n",
      "\n",
      "\n",
      "원문 : european space agency created detailed map ever <UNK> oceanic <UNK> generated earth <UNK> earth magnetic field majorly generated within outer core small fraction comes <UNK> rocks crust upper mantle <UNK> magnetic field times weaker global magnetic field satellite altitude\n",
      "실제 요약 : second magnetic field created earth <UNK> found\n",
      "예측 요약 :  dead post like students like ever money money cannot two show show show gst\n",
      "\n",
      "\n",
      "원문 : ousted nissan chairman carlos ghosn offered wear electronic monitoring ankle tag give passport pay security guards approved prosecutors gain release detention bail year old custody since arrest november due bail hearing monday earlier request denied\n",
      "실제 요약 : sacked nissan chairman offers wear electronic <UNK> tag bail\n",
      "예측 요약 :  dead post like students pic like asks money singh shah year help show show\n",
      "\n",
      "\n",
      "원문 : madhya pradesh mla vishwas sarang monday inspected construction railway overbridge <UNK> congress leader digvijaya singh posted image damaged metro pillar pakistan claimed bhopal digvijaya later apologised tweet adding verify image receiving friend\n",
      "실제 요약 : mla mocks digvijaya tweet <UNK> bridge <UNK>\n",
      "예측 요약 :  dead space pic pic pic court court two shares kohli show year help show\n",
      "\n",
      "\n",
      "원문 : police complaint filed goa temple denying entry year old wheelchair bound girl girl mother alleged temple trustee refused let wheelchair taken inside saying vehicles allowed inside however temple authorities refuted allegations reasoning facility take wheelchair inside temple\n",
      "실제 요약 : complaint filed temple denying entry disabled girl\n",
      "예측 요약 :  dead post like students pic like state money singh two life life show show\n",
      "\n",
      "\n",
      "원문 : total number registered voters country highest polling station <UNK> himachal pradesh <UNK> <UNK> gone voters assembly elections year election state smallest polling booth ka <UNK> registered six voters voters\n",
      "실제 요약 : voter count india highest polling station\n",
      "예측 요약 :  dead post like students like ever money money mp face gst show show show\n",
      "\n",
      "\n",
      "원문 : rd edition mann ki baat programme prime minister narendra modi said baba saheb dr ambedkar stressed lord buddha great inspiration social philosophy adding sought blessings lord buddha entire world pm modi said lord buddha <UNK> <UNK> peace harmony brotherhood\n",
      "실제 요약 : lord buddha inspiration ambedkar pm modi\n",
      "예측 요약 :  highest post highest highest highest crore crore actor mp mp mp ceo two show\n",
      "\n",
      "\n",
      "원문 : enforcement directorate attached assets worth crore three year tenure chief karnal singh retires sunday officials said agency filed around <UNK> connection money laundering probes period government saturday appointed indian revenue service officer sanjay kumar mishra interim ed chief\n",
      "실제 요약 : <UNK> <UNK> attached assets worth cr yrs\n",
      "예측 요약 :  dead space pic pic launch ipl like singh money life life show gst life\n",
      "\n",
      "\n",
      "원문 : year old man owned restaurant gurugram tuesday jumped seventh floor building restaurant located man reported depressed went seventh floor twice jumping eyewitness told police restaurateur declared brought dead hospital suicide note recovered\n",
      "실제 요약 : restaurant owner jumps th floor gurugram building\n",
      "예측 요약 :  dead post like students fake ever money money woman show show gst show show\n",
      "\n",
      "\n",
      "원문 : asteroid measuring metres width flew past earth speed kmph wednesday early morning asteroid wc made closest approach km antarctica half distance earth moon flyby closest approach asteroid make least two centuries said nasa\n",
      "실제 요약 : asteroid zooms past earth half distance moon\n",
      "예측 요약 :  dead post like students like ever like self money cannot gst show show gst\n",
      "\n",
      "\n",
      "원문 : royal air force become first branch britain military open every role female personnel women serve raf regiment air force ground fighting force whose main role protect raf bases <UNK> decision comes britain lifted ban women serving combat roles last year\n",
      "실제 요약 : air force becomes st military branch uk open women\n",
      "예측 요약 :  dead post like students pic money money money cannot show show show show show\n",
      "\n",
      "\n"
     ]
    }
   ],
   "source": [
    "for i in range(50, 100):\n",
    "    print(\"원문 :\", seq2text(encoder_input_test[i]))\n",
    "    print(\"실제 요약 :\", seq2headlines(decoder_input_test[i]))\n",
    "    input_seq = torch.tensor(encoder_input_test[i], dtype=torch.long, device=device).unsqueeze(0)\n",
    "    print(\"예측 요약 :\", decode_sequence(input_seq, encoder, decoder, tar_word_to_index, tar_index_to_word, text_max_len, headlines_max_len, device))\n",
    "    print(\"\\n\")"
   ]
  },
  {
   "cell_type": "code",
   "execution_count": 57,
   "id": "bc2e98c6-ac8f-4843-be13-f82f36fd83ce",
   "metadata": {},
   "outputs": [],
   "source": [
    "# Step 5. Summa을 이용해서 추출적 요약해보기"
   ]
  },
  {
   "cell_type": "code",
   "execution_count": 58,
   "id": "6cb2663d-e8d3-4241-ad45-71d22d62f8a2",
   "metadata": {},
   "outputs": [],
   "source": [
    "urllib.request.urlretrieve(\"https://raw.githubusercontent.com/sunnysai12345/News_Summary/master/news_summary_more.csv\", filename=\"news_summary_more.csv\")\n",
    "new_data = pd.read_csv('news_summary_more.csv', encoding='iso-8859-1')"
   ]
  },
  {
   "cell_type": "code",
   "execution_count": 59,
   "id": "63b75977-ac32-42bb-9d29-72f3a0f425ec",
   "metadata": {},
   "outputs": [
    {
     "name": "stdout",
     "output_type": "stream",
     "text": [
      "원문 : Saurav Kant, an alumnus of upGrad and IIIT-B's PG Program in Machine learning and Artificial Intelligence, was a Sr Systems Engineer at Infosys with almost 5 years of work experience. The program and upGrad's 360-degree career support helped him transition to a Data Scientist at Tech Mahindra with 90% salary hike. upGrad's Online Power Learning has powered 3 lakh+ careers.\n",
      "실제 요약 : upgrad learner switches career ml al salary hike\n",
      "Summa 요약 : upGrad's Online Power Learning has powered 3 lakh+ careers.\n",
      "\n",
      "\n",
      "원문 : Kunal Shah's credit card bill payment platform, CRED, gave users a chance to win free food from Swiggy for one year. Pranav Kaushik, a Delhi techie, bagged this reward after spending 2000 CRED coins. Users get one CRED coin per rupee of bill paid, which can be used to avail rewards from brands like Ixigo, BookMyShow, UberEats, Cult.Fit and more.\n",
      "실제 요약 : delhi techie wins free food swiggy one year cred\n",
      "Summa 요약 : Users get one CRED coin per rupee of bill paid, which can be used to avail rewards from brands like Ixigo, BookMyShow, UberEats, Cult.Fit and more.\n",
      "\n",
      "\n",
      "원문 : New Zealand defeated India by 8 wickets in the fourth ODI at Hamilton on Thursday to win their first match of the five-match ODI series. India lost an international match under Rohit Sharma's captaincy after 12 consecutive victories dating back to March 2018. The match witnessed India getting all out for 92, their seventh lowest total in ODI cricket history.\n",
      "실제 요약 : new zealand end rohit sharma led india match winning streak\n",
      "Summa 요약 : The match witnessed India getting all out for 92, their seventh lowest total in ODI cricket history.\n",
      "\n",
      "\n",
      "원문 : With Aegon Life iTerm Insurance plan, customers can enjoy tax benefits on your premiums paid and save up to Ã¢ÂÂ¹46,800^ on taxes. The plan provides life cover up to the age of 100 years. Also, customers have options to insure against Critical Illnesses, Disability and Accidental Death Benefit Rider with a life cover up to the age of 80 years.\n",
      "실제 요약 : aegon life iterm insurance plan helps customers save tax\n",
      "Summa 요약 : Also, customers have options to insure against Critical Illnesses, Disability and Accidental Death Benefit Rider with a life cover up to the age of 80 years.\n",
      "\n",
      "\n",
      "원문 : Speaking about the sexual harassment allegations against Rajkumar Hirani, Sonam Kapoor said, \"I've known Hirani for many years...What if it's not true, the [#MeToo] movement will get derailed.\" \"In the #MeToo movement, I always believe a woman. But in this case, we need to reserve our judgment,\" she added. Hirani has been accused by an assistant who worked in 'Sanju'.\n",
      "실제 요약 : known hirani yrs metoo claims true sonam\n",
      "Summa 요약 : Speaking about the sexual harassment allegations against Rajkumar Hirani, Sonam Kapoor said, \"I've known Hirani for many years...What if it's not true, the [#MeToo] movement will get derailed.\" \"In the #MeToo movement, I always believe a woman.\n",
      "\n",
      "\n",
      "원문 : Pakistani singer Rahat Fateh Ali Khan has denied receiving any notice from the Enforcement Directorate over allegedly smuggling foreign currency out of India. \"It would have been better if the authorities would have served the notice first if any and then publicised this,\" reads a press release issued on behalf of Rahat. The statement further called the allegation \"bizarre\".\n",
      "실제 요약 : rahat fateh ali khan denies getting notice smuggling currency\n",
      "Summa 요약 : Pakistani singer Rahat Fateh Ali Khan has denied receiving any notice from the Enforcement Directorate over allegedly smuggling foreign currency out of India.\n",
      "\n",
      "\n",
      "원문 : India recorded their lowest ODI total in New Zealand after getting all out for 92 runs in 30.5 overs in the fourth ODI at Hamilton on Thursday. Seven of India's batsmen were dismissed for single-digit scores, while their number ten batsman Yuzvendra Chahal top-scored with 18*(37). India's previous lowest ODI total in New Zealand was 108.\n",
      "실제 요약 : india get lowest odi total new zealand\n",
      "Summa 요약 : India's previous lowest ODI total in New Zealand was 108.\n",
      "\n",
      "\n",
      "원문 : Weeks after ex-CBI Director Alok Verma told the Department of Personnel and Training to consider him retired, the Home Ministry asked him to join work on the last day of his fixed tenure as Director on Thursday. The ministry directed him to immediately join as DG, Fire Services, the post he was transferred to after his removal as CBI chief.\n",
      "실제 요약 : govt directs alok verma join work day retirement\n",
      "Summa 요약 : Weeks after ex-CBI Director Alok Verma told the Department of Personnel and Training to consider him retired, the Home Ministry asked him to join work on the last day of his fixed tenure as Director on Thursday.\n",
      "\n",
      "\n",
      "원문 : Andhra Pradesh CM N Chandrababu Naidu has said, \"When I met then US President Bill Clinton, I addressed him as Mr Clinton, not as 'sir'. (PM Narendra) Modi is my junior in politics...I addressed him as sir 10 times.\" \"I did this...to satisfy his ego in the hope that he will do justice to the state,\" he added.\n",
      "실제 요약 : called pm modi sir times satisfy ego andhra cm\n",
      "Summa 요약 : Andhra Pradesh CM N Chandrababu Naidu has said, \"When I met then US President Bill Clinton, I addressed him as Mr Clinton, not as 'sir'.\n",
      "\n",
      "\n",
      "원문 : Congress candidate Shafia Zubair won the Ramgarh Assembly seat in Rajasthan, by defeating BJP's Sukhwant Singh with a margin of 12,228 votes in the bypoll. With this victory, Congress has taken its total to 100 seats in the 200-member assembly. The election to the Ramgarh seat was delayed due to the death of sitting MLA and BSP candidate Laxman Singh.\n",
      "실제 요약 : cong wins ramgarh bypoll rajasthan takes total seats\n",
      "Summa 요약 : Congress candidate Shafia Zubair won the Ramgarh Assembly seat in Rajasthan, by defeating BJP's Sukhwant Singh with a margin of 12,228 votes in the bypoll.\n",
      "\n",
      "\n",
      "원문 : Two minor cousins in Uttar Pradesh's Gorakhpur were allegedly repeatedly burnt with tongs and forced to eat human excreta by their family for being friends with two boys from the same school. The cousins revealed their ordeal to the police and Child Welfare Committee after being brought back to Gorakhpur from Nepal, where they had fled to escape the torture.\n",
      "실제 요약 : cousins fed human excreta friendship boys\n",
      "Summa 요약 : Two minor cousins in Uttar Pradesh's Gorakhpur were allegedly repeatedly burnt with tongs and forced to eat human excreta by their family for being friends with two boys from the same school.\n",
      "\n",
      "\n",
      "원문 : Isha Ghosh, an 81-year-old member of Bharat Scouts and Guides (BSG), has been imparting physical and mental training to schoolchildren in Jharkhand for several decades. Chaibasa-based Ghosh reportedly walks seven kilometres daily and spends eight hours conducting physical training, apart from climbing and yoga sessions. She says, \"One should do something for society till one's last breath.\"\n",
      "실제 요약 : yr old woman conducts physical training khand schools\n",
      "Summa 요약 : Isha Ghosh, an 81-year-old member of Bharat Scouts and Guides (BSG), has been imparting physical and mental training to schoolchildren in Jharkhand for several decades.\n",
      "\n",
      "\n",
      "원문 : Urging saints and seers at the Kumbh Mela to quit smoking, Yoga guru Ramdev said, \"We follow Ram and Krishna who never smoked in their life then why should we?\" Making them take a pledge to quit tobacco, he collected chillum (clay pipe) from several sadhus. He said he will deposit the chillums for display at a museum he'll build.\n",
      "실제 요약 : ram krishna smoke ramdev sadhus kumbh\n",
      "Summa 요약 : Urging saints and seers at the Kumbh Mela to quit smoking, Yoga guru Ramdev said, \"We follow Ram and Krishna who never smoked in their life then why should we?\" Making them take a pledge to quit tobacco, he collected chillum (clay pipe) from several sadhus.\n",
      "\n",
      "\n",
      "원문 : Former stripper and regional sales director of a pharmaceutical company, Sunrise Lee, gave a doctor a lap dance in a nightclub to persuade him to prescribe an addictive fentanyl spray in 2012, the company's sales representative told a US court. She said she saw Lee \"sitting on [doctor's] lap, kind of bouncing around.\" Lee has been accused of bribing doctors.\n",
      "실제 요약 : pharma exec gave doctor lap dance sell medicine us witness\n",
      "Summa 요약 : Former stripper and regional sales director of a pharmaceutical company, Sunrise Lee, gave a doctor a lap dance in a nightclub to persuade him to prescribe an addictive fentanyl spray in 2012, the company's sales representative told a US court.\n",
      "\n",
      "\n",
      "원문 : Reliance Industries' Chairman Mukesh Ambani's daughter Isha Ambani, who got married last month, said she only cried at her 'bidaai' because she felt peer pressure as everyone was crying, especially her parents. \"I was emotional too but everyone around me would cry all the time,\" she added. \"It was a very emotional affair for everyone in my family,\" said Isha.\n",
      "실제 요약 : cried bidaai felt peer pressure isha ambani\n",
      "Summa 요약 : \"It was a very emotional affair for everyone in my family,\" said Isha.\n",
      "\n",
      "\n",
      "원문 : Louis Vuitton owner LVMH, which makes high-end beverages like MoÃÂ«t & Chandon champagne and Hennessy cognac, said it's stockpiling four months' worth of wine and spirits in UK in preparation for Brexit. \"We're ready for worst case scenario if there are difficulties with deliveries,\" the French luxury giant said. The UK is scheduled to leave the EU on March 29.\n",
      "실제 요약 : louis vuitton owner stockpile months wine spirits uk\n",
      "Summa 요약 : Louis Vuitton owner LVMH, which makes high-end beverages like MoÃÂ«t & Chandon champagne and Hennessy cognac, said it's stockpiling four months' worth of wine and spirits in UK in preparation for Brexit.\n",
      "\n",
      "\n",
      "원문 : Filmmaker Karan Johar and actress Tabu turned showstoppers for Gaurav Gupta on the opening night of LakmÃÂ© Fashion Week Summer/ Resort 2019. While Johar wore a red sequinned jacket with black pants, Tabu walked the ramp in a grey embellished gown. The fashion show, which began on January 29, will continue till February 3.\n",
      "실제 요약 : karan johar tabu turn showstoppers opening night lfw\n",
      "Summa 요약 : Filmmaker Karan Johar and actress Tabu turned showstoppers for Gaurav Gupta on the opening night of LakmÃÂ© Fashion Week Summer/ Resort 2019.\n",
      "\n",
      "\n",
      "원문 : In a jibe at Congress President Rahul Gandhi, PM Narendra Modi on Wednesday said those on \"bail will have to go to jail.\" PM Modi added, \"He is out on bail and his associates too are facing charges...I know they will be convicted one day.\" The PM claimed he'd waged a war on corruption because he's from a common household. \n",
      "실제 요약 : bail go jail pm modi takes jibe rahul\n",
      "Summa 요약 : (요약 불가)\n",
      "\n",
      "\n",
      "원문 : Days after he threatened to step down from his post if Congress MLAs continue \"crossing the line,\" Karnataka Chief Minister HD Kumaraswamy accused them of taking potshots and asked, \"How many more days can I tolerate such stuff?\" Kumaraswamy, who made the statements after a Congress MLA demanded that Siddaramaiah be made CM again, said, \"Power is ephemeral.\"\n",
      "실제 요약 : long tolerate congress leaders potshots taka cm\n",
      "Summa 요약 : (요약 불가)\n",
      "\n",
      "\n",
      "원문 : Union Minister Dharmendra Pradhan on Wednesday claimed the illegal mining mafia in Odisha operates under the control of CM Naveen Patnaik and state Congress chief Niranjan Patnaik. He added, \"The time has come for the people of Odisha to put a full stop to their activities...The time has come for us to ask for an explanation from this corrupt government.\"\n",
      "실제 요약 : odisha cm patnaik controls mining mafia union minister\n",
      "Summa 요약 : Union Minister Dharmendra Pradhan on Wednesday claimed the illegal mining mafia in Odisha operates under the control of CM Naveen Patnaik and state Congress chief Niranjan Patnaik.\n",
      "\n",
      "\n",
      "원문 : Claiming there is a dearth of ideas among opposition parties, Prime Minister Narendra Modi on Wednesday said, \"The opposition talks only about Modi the whole day, I suspect they even dream about me.\" PM Modi, who was addressing the New India Youth Conclave inÃ¢ÂÂ Surat, added that the opposition parties have only one agenda which is \"Modi\". \n",
      "실제 요약 : think opposition even dreams pm modi\n",
      "Summa 요약 : (요약 불가)\n",
      "\n",
      "\n",
      "원문 : The Indian Space Research Organisation on Wednesday unveiled Human Space Flight Centre in Bengaluru for its Ã¢ÂÂ¹10,000-crore manned space mission 'Gaganyaan' scheduled for 2021. ISRO said the centre will be responsible for development of engineering systems for crew survival in space and crew selection and training. It'll also pursue activities for sustained human space flight missions, ISRO added.\n",
      "실제 요약 : isro unveils bengaluru centre manned space mission\n",
      "Summa 요약 : It'll also pursue activities for sustained human space flight missions, ISRO added.\n",
      "\n",
      "\n",
      "원문 : At least 12 people have been killed and 170 others have been injured in Saudi Arabia this week due to flooding from heavy rain. The emergency services rescued 271 people from the flooded areas, more than half of them in Tabuk. Heavy rains hit mainly western and northwestern parts of Saudi Arabia, near its border with Jordan.\n",
      "실제 요약 : killed injured saudi arabia floods\n",
      "Summa 요약 : At least 12 people have been killed and 170 others have been injured in Saudi Arabia this week due to flooding from heavy rain.\n",
      "\n",
      "\n",
      "원문 : Reliance Industries' Chairman Mukesh Ambani's daughter Isha Ambani has featured on the cover of the February edition of Vogue India. She's dressed in a white shirt dress and black ruffled skirt by Australian designer Toni Maticevski, while accessorising her look with a Misho ring. In the cover story on her, Isha has spoken about her work and life after marriage.\n",
      " \n",
      "실제 요약 : isha ambani features february cover vogue magazine\n",
      "Summa 요약 : Reliance Industries' Chairman Mukesh Ambani's daughter Isha Ambani has featured on the cover of the February edition of Vogue India.\n",
      "\n",
      "\n",
      "원문 : Indian Oil Corporation on Wednesday said it's looking for an annual deal to buy US crude as it seeks to broaden oil purchasing options. This comes amid uncertainties over Iran imports. The US had in November granted a six-month waiver to India from sanctions against Iran and restricted the country's monthly intake of Iranian oil to 3,00,000 barrels per day.\n",
      "\n",
      "\n",
      "실제 요약 : indian oil looking annual deal buy crude us\n",
      "Summa 요약 : The US had in November granted a six-month waiver to India from sanctions against Iran and restricted the country's monthly intake of Iranian oil to 3,00,000 barrels per day.\n",
      "\n",
      "\n",
      "원문 : Former Windies fast bowler Curtly Ambrose dismissed seven Australian batsmen within a span of 32 balls giving away just one run, in a Test match on January 30, 1993. Ambrose's spell helped his team bowl out Australia for 119 in the first innings, after being 85 for 2 at one point. Ambrose ended with first-innings figures of 18-9-25-7.\n",
      "실제 요약 : pacer took wickets run balls test\n",
      "Summa 요약 : Ambrose ended with first-innings figures of 18-9-25-7.\n",
      "\n",
      "\n",
      "원문 : A London zoo is offering people to name a cockroach after their exes on Valentine's Day for ÃÂ£1.50 (nearly Ã¢ÂÂ¹140). \"For those that don't quite require revenge, there's another way to make you feel better about getting back at your ex,\" the zoo said in a statement. The names will appear on zoo's 'roach board' on February 14. \n",
      "실제 요약 : uk zoo offers people name cockroach ex valentine\n",
      "Summa 요약 : The names will appear on zoo's 'roach board' on February 14.\n",
      "\n",
      "\n",
      "원문 : Stand-in captain Rohit Sharma has become the 14th Indian cricketer to play 200 ODIs, achieving the feat after taking the field against New Zealand in fourth ODI at Hamilton on Thursday. The 31-year-old had made his ODI debut on June 23, 2007, against Ireland in Belfast. Rohit scored 7,799 runs in his first 199 ODIs at an average of 48.14.\n",
      "실제 요약 : rohit sharma becomes th indian cricketer play odis\n",
      "Summa 요약 : Rohit scored 7,799 runs in his first 199 ODIs at an average of 48.14.\n",
      "\n",
      "\n",
      "원문 : Batsman Shubman Gill has become the 227th cricketer to represent India in ODI cricket, achieving the feat against New Zealand in the fourth ODI at Hamilton on Thursday. The 19-year-old received his maiden ODI cap from former captain MS Dhoni. Notably, Shubman was named Player of the Under-19 World Cup in New Zealand last year.\n",
      "실제 요약 : year old shubman gill becomes india th odi cricketer\n",
      "Summa 요약 : Notably, Shubman was named Player of the Under-19 World Cup in New Zealand last year.\n",
      "\n",
      "\n",
      "원문 : Investigators searching for a lost plane carrying Argentine forward Emiliano Sala found two seat cushions on French coast that \"likely\" belonged to the aircraft. The investigators said they'll now launch an underwater seabed search for aircraft wreckage. The Cardiff City footballer was travelling from France's Nantes to Wales' Cardiff when his plane disappeared over English Channel on January 21.\n",
      "실제 요약 : seat cushions missing plane carrying footballer found\n",
      "Summa 요약 : Investigators searching for a lost plane carrying Argentine forward Emiliano Sala found two seat cushions on French coast that \"likely\" belonged to the aircraft.\n",
      "\n",
      "\n",
      "원문 : Italian third division football side Lucchese's head coach Giancarlo Favarin has been banned for five months for headbutting Alessandria's assistant coach Gaetano Mancino during a brawl following the teams' 2-2 draw on Sunday. Mancino was caught off-balance and knocked to the ground after the headbutt. Earlier in the match, Favarin had told his own player to break an opponent's legs.\n",
      "실제 요약 : italian coach knocks rival headbutt banned months\n",
      "Summa 요약 : Italian third division football side Lucchese's head coach Giancarlo Favarin has been banned for five months for headbutting Alessandria's assistant coach Gaetano Mancino during a brawl following the teams' 2-2 draw on Sunday.\n",
      "\n",
      "\n",
      "원문 : Cyclists taking part in National Track Cycling Championship in Jaipur opted to sleep on the floor inside the stadium instead of hotels over expensive cycles. The organisers had booked hotels but they didn't have the provision for cyclists to keep their bikes inside. A national gold medallist said their cycles cost between Ã¢ÂÂ¹5-9 lakh and once damaged, they become non-repairable. \n",
      "실제 요약 : cyclists sleep stadium floor instead hotel costly cycles\n",
      "Summa 요약 : Cyclists taking part in National Track Cycling Championship in Jaipur opted to sleep on the floor inside the stadium instead of hotels over expensive cycles.\n",
      "\n",
      "\n",
      "원문 : Silvia Grecco, a 56-year-old Brazilian mother narrates her local football team Palmeiras' matches live to her 12-year-old blind and autistic son Nickollas from the stands. \"I describe details: this player is wearing short sleeves...colour of...football boots, hair colour...Everything I see and feel, I tell him, even when I need to curse the referee!\" Grecco said after a recent match.\n",
      "실제 요약 : brazilian mother narrates football matches blind son stands\n",
      "Summa 요약 : Silvia Grecco, a 56-year-old Brazilian mother narrates her local football team Palmeiras' matches live to her 12-year-old blind and autistic son Nickollas from the stands.\n",
      "\n",
      "\n",
      "원문 : A TechCrunch report has claimed that IndiaÃ¢ÂÂs largest bank SBI secured a passwordless server \"overnight\" on being alerted it allowed anyone to access phone numbers, bank balances, and transactions of millions of its customers. The Mumbai-based server was containing two months of data from SBI Quick, an SMS and call-based system used to request basic information about accounts, TechCrunch revealed.\n",
      "실제 요약 : sbi left account data millions users unprotected report\n",
      "Summa 요약 : A TechCrunch report has claimed that IndiaÃ¢ÂÂs largest bank SBI secured a passwordless server \"overnight\" on being alerted it allowed anyone to access phone numbers, bank balances, and transactions of millions of its customers.\n",
      "\n",
      "\n",
      "원문 : Rahul Gandhi has replied to Goa CM Manohar Parrikar's letter, which accused the Congress President of using his \"visit to an ailing man for political gains\". \"He's under immense pressure from the PM after our meeting and needs to demonstrate his loyalty by attacking me,\" Gandhi wrote in his letter. Parrikar had clarified he didn't discuss Rafale deal with Rahul.\n",
      "실제 요약 : cm parrikar pressure pm goa meet rahul\n",
      "Summa 요약 : Rahul Gandhi has replied to Goa CM Manohar Parrikar's letter, which accused the Congress President of using his \"visit to an ailing man for political gains\".\n",
      "\n",
      "\n",
      "원문 : Twenty-seven-year-old Mohammed Mahuwala was arrested in Indore on Wednesday for allegedly cheating e-commerce giant Amazon of nearly Ã¢ÂÂ¹30 lakh. Mahuwala was a member of a gang who ordered costly gadgets from Amazon. \"[They] used to get refund of the amount paid...by saying the parcel...was empty. In reality, these devices were taken out from parcel and sold...to local shopkeepers,\" said police.\n",
      "실제 요약 : man arrested cheating amazon lakh taking refunds\n",
      "Summa 요약 : Twenty-seven-year-old Mohammed Mahuwala was arrested in Indore on Wednesday for allegedly cheating e-commerce giant Amazon of nearly Ã¢ÂÂ¹30 lakh.\n",
      "Mahuwala was a member of a gang who ordered costly gadgets from Amazon.\n",
      "\n",
      "\n",
      "원문 : AgustaWestland chopper scam co-accused Rajiv Saxena was extradited to India from UAE on Wednesday. He had been evading the Enforcement Directorate's summons claiming he was suffering from leukaemia but had moved an anti-money laundering court for anticipatory bail in December, stating he had never been summoned at his Dubai address. Saxena's lawyers alleged he had been \"illegally extradited\". \n",
      "실제 요약 : agustawestland scam accused rajiv saxena extradited india\n",
      "Summa 요약 : AgustaWestland chopper scam co-accused Rajiv Saxena was extradited to India from UAE on Wednesday.\n",
      "\n",
      "\n",
      "원문 : Afghan President Ashraf Ghani has said the \"keys to war\" are in Pakistan's Islamabad, Quetta and Rawalpindi, accusing the country of providing safe havens to militants, including those belonging to the Taliban. Ghani added the \"key to peace was in Afghanistan\". His comments came amid the talks between the US and the Taliban to end the 17-year war in Afghanistan.\n",
      "실제 요약 : pakistan holds keys war afghanistan\n",
      "Summa 요약 : Afghan President Ashraf Ghani has said the \"keys to war\" are in Pakistan's Islamabad, Quetta and Rawalpindi, accusing the country of providing safe havens to militants, including those belonging to the Taliban.\n",
      "\n",
      "\n",
      "원문 : A Singapore-based insurance agent has been jailed for two years and five months for threatening to harm his clients unless they paid him in bitcoins. The 36-year-old set up an email account, and signed the messages as 'Lord Voldemort', a fictional character from the Harry Potter series. Ye Lin Myint targeted about 33 people, including those who cancelled insurance policies.\n",
      "실제 요약 : insurance agent lord voldemort jailed threatening clients\n",
      "Summa 요약 : A Singapore-based insurance agent has been jailed for two years and five months for threatening to harm his clients unless they paid him in bitcoins.\n",
      "\n",
      "\n",
      "원문 : Gabrielle Reilly, a 22-year-old US woman, created earrings for her Apple AirPods and put it up for sale online for $20 (about Ã¢ÂÂ¹1,500). \"I absolutely refuse to lose them (AirPods)...So I made earrings,\" she explained. The earrings, which took her over an hour to make, debuted in a video on Twitter that has since garnered over three million views.\n",
      "실제 요약 : woman turns apple airpods earrings avoid losing\n",
      "Summa 요약 : \"I absolutely refuse to lose them (AirPods)...So I made earrings,\" she explained.\n",
      "\n",
      "\n",
      "원문 : Ex-ICICI Bank CEO Chanda Kochhar said she's \"utterly disappointed, hurt and shocked\" by the bank's decision to terminate her. Kochhar said she served ICICI for 34 years with utmost honesty and integrity and that ultimately truth will prevail. Adding that she hasn't been given a copy of the independent probe report, Kochhar said none of ICICI's credit decisions are unilateral\n",
      "실제 요약 : shocked hurt icici decision truth prevail kochhar\n",
      "Summa 요약 : Adding that she hasn't been given a copy of the independent probe report, Kochhar said none of ICICI's credit decisions are unilateral\n",
      "\n",
      "\n",
      "원문 : Swedish multinational fast-fashion brand Hennes & Mauritz AB (H&M) has hired Christopher Wylie, the whistleblower who exposed Facebook's Cambridge Analytica data scandal. WylieÃ¢ÂÂs focus will be to help get better insights on customers, products and markets and support work on sustainable and ethical artificial intelligence, H&M spokesperson said. Wylie is a former employee of Cambridge Analytica.\n",
      "실제 요약 : fashion brand hires facebook data scandal whistleblower\n",
      "Summa 요약 : Swedish multinational fast-fashion brand Hennes & Mauritz AB (H&M) has hired Christopher Wylie, the whistleblower who exposed Facebook's Cambridge Analytica data scandal.\n",
      "\n",
      "\n",
      "원문 : Micro-blogging platform Twitter is testing a new feature on Android to put news on the top of a user's timeline. \"With this update, weÃ¢ÂÂre making it easier for people to see news and stories their followers have been discussing,\" Product Manager Walter Gurzynski said. The feature comes alongside a prompt saying, \"Catch up on what's happened while you were away.\"\n",
      "실제 요약 : twitter testing news first timeline feature android\n",
      "Summa 요약 : Micro-blogging platform Twitter is testing a new feature on Android to put news on the top of a user's timeline.\n",
      "\n",
      "\n",
      "원문 : Samsung has started mass producing its one terabyte 'embedded Universal Flash Storage (eUFS) 2.1' technology for \"use in next-generation mobile applications\", which it claims is the industry's first such eUFS. The company added the new eUFS will let smartphones store 260 10-minute videos shot in 4K UHD format. It'll be sized the same as the previous 512GB version, Samsung said.\n",
      "실제 요약 : samsung builds world first tb storage chip smartphones\n",
      "Summa 요약 : Samsung has started mass producing its one terabyte 'embedded Universal Flash Storage (eUFS) 2.1' technology for \"use in next-generation mobile applications\", which it claims is the industry's first such eUFS.\n",
      "\n",
      "\n",
      "원문 : Prime Minister Narendra Modi on Wednesday said the people with 'negative mindset' are questioning him and his government for floating pro-poor schemes. He added negative mindset people are raising doubts about schemes such as building toilets and providing free gas connections to the poor. He further said that negative mentality laced with a vested interest still exists in the country.\n",
      "실제 요약 : people negative mindset quizzing pro poor schemes pm\n",
      "Summa 요약 : Prime Minister Narendra Modi on Wednesday said the people with 'negative mindset' are questioning him and his government for floating pro-poor schemes.\n",
      "\n",
      "\n",
      "원문 : Union Minister Anantkumar Hegde took a dig at Congress President Rahul Gandhi by calling him a \"hybrid specimen\" who has no clue about religion. \"A father who's...Muslim, a mother who's...Christian and the son is supposed to be...Brahmin. How is that even possible?\" he said. He added such \"hybrid specimen\" cannot be found in any laboratory in the world.\n",
      "실제 요약 : rahul hybrid specimen clue religion hegde\n",
      "Summa 요약 : Union Minister Anantkumar Hegde took a dig at Congress President Rahul Gandhi by calling him a \"hybrid specimen\" who has no clue about religion.\n",
      "He added such \"hybrid specimen\" cannot be found in any laboratory in the world.\n",
      "\n",
      "\n",
      "원문 : Several parts of the US are set to experience record low temperatures as the polar vortex hit the Upper Midwest, with more than 200 million people expected to experience below-freezing temperatures this week. Temperatures throughout the Upper Midwest are expected to be at least 20-40Ã¢ÂÂ below zero. Government offices and schools have been closed in several areas.\n",
      "실제 요약 : extreme cold affect million people polar vortex hits us\n",
      "Summa 요약 : Several parts of the US are set to experience record low temperatures as the polar vortex hit the Upper Midwest, with more than 200 million people expected to experience below-freezing temperatures this week.\n",
      "\n",
      "\n",
      "원문 : The police on Wednesday registered cases against 13 persons, including a woman leader of Hindu Mahasabha, in Aligarh for firing at an effigy of Mahatma Gandhi with an air pistol. \"The incident took place in a house in Naurangabad locality of the city,\" Senior Superintendent of Police said. The video of the event went viral on social media, he added.\n",
      "실제 요약 : booked firing air shots mahatma gandhi effigy\n",
      "Summa 요약 : The police on Wednesday registered cases against 13 persons, including a woman leader of Hindu Mahasabha, in Aligarh for firing at an effigy of Mahatma Gandhi with an air pistol.\n",
      "\n",
      "\n",
      "원문 : Railway police has rescued a woman travelling on a train in Chennai who got her leg stuck inside the commode of a toilet. After being caught inside the commode hole, she struggled to remove her leg and following failed attempts, she shouted for help, reports said. Railway police used a cutter to pry open the commode and freed her leg.\n",
      "실제 요약 : railway police rescues woman leg stuck train toilet\n",
      "Summa 요약 : Railway police has rescued a woman travelling on a train in Chennai who got her leg stuck inside the commode of a toilet.\n",
      "\n",
      "\n",
      "원문 : The US on Tuesday began returning asylum seekers to Mexico, sending back a migrant from a Central American nation and called the move a \"response to the illegal migration crisis\" faced by it. Under its Migrant Protection Protocols policy, the US will return certain migrants who cross into the country illegally back to Mexico while their asylum requests are processed.\n",
      "실제 요약 : us begins sending back asylum seekers mexico\n",
      "Summa 요약 : The US on Tuesday began returning asylum seekers to Mexico, sending back a migrant from a Central American nation and called the move a \"response to the illegal migration crisis\" faced by it.\n",
      "\n",
      "\n"
     ]
    }
   ],
   "source": [
    "for i in range(50):\n",
    "    original = new_data['text'].iloc[i]           \n",
    "    gold = data['headlines'].iloc[i]          \n",
    "    summa_sum = summarize(original, ratio=0.6)\n",
    "    if not summa_sum:\n",
    "        summa_sum = summarize(original, words=15) or \"(요약 불가)\"\n",
    "\n",
    "    print(\"원문 :\", original)\n",
    "    print(\"실제 요약 :\", gold)\n",
    "    print(\"Summa 요약 :\", summa_sum)\n",
    "    print(\"\\n\")"
   ]
  },
  {
   "cell_type": "code",
   "execution_count": 60,
   "id": "a6ea2141-3c25-4696-aacb-8fce68728483",
   "metadata": {},
   "outputs": [],
   "source": [
    "# 불용어 제거 안했을 때\n",
    "#  2%|▏         | 1/50 [00:50<41:09, 50.41s/it]\n",
    "# Epoch 1/50 | Train Loss: 7.2574 | Val Loss: 6.7491\n",
    "#   4%|▍         | 2/50 [01:39<39:42, 49.64s/it]\n",
    "# Epoch 2/50 | Train Loss: 6.5363 | Val Loss: 6.1260\n",
    "#   6%|▌         | 3/50 [02:29<38:59, 49.78s/it]\n",
    "# Epoch 3/50 | Train Loss: 5.8645 | Val Loss: 5.5935\n",
    "#   8%|▊         | 4/50 [03:18<38:04, 49.67s/it]\n",
    "# Epoch 4/50 | Train Loss: 5.3479 | Val Loss: 5.2393\n",
    "#  10%|█         | 5/50 [04:08<37:17, 49.73s/it]\n",
    "# Epoch 5/50 | Train Loss: 4.9489 | Val Loss: 4.9906\n",
    "#  12%|█▏        | 6/50 [04:58<36:27, 49.72s/it]\n",
    "# Epoch 6/50 | Train Loss: 4.6222 | Val Loss: 4.8201\n",
    "#  14%|█▍        | 7/50 [05:48<35:37, 49.70s/it]\n",
    "# Epoch 7/50 | Train Loss: 4.3456 | Val Loss: 4.6752\n",
    "#  16%|█▌        | 8/50 [06:37<34:46, 49.68s/it]\n",
    "# Epoch 8/50 | Train Loss: 4.1060 | Val Loss: 4.5640\n",
    "#  18%|█▊        | 9/50 [07:27<33:56, 49.67s/it]\n",
    "# Epoch 9/50 | Train Loss: 3.8994 | Val Loss: 4.4934\n",
    "#  20%|██        | 10/50 [08:17<33:08, 49.70s/it]\n",
    "# Epoch 10/50 | Train Loss: 3.7154 | Val Loss: 4.4199\n",
    "#  22%|██▏       | 11/50 [09:07<32:20, 49.76s/it]\n",
    "# Epoch 11/50 | Train Loss: 3.5492 | Val Loss: 4.3846\n",
    "#  24%|██▍       | 12/50 [09:57<31:32, 49.81s/it]\n",
    "# Epoch 12/50 | Train Loss: 3.4014 | Val Loss: 4.3386\n",
    "#  26%|██▌       | 13/50 [10:46<30:44, 49.85s/it]\n",
    "# Epoch 13/50 | Train Loss: 3.2647 | Val Loss: 4.3221\n",
    "#  28%|██▊       | 14/50 [11:36<29:54, 49.84s/it]\n",
    "# Epoch 14/50 | Train Loss: 3.1414 | Val Loss: 4.3007\n",
    "#  30%|███       | 15/50 [12:26<29:02, 49.78s/it]\n",
    "# Epoch 15/50 | Train Loss: 3.0291 | Val Loss: 4.2970\n",
    "#  32%|███▏      | 16/50 [13:15<28:10, 49.72s/it]\n",
    "# Epoch 16/50 | Train Loss: 2.9235 | Val Loss: 4.2865\n",
    "#  34%|███▍      | 17/50 [14:05<27:20, 49.73s/it]\n",
    "# Epoch 17/50 | Train Loss: 2.8270 | Val Loss: 4.2686\n",
    "#  36%|███▌      | 18/50 [14:55<26:32, 49.76s/it]\n",
    "# Epoch 18/50 | Train Loss: 2.7353 | Val Loss: 4.2748\n",
    "#  36%|███▌      | 18/50 [15:45<28:00, 52.53s/it]\n",
    "# Epoch 19/50 | Train Loss: 2.6515 | Val Loss: 4.2845\n",
    "# Early stopping triggered at epoch 19"
   ]
  },
  {
   "cell_type": "code",
   "execution_count": 61,
   "id": "e94a0375-d676-473f-b335-7fc82cc7a96e",
   "metadata": {},
   "outputs": [
    {
     "data": {
      "text/html": [
       "<div>\n",
       "<style scoped>\n",
       "    .dataframe tbody tr th:only-of-type {\n",
       "        vertical-align: middle;\n",
       "    }\n",
       "\n",
       "    .dataframe tbody tr th {\n",
       "        vertical-align: top;\n",
       "    }\n",
       "\n",
       "    .dataframe thead th {\n",
       "        text-align: right;\n",
       "    }\n",
       "</style>\n",
       "<table border=\"1\" class=\"dataframe\">\n",
       "  <thead>\n",
       "    <tr style=\"text-align: right;\">\n",
       "      <th></th>\n",
       "      <th>평가 기준</th>\n",
       "      <th>추상적 요약 (Seq2Seq with Attention)</th>\n",
       "      <th>추출적 요약 (Summa)</th>\n",
       "    </tr>\n",
       "  </thead>\n",
       "  <tbody>\n",
       "    <tr>\n",
       "      <th>0</th>\n",
       "      <td>문법 완성도</td>\n",
       "      <td>매우 낮음. 문법적으로 완성된 문장을 생성하지 못하고 관련 없는 단어들을 나열하는 수준.</td>\n",
       "      <td>매우 높음. 원문에서 직접 문장을 추출하므로 문법적으로 완벽하고 자연스러움.</td>\n",
       "    </tr>\n",
       "    <tr>\n",
       "      <th>1</th>\n",
       "      <td>핵심 단어 포함</td>\n",
       "      <td>매우 낮음. 원문의 내용과 거의 관련 없는 단어들을 반복적으로 생성하며, 핵심 내용...</td>\n",
       "      <td>대체로 우수함. 원문의 핵심 문장을 추출하여 주요 키워드를 대부분 포함.</td>\n",
       "    </tr>\n",
       "  </tbody>\n",
       "</table>\n",
       "</div>"
      ],
      "text/plain": [
       "      평가 기준                    추상적 요약 (Seq2Seq with Attention)  \\\n",
       "0    문법 완성도  매우 낮음. 문법적으로 완성된 문장을 생성하지 못하고 관련 없는 단어들을 나열하는 수준.   \n",
       "1  핵심 단어 포함  매우 낮음. 원문의 내용과 거의 관련 없는 단어들을 반복적으로 생성하며, 핵심 내용...   \n",
       "\n",
       "                               추출적 요약 (Summa)  \n",
       "0  매우 높음. 원문에서 직접 문장을 추출하므로 문법적으로 완벽하고 자연스러움.  \n",
       "1    대체로 우수함. 원문의 핵심 문장을 추출하여 주요 키워드를 대부분 포함.  "
      ]
     },
     "execution_count": 61,
     "metadata": {},
     "output_type": "execute_result"
    }
   ],
   "source": [
    "table = {\n",
    "    '평가 기준': ['문법 완성도', '핵심 단어 포함'],\n",
    "    '추상적 요약 (Seq2Seq with Attention)': [\n",
    "        '매우 낮음. 문법적으로 완성된 문장을 생성하지 못하고 관련 없는 단어들을 나열하는 수준.',\n",
    "        '매우 낮음. 원문의 내용과 거의 관련 없는 단어들을 반복적으로 생성하며, 핵심 내용을 전혀 반영하지 못함.'\n",
    "    ],\n",
    "    '추출적 요약 (Summa)': [\n",
    "        '매우 높음. 원문에서 직접 문장을 추출하므로 문법적으로 완벽하고 자연스러움.',\n",
    "        '대체로 우수함. 원문의 핵심 문장을 추출하여 주요 키워드를 대부분 포함.'\n",
    "    ]\n",
    "}\n",
    "\n",
    "df = pd.DataFrame(table)\n",
    "\n",
    "df"
   ]
  },
  {
   "cell_type": "code",
   "execution_count": 62,
   "id": "a1124010-bafe-4afa-aef8-b10405dd4283",
   "metadata": {},
   "outputs": [],
   "source": [
    "# review\n",
    "# 이번 프로젝트에서 Seq2Seq 어텐션 메커니즘을 적용하여 뉴스 요약을 수행하였으나, 전반적인 요약 품질은 기대에 미치지 못했다.\n",
    "# 불용어 처리를 제거했을때가 그나마 학습 안정성은 높고 검증로스도 가장 낮게 나왔다(Val Loss: 4.2865).\n",
    "# 프로젝트에서는 불용어 처리를 적용하라고 했기 때문에 불용어 처리를 적용했다.\n",
    "# 하지만 사실상 불용어 처리를 하든 안하든 예측 결과가 심각하게 좋지 않게 나왔다.\n",
    "# 그 이유를 생각해 보자면 첫째, 텍스트 데이터 전처리 과정에서 정보 손실이 과도하게 발생하였다.\n",
    "# HTML 태그, 특수문자, 불필요한 기호 제거 과정에서 의미 있는 숫자, 고유명사, 기호 등이 함께 삭제되었다.\n",
    "# 따라서 모델이 핵심 정보를 학습하는 데 문제가 생겼다.\n",
    "# 둘째, 토큰화를 단순 띄어쓰기 기반으로 수행하여, 복합 명사나 고유명사가 잘게 분리되었다.\n",
    "# 문맥적으로 중요한 단어가 띄어쓰기 기준으로 나눠져서 단어 의미가 손실되었다.\n",
    "# 셋째, 사전학습된 임베딩 벡터를 활용하지 않고 처음부터 임베딩을 학습하다 보니, 초기 학습 안정성이 낮았다. \n",
    "# 충분한 데이터셋 규모와 학습 시간이 확보되지 않은 상태에서 단어 표현 학습이 불안정하게 이루어졌다.\n",
    "# 그 결과로, 예측 시 의미 없는 단어 반복, 비문 생성이 빈번히 발생했다.\n",
    "# Summa는 단어 및 문장 패턴을 직접 학습하는 것이 아니라, 입력 문서에서 핵심 문장을 통계적으로 추출하기 때문에 안정적으로 결과를 생성할 수 있었다.\n",
    "# 실험 결과, Summa 요약은 문법 완성도와 핵심 정보 보존 측면에서 Seq2Seq 모델보다 훨씬 우수한 성능을 보였다.\n",
    "# 향후 개선 방향으로는 텍스트 데이터의 전처리를 어떻게 하는지가 일단 제일 중요한 과제이다. \n",
    "# 이 문제를 해결한 뒤, 다른 토크나이저를 사용해서 희소단어 처리를 잘 해야한다.\n",
    "# 모델로는 트랜스포머 기반의 인코더 디코더 구조를 가진 BART 모델을 활용해서 뉴스요약을 다시 진행해봐야겠다.\n",
    "# 사전학습된 BART 기반 뉴스 요약을 진행하면, 대규모 코퍼스에서 이미 학습된 언어 이해 능력을 활용할 수 있기 때문에 \n",
    "# 현재 Seq2Seq 모델에서 나타난 불안정성과 품질 저하 문제를 크게 개선할 수 있을 것으로 보인다.\n",
    "# 현재 텍스트 데이터 처리에 대한 이해도가 매우 낮은 상황인거같다. 트랜스포머를 배우고 그 이후 NLP 과정에 들어가기 전까지\n",
    "# 이 부분을 좀 더 많이 학습해야할거같다."
   ]
  }
 ],
 "metadata": {
  "kernelspec": {
   "display_name": "Python 3 (ipykernel)",
   "language": "python",
   "name": "python3"
  },
  "language_info": {
   "codemirror_mode": {
    "name": "ipython",
    "version": 3
   },
   "file_extension": ".py",
   "mimetype": "text/x-python",
   "name": "python",
   "nbconvert_exporter": "python",
   "pygments_lexer": "ipython3",
   "version": "3.12.11"
  }
 },
 "nbformat": 4,
 "nbformat_minor": 5
}
