{
 "cells": [
  {
   "cell_type": "code",
   "execution_count": 39,
   "id": "68c7d4c7-da67-4cd1-8cb5-208f2c9d0116",
   "metadata": {},
   "outputs": [],
   "source": [
    "# 영화 리뷰 텍스트 감성 분석하기 프로젝트"
   ]
  },
  {
   "cell_type": "code",
   "execution_count": 1,
   "id": "6eabbe7f-db72-45cb-aabe-eaa7bc41a18b",
   "metadata": {},
   "outputs": [],
   "source": [
    "# !pip install konlpy\n",
    "# !pip install gensim\n",
    "# !git clone https://github.com/SOMJANG/Mecab-ko-for-Google-Colab.git\n",
    "# %cd Mecab-ko-for-Google-Colab/\n",
    "# !bash install_mecab-ko_on_colab_light_220429.sh\n",
    "# !wget https://raw.githubusercontent.com/e9t/nsmc/master/ratings_train.txt\n",
    "# !wget https://raw.githubusercontent.com/e9t/nsmc/master/ratings_test.txt"
   ]
  },
  {
   "cell_type": "code",
   "execution_count": 2,
   "id": "501f429e-62fa-4e6d-bf97-654f10b7cf97",
   "metadata": {},
   "outputs": [],
   "source": [
    "# 기본 라이브러리\n",
    "import numpy as np \n",
    "import pandas as pd  \n",
    "from collections import Counter  \n",
    "from tqdm import tqdm  \n",
    "import matplotlib.pyplot as plt  \n",
    "# 한국어 형태소 분석기 \n",
    "from konlpy.tag import Mecab  # Mecab 형태소 분석기 \n",
    "# 학습, 검증 데이터 분리\n",
    "from sklearn.model_selection import train_test_split  # 데이터셋을 train/test로 나누기\n",
    "# Word2Vec 임베딩 관련 라이브러리\n",
    "import gensim\n",
    "from gensim.models import Word2Vec  # Word2Vec 모델 생성 및 학습\n",
    "from gensim.models.keyedvectors import Word2VecKeyedVectors  # 학습된 Word2Vec 벡터 불러오기용\n",
    "import torch  \n",
    "from torch import nn, optim  \n",
    "from torch.utils.data import TensorDataset, DataLoader\n",
    "import torch.nn.functional as F"
   ]
  },
  {
   "cell_type": "code",
   "execution_count": 3,
   "id": "83cbaabb-d0fa-4e22-8855-a33a2b64fc18",
   "metadata": {},
   "outputs": [],
   "source": [
    "train_data = pd.read_table('ratings_train.txt')\n",
    "test_data = pd.read_table('ratings_test.txt')\n",
    "\n",
    "train_data.drop_duplicates(subset=['document'], inplace=True)\n",
    "train_data.dropna(how='any', inplace=True)\n",
    "test_data.drop_duplicates(subset=['document'], inplace=True)\n",
    "test_data.dropna(how='any', inplace=True)\n",
    "\n",
    "train_data, valid_data = train_test_split(train_data, test_size=0.2, random_state=42)"
   ]
  },
  {
   "cell_type": "code",
   "execution_count": 4,
   "id": "6fba55ba-e2c5-49ca-9132-d122838ee2bc",
   "metadata": {},
   "outputs": [],
   "source": [
    "# 형태소 분석기: Mecab 사용\n",
    "tokenizer = Mecab()\n",
    "# 불용어 리스트: 제거할 단어들\n",
    "stopwords = ['의', '가', '이', '은', '들', '는', '좀', '잘', '걍', '과', '도', '를', '으로', '자', '에', '와', '한', '하다']\n",
    "# 문장 전처리: 형태소 분석 후 불용어 제거\n",
    "def preprocess_sentence(sentence, tokenizer, stopwords):\n",
    "    tokens = tokenizer.morphs(sentence)  # 문장을 형태소 단위로 분해\n",
    "    return [word for word in tokens if word not in stopwords]  # 불용어 제거 후 반환\n",
    "# 단어 리스트를 인덱스 리스트로 변환 (<UNK> 처리 포함)\n",
    "def wordlist_to_indexlist(wordlist, word_to_index):\n",
    "    return [word_to_index.get(word, word_to_index['<UNK>']) for word in wordlist]\n",
    "# 전체 데이터 로딩 및 전처리\n",
    "def load_data(train_data, valid_data, test_data, num_words=10000):\n",
    "    # 각 문장들을 토큰화하고 불용어 제거한 결과\n",
    "    X_train_tokens = [preprocess_sentence(s, tokenizer, stopwords) for s in train_data['document']]\n",
    "    X_valid_tokens = [preprocess_sentence(s, tokenizer, stopwords) for s in valid_data['document']]\n",
    "    X_test_tokens  = [preprocess_sentence(s, tokenizer, stopwords) for s in test_data['document']]\n",
    "    # 전체 훈련 데이터에서 단어 빈도수 집계 \n",
    "    words = np.concatenate(X_train_tokens).tolist()\n",
    "    counter = Counter(words).most_common(num_words - 4)\n",
    "    # vocab 구성: 특수 토큰 4개 + 자주 등장하는 단어들\n",
    "    vocab = ['<PAD>', '<UNK>', '<BOS>', '<EOS>'] + [word for word, _ in counter]\n",
    "    # 단어 -> 인덱스 맵핑\n",
    "    word_to_index = {word: idx for idx, word in enumerate(vocab)}\n",
    "    # 토큰 시퀀스 -> 인덱스 시퀀스로 변환 (OOV는 <UNK>로 처리)\n",
    "    X_train = [wordlist_to_indexlist(x, word_to_index) for x in X_train_tokens]\n",
    "    X_valid = [wordlist_to_indexlist(x, word_to_index) for x in X_valid_tokens]\n",
    "    X_test  = [wordlist_to_indexlist(x, word_to_index) for x in X_test_tokens]\n",
    "    # 레이블 추출\n",
    "    y_train = np.array(train_data['label'])\n",
    "    y_valid = np.array(valid_data['label'])\n",
    "    y_test  = np.array(test_data['label'])\n",
    "    # 결과 반환: 시퀀스, 토큰, 레이블, 단어 인덱스 매핑\n",
    "    return X_train, X_train_tokens, y_train, X_valid, X_valid_tokens, y_valid, X_test, X_test_tokens, y_test, word_to_index"
   ]
  },
  {
   "cell_type": "code",
   "execution_count": 5,
   "id": "33814f2b-a9cf-4f20-803b-bc81a34db8c6",
   "metadata": {},
   "outputs": [],
   "source": [
    "# Keras의 pad_sequences(pre, pre) 동작을 그대로 구현한 함수\n",
    "def pad_sequences_pre(sequences, max_len, padding_value=0):\n",
    "    processed = []\n",
    "    for seq in sequences:\n",
    "        # max_len보다 길면 앞에서 자름 (pre-truncating)\n",
    "        seq = torch.tensor(seq[:max_len], dtype=torch.long)\n",
    "        if len(seq) < max_len:\n",
    "            # max_len보다 짧으면 앞에 padding_value를 채워넣음 (pre-padding)\n",
    "            pad_len = max_len - len(seq)\n",
    "            pad = torch.full((pad_len,), padding_value, dtype=torch.long)\n",
    "            seq = torch.cat((pad, seq), dim=0)\n",
    "        else:\n",
    "            # 혹시 모를 예외 처리를 위해 다시 한 번 max_len만큼 자름\n",
    "            seq = seq[-max_len:]\n",
    "        processed.append(seq)\n",
    "    # 리스트를 텐서로 묶어서 반환 (shape: [batch_size, max_len])\n",
    "    return torch.stack(processed)\n",
    "# 시퀀스 최대 길이 설정\n",
    "max_len = 50\n",
    "# 훈련, 검증, 테스트 데이터를 패딩 적용하여 텐서로 변환\n",
    "X_train_pad = pad_sequences_pre(X_train, max_len=max_len)\n",
    "X_valid_pad = pad_sequences_pre(X_valid, max_len=max_len)\n",
    "X_test_pad  = pad_sequences_pre(X_test,  max_len=max_len)\n",
    "\n",
    "\n",
    "train_inputs = torch.LongTensor(X_train_pad)\n",
    "train_labels = torch.FloatTensor(y_train)\n",
    "\n",
    "valid_inputs = torch.LongTensor(X_valid_pad)\n",
    "valid_labels = torch.FloatTensor(y_valid)\n",
    "\n",
    "test_inputs  = torch.LongTensor(X_test_pad)\n",
    "test_labels  = torch.FloatTensor(y_test)\n",
    "\n",
    "train_dataset = TensorDataset(train_inputs, train_labels)\n",
    "valid_dataset = TensorDataset(valid_inputs, valid_labels)\n",
    "test_dataset  = TensorDataset(test_inputs, test_labels)\n",
    "\n",
    "train_loader = DataLoader(train_dataset, batch_size=64, shuffle=True)\n",
    "valid_loader = DataLoader(valid_dataset, batch_size=64)\n",
    "test_loader  = DataLoader(test_dataset, batch_size=64)"
   ]
  },
  {
   "cell_type": "code",
   "execution_count": 6,
   "id": "11b6a53b-f1f7-49b5-9a1f-929d84ba0c2a",
   "metadata": {},
   "outputs": [],
   "source": [
    "# 학습용 전체 말뭉치 구성\n",
    "total_corpus = X_train_tokens + X_valid_tokens + X_test_tokens\n",
    "# Word2Vec 모델 학습\n",
    "my_word2vec = Word2Vec(sentences=total_corpus, vector_size=100, window=5, min_count=2, workers=4, sg=1)  # Skip-gram 사용\n",
    "my_word2vec.save('my_word2vec.model')"
   ]
  },
  {
   "cell_type": "code",
   "execution_count": 7,
   "id": "def270dc-ac6b-402c-b8eb-8efc7514317a",
   "metadata": {},
   "outputs": [
    {
     "name": "stdout",
     "output_type": "stream",
     "text": [
      "예약 : 0.8801\n",
      "아들딸 : 0.8740\n",
      "회식 : 0.8734\n",
      "바빠 : 0.8655\n",
      "마침 : 0.8626\n",
      "메가폰 : 0.8561\n",
      "선임 : 0.8546\n",
      "안길 : 0.8545\n",
      "내게로 : 0.8526\n",
      "주무시 : 0.8525\n"
     ]
    }
   ],
   "source": [
    "my_word2vec = Word2VecKeyedVectors.load('my_word2vec.model')\n",
    "\n",
    "similar_words = my_word2vec.wv.most_similar('인사', topn=10)\n",
    "\n",
    "for word, sim in similar_words:\n",
    "    print(f\"{word} : {sim:.4f}\")"
   ]
  },
  {
   "cell_type": "code",
   "execution_count": 8,
   "id": "5ca7129a-53af-43fb-bdf1-cb7185459aee",
   "metadata": {},
   "outputs": [
    {
     "name": "stdout",
     "output_type": "stream",
     "text": [
      "간부 : 0.7544\n",
      "당직자 : 0.7461\n",
      "공직자 : 0.7056\n",
      "각료 : 0.7035\n",
      "재야인사 : 0.6862\n",
      "실무자 : 0.6848\n",
      "원로 : 0.6823\n",
      "언관 : 0.6762\n",
      "관련자 : 0.6568\n",
      "고위층 : 0.6550\n"
     ]
    }
   ],
   "source": [
    "word2vec_ko = Word2VecKeyedVectors.load('word2vec_ko.model')\n",
    "similar_words = word2vec_ko.wv.most_similar('인사', topn=10)\n",
    "for word, sim in similar_words:\n",
    "    print(f\"{word} : {sim:.4f}\")"
   ]
  },
  {
   "cell_type": "code",
   "execution_count": 9,
   "id": "efd46a5c-2113-4a66-b67d-50f7aaeb38a2",
   "metadata": {},
   "outputs": [
    {
     "name": "stdout",
     "output_type": "stream",
     "text": [
      "민주 : 0.8026\n",
      "성범죄 : 0.7645\n",
      "정당 : 0.7484\n",
      "양연 : 0.7452\n",
      "광주 : 0.7390\n",
      "바쁜 : 0.7313\n",
      "합리 : 0.7310\n",
      "채식 : 0.7264\n",
      "가두 : 0.7241\n",
      "성폭행 : 0.7215\n"
     ]
    }
   ],
   "source": [
    "similar_words = my_word2vec.wv.most_similar('운동', topn=10)\n",
    "\n",
    "for word, sim in similar_words:\n",
    "    print(f\"{word} : {sim:.4f}\")"
   ]
  },
  {
   "cell_type": "code",
   "execution_count": 10,
   "id": "3ea7cb5c-703d-4328-bd72-515b6b86d930",
   "metadata": {},
   "outputs": [
    {
     "name": "stdout",
     "output_type": "stream",
     "text": [
      "투쟁 : 0.7498\n",
      "독립운동 : 0.7316\n",
      "시위운동 : 0.7141\n",
      "혁명 : 0.6591\n",
      "시민운동 : 0.6573\n",
      "총파업 : 0.6426\n",
      "계몽 : 0.6406\n",
      "반공 : 0.6396\n",
      "항쟁 : 0.6314\n",
      "반핵 : 0.6169\n"
     ]
    }
   ],
   "source": [
    "similar_words = word2vec_ko.wv.most_similar('운동', topn=10)\n",
    "for word, sim in similar_words:\n",
    "    print(f\"{word} : {sim:.4f}\")"
   ]
  },
  {
   "cell_type": "code",
   "execution_count": 11,
   "id": "54876072-d8a6-4e78-ab85-0d319e616886",
   "metadata": {},
   "outputs": [],
   "source": [
    "# 학습해둔 Word2Vec 모델 불러오기\n",
    "my_word2vec_model = Word2Vec.load('my_word2vec.model')\n",
    "# 임베딩 차원 수 설정. Word2Vec 학습 시 사용한 vector_size와 동일해야 함\n",
    "embedding_dim = 100\n",
    "# 전체 단어 수\n",
    "vocab_size = len(word_to_index)\n",
    "# 임베딩 매트릭스 초기화: [vocab_size, embedding_dim]. 각 단어의 인덱스에 해당하는 위치에 벡터를 채워 넣음\n",
    "embedding_matrix = np.zeros((vocab_size, embedding_dim))\n",
    "for word, idx in word_to_index.items():\n",
    "    if word in my_word2vec_model.wv:\n",
    "        # Word2Vec 모델에 존재하는 단어면 해당 임베딩 사용\n",
    "        embedding_matrix[idx] = my_word2vec_model.wv[word]\n",
    "    else:\n",
    "        # Word2Vec에 없는 단어는 정규분포에서 무작위 벡터로 초기화\n",
    "        embedding_matrix[idx] = np.random.normal(scale=0.6, size=(embedding_dim, ))\n",
    "# torch.nn.Embedding 레이어로 변환. 사전 훈련된 임베딩을 사용하면서도 학습 중 업데이트 가능 (freeze=False)\n",
    "embedding_layer = nn.Embedding.from_pretrained(torch.FloatTensor(embedding_matrix), freeze=False)"
   ]
  },
  {
   "cell_type": "code",
   "execution_count": 12,
   "id": "75531296-68ec-41ea-a4fb-92cb8aba542c",
   "metadata": {},
   "outputs": [],
   "source": [
    "class RNNClassifier(nn.Module):\n",
    "    def __init__(self, embedding_layer, hidden_size, output_size=1, num_layers=1, dropout=0.2):\n",
    "        super(RNNClassifier, self).__init__()\n",
    "        self.embedding = embedding_layer  # 사전 정의된 임베딩 레이어 사용\n",
    "        self.rnn = nn.RNN(\n",
    "            input_size=embedding_layer.embedding_dim,\n",
    "            hidden_size=hidden_size,\n",
    "            num_layers=num_layers,\n",
    "            batch_first=True,\n",
    "            dropout=dropout if num_layers > 1 else 0  # 1개 레이어일 땐 dropout 적용 안 됨\n",
    "        )\n",
    "        self.fc = nn.Linear(hidden_size, output_size)  # 마지막 hidden state를 받아서 출력으로 변환\n",
    "\n",
    "    def forward(self, x):\n",
    "        x = self.embedding(x) # [batch_size, seq_len, emb_dim]\n",
    "        output, hidden = self.rnn(x) # hidden: [num_layers, batch_size, hidden_size]\n",
    "        out = self.fc(hidden[-1]) # 가장 마지막 RNN layer의 hidden state 사용\n",
    "        out = out.squeeze(1) # [batch_size] 형태로 변환\n",
    "        return out\n",
    "\n",
    "#-----------------------------------------------------------------------------------------------------------------------------------------\n",
    "\n",
    "class LSTMClassifier(nn.Module):\n",
    "    def __init__(self, embedding_layer, hidden_size, output_size=1, num_layers=1, dropout=0.2):\n",
    "        super(LSTMClassifier, self).__init__()\n",
    "        self.embedding = embedding_layer\n",
    "        self.lstm = nn.LSTM(\n",
    "            input_size=embedding_layer.embedding_dim,\n",
    "            hidden_size=hidden_size,\n",
    "            num_layers=num_layers,\n",
    "            batch_first=True,\n",
    "            dropout=dropout if num_layers > 1 else 0\n",
    "        )\n",
    "        self.fc = nn.Linear(hidden_size, output_size)\n",
    "\n",
    "    def forward(self, x):\n",
    "        x = self.embedding(x) # [batch_size, seq_len, emb_dim]\n",
    "        output, (hidden, _) = self.lstm(x) # hidden: [num_layers, batch_size, hidden_size]\n",
    "        out = self.fc(hidden[-1]) # 마지막 LSTM layer의 hidden state 사용\n",
    "        out = out.squeeze(1) # [batch_size] 형태로 변환\n",
    "        return out\n",
    "\n",
    "#-----------------------------------------------------------------------------------------------------------------------------------------\n",
    "\n",
    "class CNNClassifier(nn.Module):\n",
    "    def __init__(self, embedding_layer, output_size=1, num_filters=100, kernel_sizes=(2, 3, 4), dropout=0.5):\n",
    "        super(CNNClassifier, self).__init__()\n",
    "        self.embedding = embedding_layer\n",
    "        self.convs = nn.ModuleList([\n",
    "            nn.Conv1d(\n",
    "                in_channels=embedding_layer.embedding_dim,\n",
    "                out_channels=num_filters,\n",
    "                kernel_size=k\n",
    "            ) for k in kernel_sizes\n",
    "        ])\n",
    "        self.relu = nn.ReLU()\n",
    "        self.dropout = nn.Dropout(dropout)\n",
    "        self.fc = nn.Linear(num_filters * len(kernel_sizes), output_size)\n",
    "\n",
    "    def forward(self, x):\n",
    "        x = self.embedding(x) # [batch_size, seq_len, emb_dim]\n",
    "        x = x.permute(0, 2, 1) # [batch_size, emb_dim, seq_len]로 변환 (Conv1d 입력 형태)\n",
    "\n",
    "        conv_outs = []\n",
    "        for conv in self.convs:\n",
    "            conv_x = self.relu(conv(x)) # [batch_size, num_filters, L_out]\n",
    "            pooled_x = F.max_pool1d(conv_x, kernel_size=conv_x.size(2)) # 각 채널에 대해 max pooling\n",
    "            pooled_x = pooled_x.squeeze(2) # [batch_size, num_filters]\n",
    "            conv_outs.append(pooled_x)\n",
    "\n",
    "        x = torch.cat(conv_outs, dim=1) # [batch_size, num_filters * len(kernel_sizes)]\n",
    "        x = self.dropout(x)\n",
    "        out = self.fc(x) # [batch_size, output_size]\n",
    "        out = out.squeeze(1) # [batch_size] 형태로 변환\n",
    "        return out            "
   ]
  },
  {
   "cell_type": "code",
   "execution_count": 13,
   "id": "cfd584b8-0cd2-4ad8-91e8-d4d75e4050cf",
   "metadata": {},
   "outputs": [],
   "source": [
    "hidden_size = 128\n",
    "model = RNNClassifier(embedding_layer, hidden_size)\n",
    "criterion = nn.BCEWithLogitsLoss()\n",
    "optimizer = torch.optim.Adam(model.parameters(), lr=1e-3)\n",
    "device = torch.device(\"cuda\" if torch.cuda.is_available() else \"cpu\")\n",
    "model = model.to(device)"
   ]
  },
  {
   "cell_type": "code",
   "execution_count": 14,
   "id": "48709eac-2010-41d7-af8b-b8caebca8be4",
   "metadata": {},
   "outputs": [
    {
     "name": "stderr",
     "output_type": "stream",
     "text": [
      "100%|██████████| 1828/1828 [00:05<00:00, 307.10it/s]\n",
      "100%|██████████| 457/457 [00:00<00:00, 837.35it/s]\n"
     ]
    },
    {
     "name": "stdout",
     "output_type": "stream",
     "text": [
      "Epoch [1/20]\n",
      "Train Loss: 0.3933, Train Acc: 0.8195\n",
      "Valid Loss: 0.3707, Valid Acc: 0.8407\n"
     ]
    },
    {
     "name": "stderr",
     "output_type": "stream",
     "text": [
      "100%|██████████| 1828/1828 [00:05<00:00, 324.76it/s]\n",
      "100%|██████████| 457/457 [00:00<00:00, 842.92it/s]\n"
     ]
    },
    {
     "name": "stdout",
     "output_type": "stream",
     "text": [
      "Epoch [2/20]\n",
      "Train Loss: 0.3380, Train Acc: 0.8492\n",
      "Valid Loss: 0.3503, Valid Acc: 0.8504\n"
     ]
    },
    {
     "name": "stderr",
     "output_type": "stream",
     "text": [
      "100%|██████████| 1828/1828 [00:05<00:00, 332.66it/s]\n",
      "100%|██████████| 457/457 [00:00<00:00, 900.08it/s]\n"
     ]
    },
    {
     "name": "stdout",
     "output_type": "stream",
     "text": [
      "Epoch [3/20]\n",
      "Train Loss: 0.3078, Train Acc: 0.8645\n",
      "Valid Loss: 0.3423, Valid Acc: 0.8417\n"
     ]
    },
    {
     "name": "stderr",
     "output_type": "stream",
     "text": [
      "100%|██████████| 1828/1828 [00:05<00:00, 322.87it/s]\n",
      "100%|██████████| 457/457 [00:00<00:00, 885.18it/s]\n"
     ]
    },
    {
     "name": "stdout",
     "output_type": "stream",
     "text": [
      "Epoch [4/20]\n",
      "Train Loss: 0.2813, Train Acc: 0.8774\n",
      "Valid Loss: 0.3678, Valid Acc: 0.8500\n"
     ]
    },
    {
     "name": "stderr",
     "output_type": "stream",
     "text": [
      "100%|██████████| 1828/1828 [00:05<00:00, 332.39it/s]\n",
      "100%|██████████| 457/457 [00:00<00:00, 727.86it/s]\n"
     ]
    },
    {
     "name": "stdout",
     "output_type": "stream",
     "text": [
      "Epoch [5/20]\n",
      "Train Loss: 0.2577, Train Acc: 0.8884\n",
      "Valid Loss: 0.3490, Valid Acc: 0.8511\n"
     ]
    },
    {
     "name": "stderr",
     "output_type": "stream",
     "text": [
      "100%|██████████| 1828/1828 [00:05<00:00, 328.75it/s]\n",
      "100%|██████████| 457/457 [00:00<00:00, 859.11it/s]\n"
     ]
    },
    {
     "name": "stdout",
     "output_type": "stream",
     "text": [
      "Epoch [6/20]\n",
      "Train Loss: 0.2368, Train Acc: 0.9000\n",
      "Valid Loss: 0.3754, Valid Acc: 0.8515\n"
     ]
    },
    {
     "name": "stderr",
     "output_type": "stream",
     "text": [
      "100%|██████████| 1828/1828 [00:05<00:00, 325.84it/s]\n",
      "100%|██████████| 457/457 [00:00<00:00, 876.52it/s]\n"
     ]
    },
    {
     "name": "stdout",
     "output_type": "stream",
     "text": [
      "Epoch [7/20]\n",
      "Train Loss: 0.2135, Train Acc: 0.9118\n",
      "Valid Loss: 0.3819, Valid Acc: 0.8486\n"
     ]
    },
    {
     "name": "stderr",
     "output_type": "stream",
     "text": [
      "100%|██████████| 1828/1828 [00:05<00:00, 332.77it/s]\n",
      "100%|██████████| 457/457 [00:00<00:00, 892.41it/s]\n"
     ]
    },
    {
     "name": "stdout",
     "output_type": "stream",
     "text": [
      "Epoch [8/20]\n",
      "Train Loss: 0.1938, Train Acc: 0.9215\n",
      "Valid Loss: 0.4228, Valid Acc: 0.8487\n"
     ]
    },
    {
     "name": "stderr",
     "output_type": "stream",
     "text": [
      "100%|██████████| 1828/1828 [00:05<00:00, 325.63it/s]\n",
      "100%|██████████| 457/457 [00:00<00:00, 899.95it/s]\n"
     ]
    },
    {
     "name": "stdout",
     "output_type": "stream",
     "text": [
      "Epoch [9/20]\n",
      "Train Loss: 0.1775, Train Acc: 0.9286\n",
      "Valid Loss: 0.4586, Valid Acc: 0.8483\n"
     ]
    },
    {
     "name": "stderr",
     "output_type": "stream",
     "text": [
      "100%|██████████| 1828/1828 [00:05<00:00, 330.73it/s]\n",
      "100%|██████████| 457/457 [00:00<00:00, 905.74it/s]\n"
     ]
    },
    {
     "name": "stdout",
     "output_type": "stream",
     "text": [
      "Epoch [10/20]\n",
      "Train Loss: 0.1634, Train Acc: 0.9354\n",
      "Valid Loss: 0.4592, Valid Acc: 0.8443\n"
     ]
    },
    {
     "name": "stderr",
     "output_type": "stream",
     "text": [
      "100%|██████████| 1828/1828 [00:05<00:00, 328.51it/s]\n",
      "100%|██████████| 457/457 [00:00<00:00, 904.50it/s]\n"
     ]
    },
    {
     "name": "stdout",
     "output_type": "stream",
     "text": [
      "Epoch [11/20]\n",
      "Train Loss: 0.1477, Train Acc: 0.9426\n",
      "Valid Loss: 0.4517, Valid Acc: 0.8423\n"
     ]
    },
    {
     "name": "stderr",
     "output_type": "stream",
     "text": [
      "100%|██████████| 1828/1828 [00:05<00:00, 324.75it/s]\n",
      "100%|██████████| 457/457 [00:00<00:00, 882.16it/s]\n"
     ]
    },
    {
     "name": "stdout",
     "output_type": "stream",
     "text": [
      "Epoch [12/20]\n",
      "Train Loss: 0.1459, Train Acc: 0.9436\n",
      "Valid Loss: 0.4903, Valid Acc: 0.8395\n"
     ]
    },
    {
     "name": "stderr",
     "output_type": "stream",
     "text": [
      "100%|██████████| 1828/1828 [00:05<00:00, 335.71it/s]\n",
      "100%|██████████| 457/457 [00:00<00:00, 900.21it/s]\n"
     ]
    },
    {
     "name": "stdout",
     "output_type": "stream",
     "text": [
      "Epoch [13/20]\n",
      "Train Loss: 0.1229, Train Acc: 0.9537\n",
      "Valid Loss: 0.5370, Valid Acc: 0.8415\n"
     ]
    },
    {
     "name": "stderr",
     "output_type": "stream",
     "text": [
      "100%|██████████| 1828/1828 [00:05<00:00, 323.82it/s]\n",
      "100%|██████████| 457/457 [00:00<00:00, 888.90it/s]\n"
     ]
    },
    {
     "name": "stdout",
     "output_type": "stream",
     "text": [
      "Epoch [14/20]\n",
      "Train Loss: 0.1175, Train Acc: 0.9557\n",
      "Valid Loss: 0.5353, Valid Acc: 0.8422\n"
     ]
    },
    {
     "name": "stderr",
     "output_type": "stream",
     "text": [
      "100%|██████████| 1828/1828 [00:05<00:00, 327.54it/s]\n",
      "100%|██████████| 457/457 [00:00<00:00, 838.75it/s]\n"
     ]
    },
    {
     "name": "stdout",
     "output_type": "stream",
     "text": [
      "Epoch [15/20]\n",
      "Train Loss: 0.1257, Train Acc: 0.9521\n",
      "Valid Loss: 0.5332, Valid Acc: 0.8418\n"
     ]
    },
    {
     "name": "stderr",
     "output_type": "stream",
     "text": [
      "100%|██████████| 1828/1828 [00:05<00:00, 331.00it/s]\n",
      "100%|██████████| 457/457 [00:00<00:00, 875.44it/s]\n"
     ]
    },
    {
     "name": "stdout",
     "output_type": "stream",
     "text": [
      "Epoch [16/20]\n",
      "Train Loss: 0.1034, Train Acc: 0.9615\n",
      "Valid Loss: 0.5655, Valid Acc: 0.8395\n"
     ]
    },
    {
     "name": "stderr",
     "output_type": "stream",
     "text": [
      "100%|██████████| 1828/1828 [00:05<00:00, 329.63it/s]\n",
      "100%|██████████| 457/457 [00:00<00:00, 872.37it/s]\n"
     ]
    },
    {
     "name": "stdout",
     "output_type": "stream",
     "text": [
      "Epoch [17/20]\n",
      "Train Loss: 0.1028, Train Acc: 0.9616\n",
      "Valid Loss: 0.5890, Valid Acc: 0.8404\n"
     ]
    },
    {
     "name": "stderr",
     "output_type": "stream",
     "text": [
      "100%|██████████| 1828/1828 [00:05<00:00, 333.30it/s]\n",
      "100%|██████████| 457/457 [00:00<00:00, 882.17it/s]\n"
     ]
    },
    {
     "name": "stdout",
     "output_type": "stream",
     "text": [
      "Epoch [18/20]\n",
      "Train Loss: 0.0898, Train Acc: 0.9670\n",
      "Valid Loss: 0.6131, Valid Acc: 0.8356\n"
     ]
    },
    {
     "name": "stderr",
     "output_type": "stream",
     "text": [
      "100%|██████████| 1828/1828 [00:05<00:00, 328.30it/s]\n",
      "100%|██████████| 457/457 [00:00<00:00, 847.16it/s]\n"
     ]
    },
    {
     "name": "stdout",
     "output_type": "stream",
     "text": [
      "Epoch [19/20]\n",
      "Train Loss: 0.0852, Train Acc: 0.9689\n",
      "Valid Loss: 0.6306, Valid Acc: 0.8319\n"
     ]
    },
    {
     "name": "stderr",
     "output_type": "stream",
     "text": [
      "100%|██████████| 1828/1828 [00:05<00:00, 329.02it/s]\n",
      "100%|██████████| 457/457 [00:00<00:00, 887.55it/s]"
     ]
    },
    {
     "name": "stdout",
     "output_type": "stream",
     "text": [
      "Epoch [20/20]\n",
      "Train Loss: 0.0775, Train Acc: 0.9718\n",
      "Valid Loss: 0.6897, Valid Acc: 0.8336\n"
     ]
    },
    {
     "name": "stderr",
     "output_type": "stream",
     "text": [
      "\n"
     ]
    }
   ],
   "source": [
    "num_epochs = 20\n",
    "train_losses = []\n",
    "valid_losses = []\n",
    "train_accuracies = []\n",
    "valid_accuracies = []\n",
    "best_valid_acc = 0.0\n",
    "\n",
    "for epoch in range(num_epochs):\n",
    "    model.train()\n",
    "    train_loss = 0\n",
    "    correct = 0\n",
    "    total = 0\n",
    "\n",
    "    for inputs, labels in tqdm(train_loader):\n",
    "        inputs, labels = inputs.to(device), labels.to(device)\n",
    "\n",
    "        optimizer.zero_grad()\n",
    "        outputs = model(inputs)\n",
    "        loss = criterion(outputs, labels)\n",
    "        loss.backward()\n",
    "        optimizer.step()\n",
    "\n",
    "        train_loss += loss.item()\n",
    "        preds = (outputs > 0.5).float()\n",
    "        correct += (preds == labels).sum().item()\n",
    "        total += labels.size(0)\n",
    "\n",
    "    avg_train_loss = train_loss / len(train_loader)\n",
    "    train_acc = correct / total\n",
    "\n",
    "    train_losses.append(avg_train_loss)\n",
    "    train_accuracies.append(train_acc)\n",
    "\n",
    "    model.eval()\n",
    "    valid_loss = 0\n",
    "    correct = 0\n",
    "    total = 0\n",
    "\n",
    "    with torch.no_grad():\n",
    "        for inputs, labels in tqdm(valid_loader):\n",
    "            inputs, labels = inputs.to(device), labels.to(device)\n",
    "            outputs = model(inputs)\n",
    "            loss = criterion(outputs, labels)\n",
    "\n",
    "            valid_loss += loss.item()\n",
    "            preds = (outputs > 0.5).float()\n",
    "            correct += (preds == labels).sum().item()\n",
    "            total += labels.size(0)\n",
    "\n",
    "    avg_valid_loss = valid_loss / len(valid_loader)\n",
    "    valid_acc = correct / total\n",
    "\n",
    "    valid_losses.append(avg_valid_loss)\n",
    "    valid_accuracies.append(valid_acc)\n",
    "    \n",
    "    if valid_acc > best_valid_acc:\n",
    "        best_valid_acc = valid_acc\n",
    "        torch.save(model.state_dict(), 'my_word2vec_rnn.pth')\n",
    "\n",
    "    print(f'Epoch [{epoch+1}/{num_epochs}]')\n",
    "    print(f'Train Loss: {avg_train_loss:.4f}, Train Acc: {train_acc:.4f}')\n",
    "    print(f'Valid Loss: {avg_valid_loss:.4f}, Valid Acc: {valid_acc:.4f}')"
   ]
  },
  {
   "cell_type": "code",
   "execution_count": 15,
   "id": "9b58455e-48ea-4d89-bc6d-4455f47e923d",
   "metadata": {},
   "outputs": [
    {
     "data": {
      "image/png": "[encoded data removed]",
      "text/plain": [
       "<Figure size 640x480 with 1 Axes>"
      ]
     },
     "metadata": {},
     "output_type": "display_data"
    }
   ],
   "source": [
    "plt.plot(train_losses, label='Train Loss')\n",
    "plt.plot(valid_losses, label='Valid Loss')\n",
    "plt.xlabel('Epoch')\n",
    "plt.ylabel('Loss')\n",
    "plt.title('Loss Curve')\n",
    "plt.legend()\n",
    "plt.grid()\n",
    "plt.show()"
   ]
  },
  {
   "cell_type": "code",
   "execution_count": 16,
   "id": "65e6250a-23bc-42a1-a844-7a402626a01a",
   "metadata": {},
   "outputs": [
    {
     "name": "stdout",
     "output_type": "stream",
     "text": [
      "Test Loss: 0.3752, Test Accuracy: 0.8509\n"
     ]
    }
   ],
   "source": [
    "model.load_state_dict(torch.load('my_word2vec_rnn.pth'))\n",
    "model.to(device)\n",
    "model.eval()\n",
    "test_loss = 0\n",
    "correct = 0\n",
    "total = 0\n",
    "\n",
    "with torch.no_grad():\n",
    "    for inputs, labels in test_loader:\n",
    "        inputs, labels = inputs.to(device), labels.to(device)\n",
    "        outputs = model(inputs)\n",
    "        loss = criterion(outputs, labels)\n",
    "\n",
    "        test_loss += loss.item()\n",
    "        preds = (outputs > 0.5).float()\n",
    "        correct += (preds == labels).sum().item()\n",
    "        total += labels.size(0)\n",
    "\n",
    "avg_test_loss = test_loss / len(test_loader)\n",
    "test_acc = correct / total\n",
    "\n",
    "print(f\"Test Loss: {avg_test_loss:.4f}, Test Accuracy: {test_acc:.4f}\")"
   ]
  },
  {
   "cell_type": "code",
   "execution_count": 17,
   "id": "f17c5cdb-e338-4501-b85b-0c38726a14a5",
   "metadata": {},
   "outputs": [],
   "source": [
    "hidden_size = 128\n",
    "model = LSTMClassifier(embedding_layer, hidden_size)\n",
    "criterion = nn.BCEWithLogitsLoss()\n",
    "optimizer = torch.optim.Adam(model.parameters(), lr=1e-3)\n",
    "device = torch.device(\"cuda\" if torch.cuda.is_available() else \"cpu\")\n",
    "model = model.to(device)"
   ]
  },
  {
   "cell_type": "code",
   "execution_count": 18,
   "id": "7c85dc4f-128d-4f16-ae69-8f4bd798a80e",
   "metadata": {},
   "outputs": [
    {
     "name": "stderr",
     "output_type": "stream",
     "text": [
      "100%|██████████| 1828/1828 [00:06<00:00, 288.11it/s]\n",
      "100%|██████████| 457/457 [00:00<00:00, 667.35it/s]\n"
     ]
    },
    {
     "name": "stdout",
     "output_type": "stream",
     "text": [
      "Epoch [1/20]\n",
      "Train Loss: 0.2845, Train Acc: 0.8749\n",
      "Valid Loss: 0.3380, Valid Acc: 0.8516\n"
     ]
    },
    {
     "name": "stderr",
     "output_type": "stream",
     "text": [
      "100%|██████████| 1828/1828 [00:06<00:00, 288.09it/s]\n",
      "100%|██████████| 457/457 [00:00<00:00, 667.19it/s]\n"
     ]
    },
    {
     "name": "stdout",
     "output_type": "stream",
     "text": [
      "Epoch [2/20]\n",
      "Train Loss: 0.2249, Train Acc: 0.9059\n",
      "Valid Loss: 0.3486, Valid Acc: 0.8560\n"
     ]
    },
    {
     "name": "stderr",
     "output_type": "stream",
     "text": [
      "100%|██████████| 1828/1828 [00:06<00:00, 285.33it/s]\n",
      "100%|██████████| 457/457 [00:00<00:00, 665.21it/s]\n"
     ]
    },
    {
     "name": "stdout",
     "output_type": "stream",
     "text": [
      "Epoch [3/20]\n",
      "Train Loss: 0.1936, Train Acc: 0.9209\n",
      "Valid Loss: 0.3619, Valid Acc: 0.8505\n"
     ]
    },
    {
     "name": "stderr",
     "output_type": "stream",
     "text": [
      "100%|██████████| 1828/1828 [00:06<00:00, 289.43it/s]\n",
      "100%|██████████| 457/457 [00:00<00:00, 667.35it/s]\n"
     ]
    },
    {
     "name": "stdout",
     "output_type": "stream",
     "text": [
      "Epoch [4/20]\n",
      "Train Loss: 0.1688, Train Acc: 0.9321\n",
      "Valid Loss: 0.3986, Valid Acc: 0.8550\n"
     ]
    },
    {
     "name": "stderr",
     "output_type": "stream",
     "text": [
      "100%|██████████| 1828/1828 [00:06<00:00, 290.90it/s]\n",
      "100%|██████████| 457/457 [00:00<00:00, 672.51it/s]\n"
     ]
    },
    {
     "name": "stdout",
     "output_type": "stream",
     "text": [
      "Epoch [5/20]\n",
      "Train Loss: 0.1405, Train Acc: 0.9452\n",
      "Valid Loss: 0.4412, Valid Acc: 0.8530\n"
     ]
    },
    {
     "name": "stderr",
     "output_type": "stream",
     "text": [
      "100%|██████████| 1828/1828 [00:06<00:00, 286.85it/s]\n",
      "100%|██████████| 457/457 [00:00<00:00, 668.54it/s]\n"
     ]
    },
    {
     "name": "stdout",
     "output_type": "stream",
     "text": [
      "Epoch [6/20]\n",
      "Train Loss: 0.1179, Train Acc: 0.9550\n",
      "Valid Loss: 0.4892, Valid Acc: 0.8503\n"
     ]
    },
    {
     "name": "stderr",
     "output_type": "stream",
     "text": [
      "100%|██████████| 1828/1828 [00:06<00:00, 286.59it/s]\n",
      "100%|██████████| 457/457 [00:00<00:00, 671.56it/s]\n"
     ]
    },
    {
     "name": "stdout",
     "output_type": "stream",
     "text": [
      "Epoch [7/20]\n",
      "Train Loss: 0.0999, Train Acc: 0.9625\n",
      "Valid Loss: 0.5331, Valid Acc: 0.8481\n"
     ]
    },
    {
     "name": "stderr",
     "output_type": "stream",
     "text": [
      "100%|██████████| 1828/1828 [00:06<00:00, 294.39it/s]\n",
      "100%|██████████| 457/457 [00:00<00:00, 683.70it/s]\n"
     ]
    },
    {
     "name": "stdout",
     "output_type": "stream",
     "text": [
      "Epoch [8/20]\n",
      "Train Loss: 0.0824, Train Acc: 0.9693\n",
      "Valid Loss: 0.6189, Valid Acc: 0.8493\n"
     ]
    },
    {
     "name": "stderr",
     "output_type": "stream",
     "text": [
      "100%|██████████| 1828/1828 [00:06<00:00, 290.95it/s]\n",
      "100%|██████████| 457/457 [00:00<00:00, 635.63it/s]\n"
     ]
    },
    {
     "name": "stdout",
     "output_type": "stream",
     "text": [
      "Epoch [9/20]\n",
      "Train Loss: 0.0674, Train Acc: 0.9750\n",
      "Valid Loss: 0.6857, Valid Acc: 0.8470\n"
     ]
    },
    {
     "name": "stderr",
     "output_type": "stream",
     "text": [
      "100%|██████████| 1828/1828 [00:06<00:00, 289.14it/s]\n",
      "100%|██████████| 457/457 [00:00<00:00, 678.72it/s]\n"
     ]
    },
    {
     "name": "stdout",
     "output_type": "stream",
     "text": [
      "Epoch [10/20]\n",
      "Train Loss: 0.0621, Train Acc: 0.9771\n",
      "Valid Loss: 0.6551, Valid Acc: 0.8488\n"
     ]
    },
    {
     "name": "stderr",
     "output_type": "stream",
     "text": [
      "100%|██████████| 1828/1828 [00:06<00:00, 294.33it/s]\n",
      "100%|██████████| 457/457 [00:00<00:00, 659.73it/s]\n"
     ]
    },
    {
     "name": "stdout",
     "output_type": "stream",
     "text": [
      "Epoch [11/20]\n",
      "Train Loss: 0.0493, Train Acc: 0.9823\n",
      "Valid Loss: 0.7879, Valid Acc: 0.8454\n"
     ]
    },
    {
     "name": "stderr",
     "output_type": "stream",
     "text": [
      "100%|██████████| 1828/1828 [00:06<00:00, 286.81it/s]\n",
      "100%|██████████| 457/457 [00:00<00:00, 673.00it/s]\n"
     ]
    },
    {
     "name": "stdout",
     "output_type": "stream",
     "text": [
      "Epoch [12/20]\n",
      "Train Loss: 0.0393, Train Acc: 0.9853\n",
      "Valid Loss: 0.8943, Valid Acc: 0.8448\n"
     ]
    },
    {
     "name": "stderr",
     "output_type": "stream",
     "text": [
      "100%|██████████| 1828/1828 [00:06<00:00, 290.48it/s]\n",
      "100%|██████████| 457/457 [00:00<00:00, 672.63it/s]\n"
     ]
    },
    {
     "name": "stdout",
     "output_type": "stream",
     "text": [
      "Epoch [13/20]\n",
      "Train Loss: 0.0380, Train Acc: 0.9860\n",
      "Valid Loss: 0.9069, Valid Acc: 0.8452\n"
     ]
    },
    {
     "name": "stderr",
     "output_type": "stream",
     "text": [
      "100%|██████████| 1828/1828 [00:06<00:00, 290.52it/s]\n",
      "100%|██████████| 457/457 [00:00<00:00, 649.60it/s]\n"
     ]
    },
    {
     "name": "stdout",
     "output_type": "stream",
     "text": [
      "Epoch [14/20]\n",
      "Train Loss: 0.0306, Train Acc: 0.9886\n",
      "Valid Loss: 0.9808, Valid Acc: 0.8421\n"
     ]
    },
    {
     "name": "stderr",
     "output_type": "stream",
     "text": [
      "100%|██████████| 1828/1828 [00:06<00:00, 293.19it/s]\n",
      "100%|██████████| 457/457 [00:00<00:00, 651.92it/s]\n"
     ]
    },
    {
     "name": "stdout",
     "output_type": "stream",
     "text": [
      "Epoch [15/20]\n",
      "Train Loss: 0.0281, Train Acc: 0.9894\n",
      "Valid Loss: 1.0325, Valid Acc: 0.8418\n"
     ]
    },
    {
     "name": "stderr",
     "output_type": "stream",
     "text": [
      "100%|██████████| 1828/1828 [00:06<00:00, 288.26it/s]\n",
      "100%|██████████| 457/457 [00:00<00:00, 678.87it/s]\n"
     ]
    },
    {
     "name": "stdout",
     "output_type": "stream",
     "text": [
      "Epoch [16/20]\n",
      "Train Loss: 0.0233, Train Acc: 0.9910\n",
      "Valid Loss: 1.0393, Valid Acc: 0.8415\n"
     ]
    },
    {
     "name": "stderr",
     "output_type": "stream",
     "text": [
      "100%|██████████| 1828/1828 [00:06<00:00, 288.90it/s]\n",
      "100%|██████████| 457/457 [00:00<00:00, 665.06it/s]\n"
     ]
    },
    {
     "name": "stdout",
     "output_type": "stream",
     "text": [
      "Epoch [17/20]\n",
      "Train Loss: 0.0200, Train Acc: 0.9921\n",
      "Valid Loss: 1.1298, Valid Acc: 0.8390\n"
     ]
    },
    {
     "name": "stderr",
     "output_type": "stream",
     "text": [
      "100%|██████████| 1828/1828 [00:06<00:00, 292.23it/s]\n",
      "100%|██████████| 457/457 [00:00<00:00, 671.86it/s]\n"
     ]
    },
    {
     "name": "stdout",
     "output_type": "stream",
     "text": [
      "Epoch [18/20]\n",
      "Train Loss: 0.0200, Train Acc: 0.9922\n",
      "Valid Loss: 1.1229, Valid Acc: 0.8393\n"
     ]
    },
    {
     "name": "stderr",
     "output_type": "stream",
     "text": [
      "100%|██████████| 1828/1828 [00:06<00:00, 289.11it/s]\n",
      "100%|██████████| 457/457 [00:00<00:00, 668.09it/s]\n"
     ]
    },
    {
     "name": "stdout",
     "output_type": "stream",
     "text": [
      "Epoch [19/20]\n",
      "Train Loss: 0.0179, Train Acc: 0.9928\n",
      "Valid Loss: 1.1453, Valid Acc: 0.8410\n"
     ]
    },
    {
     "name": "stderr",
     "output_type": "stream",
     "text": [
      "100%|██████████| 1828/1828 [00:06<00:00, 289.06it/s]\n",
      "100%|██████████| 457/457 [00:00<00:00, 670.06it/s]"
     ]
    },
    {
     "name": "stdout",
     "output_type": "stream",
     "text": [
      "Epoch [20/20]\n",
      "Train Loss: 0.0161, Train Acc: 0.9936\n",
      "Valid Loss: 1.2243, Valid Acc: 0.8403\n"
     ]
    },
    {
     "name": "stderr",
     "output_type": "stream",
     "text": [
      "\n"
     ]
    }
   ],
   "source": [
    "num_epochs = 20\n",
    "train_losses = []\n",
    "valid_losses = []\n",
    "train_accuracies = []\n",
    "valid_accuracies = []\n",
    "best_valid_acc = 0.0\n",
    "\n",
    "for epoch in range(num_epochs):\n",
    "    model.train()\n",
    "    train_loss = 0\n",
    "    correct = 0\n",
    "    total = 0\n",
    "\n",
    "    for inputs, labels in tqdm(train_loader):\n",
    "        inputs, labels = inputs.to(device), labels.to(device)\n",
    "\n",
    "        optimizer.zero_grad()\n",
    "        outputs = model(inputs)\n",
    "        loss = criterion(outputs, labels)\n",
    "        loss.backward()\n",
    "        optimizer.step()\n",
    "\n",
    "        train_loss += loss.item()\n",
    "        preds = (outputs > 0.5).float()\n",
    "        correct += (preds == labels).sum().item()\n",
    "        total += labels.size(0)\n",
    "\n",
    "    avg_train_loss = train_loss / len(train_loader)\n",
    "    train_acc = correct / total\n",
    "\n",
    "    train_losses.append(avg_train_loss)\n",
    "    train_accuracies.append(train_acc)\n",
    "\n",
    "    model.eval()\n",
    "    valid_loss = 0\n",
    "    correct = 0\n",
    "    total = 0\n",
    "\n",
    "    with torch.no_grad():\n",
    "        for inputs, labels in tqdm(valid_loader):\n",
    "            inputs, labels = inputs.to(device), labels.to(device)\n",
    "            outputs = model(inputs)\n",
    "            loss = criterion(outputs, labels)\n",
    "\n",
    "            valid_loss += loss.item()\n",
    "            preds = (outputs > 0.5).float()\n",
    "            correct += (preds == labels).sum().item()\n",
    "            total += labels.size(0)\n",
    "\n",
    "    avg_valid_loss = valid_loss / len(valid_loader)\n",
    "    valid_acc = correct / total\n",
    "\n",
    "    valid_losses.append(avg_valid_loss)\n",
    "    valid_accuracies.append(valid_acc)\n",
    "    \n",
    "    if valid_acc > best_valid_acc:\n",
    "        best_valid_acc = valid_acc\n",
    "        torch.save(model.state_dict(), 'my_word2vec_lstm.pth')\n",
    "\n",
    "    print(f'Epoch [{epoch+1}/{num_epochs}]')\n",
    "    print(f'Train Loss: {avg_train_loss:.4f}, Train Acc: {train_acc:.4f}')\n",
    "    print(f'Valid Loss: {avg_valid_loss:.4f}, Valid Acc: {valid_acc:.4f}')"
   ]
  },
  {
   "cell_type": "code",
   "execution_count": 19,
   "id": "e9283e8e-6849-4fa7-9dab-c3e26571596b",
   "metadata": {},
   "outputs": [
    {
     "data": {
      "image/png": "[encoded data removed]",
      "text/plain": [
       "<Figure size 640x480 with 1 Axes>"
      ]
     },
     "metadata": {},
     "output_type": "display_data"
    }
   ],
   "source": [
    "plt.plot(train_losses, label='Train Loss')\n",
    "plt.plot(valid_losses, label='Valid Loss')\n",
    "plt.xlabel('Epoch')\n",
    "plt.ylabel('Loss')\n",
    "plt.title('Loss Curve')\n",
    "plt.legend()\n",
    "plt.grid()\n",
    "plt.show()"
   ]
  },
  {
   "cell_type": "code",
   "execution_count": 20,
   "id": "1ade0be9-5b84-4fc4-93d8-bf0059d330bd",
   "metadata": {},
   "outputs": [
    {
     "name": "stdout",
     "output_type": "stream",
     "text": [
      "Test Loss: 0.3512, Test Accuracy: 0.8562\n"
     ]
    }
   ],
   "source": [
    "model.load_state_dict(torch.load('my_word2vec_lstm.pth'))\n",
    "model.to(device)\n",
    "model.eval()\n",
    "test_loss = 0\n",
    "correct = 0\n",
    "total = 0\n",
    "\n",
    "with torch.no_grad():\n",
    "    for inputs, labels in test_loader:\n",
    "        inputs, labels = inputs.to(device), labels.to(device)\n",
    "        outputs = model(inputs)\n",
    "        loss = criterion(outputs, labels)\n",
    "\n",
    "        test_loss += loss.item()\n",
    "        preds = (outputs > 0.5).float()\n",
    "        correct += (preds == labels).sum().item()\n",
    "        total += labels.size(0)\n",
    "\n",
    "avg_test_loss = test_loss / len(test_loader)\n",
    "test_acc = correct / total\n",
    "\n",
    "print(f\"Test Loss: {avg_test_loss:.4f}, Test Accuracy: {test_acc:.4f}\")"
   ]
  },
  {
   "cell_type": "code",
   "execution_count": 21,
   "id": "ad88ccc0-366d-4dbf-b09b-1e7dc90cc2f0",
   "metadata": {},
   "outputs": [],
   "source": [
    "output_size = 1\n",
    "model = CNNClassifier(embedding_layer, output_size)\n",
    "criterion = nn.BCEWithLogitsLoss()\n",
    "optimizer = torch.optim.Adam(model.parameters(), lr=1e-3)\n",
    "device = torch.device(\"cuda\" if torch.cuda.is_available() else \"cpu\")\n",
    "model = model.to(device)"
   ]
  },
  {
   "cell_type": "code",
   "execution_count": 22,
   "id": "01d9864c-a2fd-48a8-b289-fa66628b4010",
   "metadata": {},
   "outputs": [
    {
     "name": "stderr",
     "output_type": "stream",
     "text": [
      "100%|██████████| 1828/1828 [00:07<00:00, 229.57it/s]\n",
      "100%|██████████| 457/457 [00:00<00:00, 719.87it/s]\n"
     ]
    },
    {
     "name": "stdout",
     "output_type": "stream",
     "text": [
      "Epoch [1/20]\n",
      "Train Loss: 0.2995, Train Acc: 0.8688\n",
      "Valid Loss: 0.3372, Valid Acc: 0.8497\n"
     ]
    },
    {
     "name": "stderr",
     "output_type": "stream",
     "text": [
      "100%|██████████| 1828/1828 [00:07<00:00, 236.48it/s]\n",
      "100%|██████████| 457/457 [00:00<00:00, 705.26it/s]\n"
     ]
    },
    {
     "name": "stdout",
     "output_type": "stream",
     "text": [
      "Epoch [2/20]\n",
      "Train Loss: 0.2501, Train Acc: 0.8937\n",
      "Valid Loss: 0.3296, Valid Acc: 0.8562\n"
     ]
    },
    {
     "name": "stderr",
     "output_type": "stream",
     "text": [
      "100%|██████████| 1828/1828 [00:07<00:00, 237.57it/s]\n",
      "100%|██████████| 457/457 [00:00<00:00, 717.98it/s]\n"
     ]
    },
    {
     "name": "stdout",
     "output_type": "stream",
     "text": [
      "Epoch [3/20]\n",
      "Train Loss: 0.2198, Train Acc: 0.9071\n",
      "Valid Loss: 0.3600, Valid Acc: 0.8551\n"
     ]
    },
    {
     "name": "stderr",
     "output_type": "stream",
     "text": [
      "100%|██████████| 1828/1828 [00:07<00:00, 235.59it/s]\n",
      "100%|██████████| 457/457 [00:00<00:00, 739.61it/s]\n"
     ]
    },
    {
     "name": "stdout",
     "output_type": "stream",
     "text": [
      "Epoch [4/20]\n",
      "Train Loss: 0.1950, Train Acc: 0.9189\n",
      "Valid Loss: 0.3734, Valid Acc: 0.8601\n"
     ]
    },
    {
     "name": "stderr",
     "output_type": "stream",
     "text": [
      "100%|██████████| 1828/1828 [00:07<00:00, 235.49it/s]\n",
      "100%|██████████| 457/457 [00:00<00:00, 710.49it/s]\n"
     ]
    },
    {
     "name": "stdout",
     "output_type": "stream",
     "text": [
      "Epoch [5/20]\n",
      "Train Loss: 0.1722, Train Acc: 0.9297\n",
      "Valid Loss: 0.4013, Valid Acc: 0.8542\n"
     ]
    },
    {
     "name": "stderr",
     "output_type": "stream",
     "text": [
      "100%|██████████| 1828/1828 [00:07<00:00, 237.00it/s]\n",
      "100%|██████████| 457/457 [00:00<00:00, 727.01it/s]\n"
     ]
    },
    {
     "name": "stdout",
     "output_type": "stream",
     "text": [
      "Epoch [6/20]\n",
      "Train Loss: 0.1532, Train Acc: 0.9372\n",
      "Valid Loss: 0.4392, Valid Acc: 0.8514\n"
     ]
    },
    {
     "name": "stderr",
     "output_type": "stream",
     "text": [
      "100%|██████████| 1828/1828 [00:07<00:00, 235.37it/s]\n",
      "100%|██████████| 457/457 [00:00<00:00, 740.90it/s]\n"
     ]
    },
    {
     "name": "stdout",
     "output_type": "stream",
     "text": [
      "Epoch [7/20]\n",
      "Train Loss: 0.1354, Train Acc: 0.9455\n",
      "Valid Loss: 0.4775, Valid Acc: 0.8524\n"
     ]
    },
    {
     "name": "stderr",
     "output_type": "stream",
     "text": [
      "100%|██████████| 1828/1828 [00:07<00:00, 236.69it/s]\n",
      "100%|██████████| 457/457 [00:00<00:00, 688.41it/s]\n"
     ]
    },
    {
     "name": "stdout",
     "output_type": "stream",
     "text": [
      "Epoch [8/20]\n",
      "Train Loss: 0.1202, Train Acc: 0.9516\n",
      "Valid Loss: 0.5512, Valid Acc: 0.8521\n"
     ]
    },
    {
     "name": "stderr",
     "output_type": "stream",
     "text": [
      "100%|██████████| 1828/1828 [00:07<00:00, 238.38it/s]\n",
      "100%|██████████| 457/457 [00:00<00:00, 707.89it/s]\n"
     ]
    },
    {
     "name": "stdout",
     "output_type": "stream",
     "text": [
      "Epoch [9/20]\n",
      "Train Loss: 0.1102, Train Acc: 0.9561\n",
      "Valid Loss: 0.5772, Valid Acc: 0.8510\n"
     ]
    },
    {
     "name": "stderr",
     "output_type": "stream",
     "text": [
      "100%|██████████| 1828/1828 [00:07<00:00, 235.93it/s]\n",
      "100%|██████████| 457/457 [00:00<00:00, 742.48it/s]\n"
     ]
    },
    {
     "name": "stdout",
     "output_type": "stream",
     "text": [
      "Epoch [10/20]\n",
      "Train Loss: 0.0995, Train Acc: 0.9605\n",
      "Valid Loss: 0.6002, Valid Acc: 0.8467\n"
     ]
    },
    {
     "name": "stderr",
     "output_type": "stream",
     "text": [
      "100%|██████████| 1828/1828 [00:07<00:00, 235.42it/s]\n",
      "100%|██████████| 457/457 [00:00<00:00, 714.70it/s]\n"
     ]
    },
    {
     "name": "stdout",
     "output_type": "stream",
     "text": [
      "Epoch [11/20]\n",
      "Train Loss: 0.0913, Train Acc: 0.9636\n",
      "Valid Loss: 0.6413, Valid Acc: 0.8439\n"
     ]
    },
    {
     "name": "stderr",
     "output_type": "stream",
     "text": [
      "100%|██████████| 1828/1828 [00:07<00:00, 236.77it/s]\n",
      "100%|██████████| 457/457 [00:00<00:00, 739.75it/s]\n"
     ]
    },
    {
     "name": "stdout",
     "output_type": "stream",
     "text": [
      "Epoch [12/20]\n",
      "Train Loss: 0.0840, Train Acc: 0.9670\n",
      "Valid Loss: 0.7091, Valid Acc: 0.8469\n"
     ]
    },
    {
     "name": "stderr",
     "output_type": "stream",
     "text": [
      "100%|██████████| 1828/1828 [00:07<00:00, 235.17it/s]\n",
      "100%|██████████| 457/457 [00:00<00:00, 735.29it/s]\n"
     ]
    },
    {
     "name": "stdout",
     "output_type": "stream",
     "text": [
      "Epoch [13/20]\n",
      "Train Loss: 0.0777, Train Acc: 0.9691\n",
      "Valid Loss: 0.7471, Valid Acc: 0.8451\n"
     ]
    },
    {
     "name": "stderr",
     "output_type": "stream",
     "text": [
      "100%|██████████| 1828/1828 [00:07<00:00, 235.90it/s]\n",
      "100%|██████████| 457/457 [00:00<00:00, 685.76it/s]\n"
     ]
    },
    {
     "name": "stdout",
     "output_type": "stream",
     "text": [
      "Epoch [14/20]\n",
      "Train Loss: 0.0724, Train Acc: 0.9712\n",
      "Valid Loss: 0.7829, Valid Acc: 0.8454\n"
     ]
    },
    {
     "name": "stderr",
     "output_type": "stream",
     "text": [
      "100%|██████████| 1828/1828 [00:07<00:00, 237.56it/s]\n",
      "100%|██████████| 457/457 [00:00<00:00, 742.24it/s]\n"
     ]
    },
    {
     "name": "stdout",
     "output_type": "stream",
     "text": [
      "Epoch [15/20]\n",
      "Train Loss: 0.0711, Train Acc: 0.9717\n",
      "Valid Loss: 0.8090, Valid Acc: 0.8436\n"
     ]
    },
    {
     "name": "stderr",
     "output_type": "stream",
     "text": [
      "100%|██████████| 1828/1828 [00:07<00:00, 234.75it/s]\n",
      "100%|██████████| 457/457 [00:00<00:00, 730.53it/s]\n"
     ]
    },
    {
     "name": "stdout",
     "output_type": "stream",
     "text": [
      "Epoch [16/20]\n",
      "Train Loss: 0.0654, Train Acc: 0.9742\n",
      "Valid Loss: 0.8862, Valid Acc: 0.8459\n"
     ]
    },
    {
     "name": "stderr",
     "output_type": "stream",
     "text": [
      "100%|██████████| 1828/1828 [00:07<00:00, 236.42it/s]\n",
      "100%|██████████| 457/457 [00:00<00:00, 710.85it/s]\n"
     ]
    },
    {
     "name": "stdout",
     "output_type": "stream",
     "text": [
      "Epoch [17/20]\n",
      "Train Loss: 0.0621, Train Acc: 0.9755\n",
      "Valid Loss: 0.8988, Valid Acc: 0.8427\n"
     ]
    },
    {
     "name": "stderr",
     "output_type": "stream",
     "text": [
      "100%|██████████| 1828/1828 [00:07<00:00, 234.77it/s]\n",
      "100%|██████████| 457/457 [00:00<00:00, 705.26it/s]\n"
     ]
    },
    {
     "name": "stdout",
     "output_type": "stream",
     "text": [
      "Epoch [18/20]\n",
      "Train Loss: 0.0605, Train Acc: 0.9762\n",
      "Valid Loss: 0.9307, Valid Acc: 0.8426\n"
     ]
    },
    {
     "name": "stderr",
     "output_type": "stream",
     "text": [
      "100%|██████████| 1828/1828 [00:07<00:00, 236.57it/s]\n",
      "100%|██████████| 457/457 [00:00<00:00, 738.77it/s]\n"
     ]
    },
    {
     "name": "stdout",
     "output_type": "stream",
     "text": [
      "Epoch [19/20]\n",
      "Train Loss: 0.0567, Train Acc: 0.9784\n",
      "Valid Loss: 0.9930, Valid Acc: 0.8433\n"
     ]
    },
    {
     "name": "stderr",
     "output_type": "stream",
     "text": [
      "100%|██████████| 1828/1828 [00:07<00:00, 235.64it/s]\n",
      "100%|██████████| 457/457 [00:00<00:00, 705.20it/s]"
     ]
    },
    {
     "name": "stdout",
     "output_type": "stream",
     "text": [
      "Epoch [20/20]\n",
      "Train Loss: 0.0555, Train Acc: 0.9778\n",
      "Valid Loss: 0.9889, Valid Acc: 0.8407\n"
     ]
    },
    {
     "name": "stderr",
     "output_type": "stream",
     "text": [
      "\n"
     ]
    }
   ],
   "source": [
    "num_epochs = 20\n",
    "train_losses = []\n",
    "valid_losses = []\n",
    "train_accuracies = []\n",
    "valid_accuracies = []\n",
    "best_valid_acc = 0.0\n",
    "\n",
    "for epoch in range(num_epochs):\n",
    "    model.train()\n",
    "    train_loss = 0\n",
    "    correct = 0\n",
    "    total = 0\n",
    "\n",
    "    for inputs, labels in tqdm(train_loader):\n",
    "        inputs, labels = inputs.to(device), labels.to(device)\n",
    "\n",
    "        optimizer.zero_grad()\n",
    "        outputs = model(inputs)\n",
    "        loss = criterion(outputs, labels)\n",
    "        loss.backward()\n",
    "        optimizer.step()\n",
    "\n",
    "        train_loss += loss.item()\n",
    "        preds = (outputs > 0.5).float()\n",
    "        correct += (preds == labels).sum().item()\n",
    "        total += labels.size(0)\n",
    "\n",
    "    avg_train_loss = train_loss / len(train_loader)\n",
    "    train_acc = correct / total\n",
    "\n",
    "    train_losses.append(avg_train_loss)\n",
    "    train_accuracies.append(train_acc)\n",
    "\n",
    "    model.eval()\n",
    "    valid_loss = 0\n",
    "    correct = 0\n",
    "    total = 0\n",
    "\n",
    "    with torch.no_grad():\n",
    "        for inputs, labels in tqdm(valid_loader):\n",
    "            inputs, labels = inputs.to(device), labels.to(device)\n",
    "            outputs = model(inputs)\n",
    "            loss = criterion(outputs, labels)\n",
    "\n",
    "            valid_loss += loss.item()\n",
    "            preds = (outputs > 0.5).float()\n",
    "            correct += (preds == labels).sum().item()\n",
    "            total += labels.size(0)\n",
    "\n",
    "    avg_valid_loss = valid_loss / len(valid_loader)\n",
    "    valid_acc = correct / total\n",
    "\n",
    "    valid_losses.append(avg_valid_loss)\n",
    "    valid_accuracies.append(valid_acc)\n",
    "    \n",
    "    if valid_acc > best_valid_acc:\n",
    "        best_valid_acc = valid_acc\n",
    "        torch.save(model.state_dict(), 'my_word2vec_cnn.pth')\n",
    "\n",
    "    print(f'Epoch [{epoch+1}/{num_epochs}]')\n",
    "    print(f'Train Loss: {avg_train_loss:.4f}, Train Acc: {train_acc:.4f}')\n",
    "    print(f'Valid Loss: {avg_valid_loss:.4f}, Valid Acc: {valid_acc:.4f}')"
   ]
  },
  {
   "cell_type": "code",
   "execution_count": 23,
   "id": "d16a7135-ecf6-4f55-bebd-d45435ac841c",
   "metadata": {},
   "outputs": [
    {
     "data": {
      "image/png": "[encoded data removed]",
      "text/plain": [
       "<Figure size 640x480 with 1 Axes>"
      ]
     },
     "metadata": {},
     "output_type": "display_data"
    }
   ],
   "source": [
    "plt.plot(train_losses, label='Train Loss')\n",
    "plt.plot(valid_losses, label='Valid Loss')\n",
    "plt.xlabel('Epoch')\n",
    "plt.ylabel('Loss')\n",
    "plt.title('Loss Curve')\n",
    "plt.legend()\n",
    "plt.grid()\n",
    "plt.show()"
   ]
  },
  {
   "cell_type": "code",
   "execution_count": 24,
   "id": "f99cacb5-8254-425f-a700-16b40621e28e",
   "metadata": {},
   "outputs": [
    {
     "name": "stdout",
     "output_type": "stream",
     "text": [
      "Test Loss: 0.3796, Test Accuracy: 0.8573\n"
     ]
    }
   ],
   "source": [
    "model.load_state_dict(torch.load('my_word2vec_cnn.pth'))\n",
    "model.to(device)\n",
    "model.eval()\n",
    "test_loss = 0\n",
    "correct = 0\n",
    "total = 0\n",
    "\n",
    "with torch.no_grad():\n",
    "    for inputs, labels in test_loader:\n",
    "        inputs, labels = inputs.to(device), labels.to(device)\n",
    "        outputs = model(inputs)\n",
    "        loss = criterion(outputs, labels)\n",
    "\n",
    "        test_loss += loss.item()\n",
    "        preds = (outputs > 0.5).float()\n",
    "        correct += (preds == labels).sum().item()\n",
    "        total += labels.size(0)\n",
    "\n",
    "avg_test_loss = test_loss / len(test_loader)\n",
    "test_acc = correct / total\n",
    "\n",
    "print(f\"Test Loss: {avg_test_loss:.4f}, Test Accuracy: {test_acc:.4f}\")"
   ]
  },
  {
   "cell_type": "code",
   "execution_count": 25,
   "id": "39c4012d-3747-4780-85b5-520a0b5bf5a1",
   "metadata": {},
   "outputs": [],
   "source": [
    "word2vec_ko_model = Word2Vec.load('word2vec_ko.model')\n",
    "\n",
    "embedding_dim = 100\n",
    "vocab_size = len(word_to_index)\n",
    "\n",
    "embedding_matrix = np.zeros((vocab_size, embedding_dim))\n",
    "for word, idx in word_to_index.items():\n",
    "    if word in word2vec_ko_model.wv:\n",
    "        embedding_matrix[idx] = word2vec_ko_model.wv[word]\n",
    "    else:\n",
    "        embedding_matrix[idx] = np.random.normal(scale=0.6, size=(embedding_dim, ))\n",
    "\n",
    "embedding_layer = nn.Embedding.from_pretrained(torch.FloatTensor(embedding_matrix), freeze=False)"
   ]
  },
  {
   "cell_type": "code",
   "execution_count": 26,
   "id": "03e960b7-db5b-40ca-9397-e1c0078437f7",
   "metadata": {},
   "outputs": [],
   "source": [
    "hidden_size = 128\n",
    "model = RNNClassifier(embedding_layer, hidden_size)\n",
    "criterion = nn.BCEWithLogitsLoss()\n",
    "optimizer = torch.optim.Adam(model.parameters(), lr=1e-3)\n",
    "device = torch.device(\"cuda\" if torch.cuda.is_available() else \"cpu\")\n",
    "model = model.to(device)"
   ]
  },
  {
   "cell_type": "code",
   "execution_count": 27,
   "id": "436e665f-d1e5-4a7d-80fe-de03fb391a01",
   "metadata": {},
   "outputs": [
    {
     "name": "stderr",
     "output_type": "stream",
     "text": [
      "100%|██████████| 1828/1828 [00:05<00:00, 319.18it/s]\n",
      "100%|██████████| 457/457 [00:00<00:00, 871.55it/s]\n"
     ]
    },
    {
     "name": "stdout",
     "output_type": "stream",
     "text": [
      "Epoch [1/20]\n",
      "Train Loss: 0.4876, Train Acc: 0.7582\n",
      "Valid Loss: 0.4247, Valid Acc: 0.8186\n"
     ]
    },
    {
     "name": "stderr",
     "output_type": "stream",
     "text": [
      "100%|██████████| 1828/1828 [00:05<00:00, 326.23it/s]\n",
      "100%|██████████| 457/457 [00:00<00:00, 868.58it/s]\n"
     ]
    },
    {
     "name": "stdout",
     "output_type": "stream",
     "text": [
      "Epoch [2/20]\n",
      "Train Loss: 0.3835, Train Acc: 0.8255\n",
      "Valid Loss: 0.3783, Valid Acc: 0.8369\n"
     ]
    },
    {
     "name": "stderr",
     "output_type": "stream",
     "text": [
      "100%|██████████| 1828/1828 [00:05<00:00, 328.94it/s]\n",
      "100%|██████████| 457/457 [00:00<00:00, 884.22it/s]\n"
     ]
    },
    {
     "name": "stdout",
     "output_type": "stream",
     "text": [
      "Epoch [3/20]\n",
      "Train Loss: 0.3504, Train Acc: 0.8443\n",
      "Valid Loss: 0.3587, Valid Acc: 0.8388\n"
     ]
    },
    {
     "name": "stderr",
     "output_type": "stream",
     "text": [
      "100%|██████████| 1828/1828 [00:05<00:00, 325.77it/s]\n",
      "100%|██████████| 457/457 [00:00<00:00, 887.64it/s]\n"
     ]
    },
    {
     "name": "stdout",
     "output_type": "stream",
     "text": [
      "Epoch [4/20]\n",
      "Train Loss: 0.3469, Train Acc: 0.8467\n",
      "Valid Loss: 0.3734, Valid Acc: 0.8295\n"
     ]
    },
    {
     "name": "stderr",
     "output_type": "stream",
     "text": [
      "100%|██████████| 1828/1828 [00:05<00:00, 330.02it/s]\n",
      "100%|██████████| 457/457 [00:00<00:00, 872.54it/s]\n"
     ]
    },
    {
     "name": "stdout",
     "output_type": "stream",
     "text": [
      "Epoch [5/20]\n",
      "Train Loss: 0.3320, Train Acc: 0.8560\n",
      "Valid Loss: 0.3476, Valid Acc: 0.8495\n"
     ]
    },
    {
     "name": "stderr",
     "output_type": "stream",
     "text": [
      "100%|██████████| 1828/1828 [00:05<00:00, 324.07it/s]\n",
      "100%|██████████| 457/457 [00:00<00:00, 870.41it/s]\n"
     ]
    },
    {
     "name": "stdout",
     "output_type": "stream",
     "text": [
      "Epoch [6/20]\n",
      "Train Loss: 0.3019, Train Acc: 0.8715\n",
      "Valid Loss: 0.3452, Valid Acc: 0.8531\n"
     ]
    },
    {
     "name": "stderr",
     "output_type": "stream",
     "text": [
      "100%|██████████| 1828/1828 [00:05<00:00, 321.72it/s]\n",
      "100%|██████████| 457/457 [00:00<00:00, 850.55it/s]\n"
     ]
    },
    {
     "name": "stdout",
     "output_type": "stream",
     "text": [
      "Epoch [7/20]\n",
      "Train Loss: 0.3001, Train Acc: 0.8710\n",
      "Valid Loss: 0.3657, Valid Acc: 0.8412\n"
     ]
    },
    {
     "name": "stderr",
     "output_type": "stream",
     "text": [
      "100%|██████████| 1828/1828 [00:05<00:00, 330.85it/s]\n",
      "100%|██████████| 457/457 [00:00<00:00, 859.88it/s]\n"
     ]
    },
    {
     "name": "stdout",
     "output_type": "stream",
     "text": [
      "Epoch [8/20]\n",
      "Train Loss: 0.2926, Train Acc: 0.8757\n",
      "Valid Loss: 0.3522, Valid Acc: 0.8517\n"
     ]
    },
    {
     "name": "stderr",
     "output_type": "stream",
     "text": [
      "100%|██████████| 1828/1828 [00:05<00:00, 326.01it/s]\n",
      "100%|██████████| 457/457 [00:00<00:00, 899.20it/s]\n"
     ]
    },
    {
     "name": "stdout",
     "output_type": "stream",
     "text": [
      "Epoch [9/20]\n",
      "Train Loss: 0.2833, Train Acc: 0.8807\n",
      "Valid Loss: 0.3528, Valid Acc: 0.8545\n"
     ]
    },
    {
     "name": "stderr",
     "output_type": "stream",
     "text": [
      "100%|██████████| 1828/1828 [00:05<00:00, 333.60it/s]\n",
      "100%|██████████| 457/457 [00:00<00:00, 862.53it/s]\n"
     ]
    },
    {
     "name": "stdout",
     "output_type": "stream",
     "text": [
      "Epoch [10/20]\n",
      "Train Loss: 0.2771, Train Acc: 0.8838\n",
      "Valid Loss: 0.3586, Valid Acc: 0.8456\n"
     ]
    },
    {
     "name": "stderr",
     "output_type": "stream",
     "text": [
      "100%|██████████| 1828/1828 [00:05<00:00, 323.76it/s]\n",
      "100%|██████████| 457/457 [00:00<00:00, 866.58it/s]\n"
     ]
    },
    {
     "name": "stdout",
     "output_type": "stream",
     "text": [
      "Epoch [11/20]\n",
      "Train Loss: 0.3025, Train Acc: 0.8695\n",
      "Valid Loss: 0.3573, Valid Acc: 0.8485\n"
     ]
    },
    {
     "name": "stderr",
     "output_type": "stream",
     "text": [
      "100%|██████████| 1828/1828 [00:05<00:00, 326.55it/s]\n",
      "100%|██████████| 457/457 [00:00<00:00, 799.00it/s]\n"
     ]
    },
    {
     "name": "stdout",
     "output_type": "stream",
     "text": [
      "Epoch [12/20]\n",
      "Train Loss: 0.3186, Train Acc: 0.8605\n",
      "Valid Loss: 0.3680, Valid Acc: 0.8439\n"
     ]
    },
    {
     "name": "stderr",
     "output_type": "stream",
     "text": [
      "100%|██████████| 1828/1828 [00:05<00:00, 333.13it/s]\n",
      "100%|██████████| 457/457 [00:00<00:00, 884.76it/s]\n"
     ]
    },
    {
     "name": "stdout",
     "output_type": "stream",
     "text": [
      "Epoch [13/20]\n",
      "Train Loss: 0.2698, Train Acc: 0.8871\n",
      "Valid Loss: 0.3669, Valid Acc: 0.8508\n"
     ]
    },
    {
     "name": "stderr",
     "output_type": "stream",
     "text": [
      "100%|██████████| 1828/1828 [00:05<00:00, 326.33it/s]\n",
      "100%|██████████| 457/457 [00:00<00:00, 869.51it/s]\n"
     ]
    },
    {
     "name": "stdout",
     "output_type": "stream",
     "text": [
      "Epoch [14/20]\n",
      "Train Loss: 0.2635, Train Acc: 0.8912\n",
      "Valid Loss: 0.3608, Valid Acc: 0.8445\n"
     ]
    },
    {
     "name": "stderr",
     "output_type": "stream",
     "text": [
      "100%|██████████| 1828/1828 [00:05<00:00, 331.81it/s]\n",
      "100%|██████████| 457/457 [00:00<00:00, 777.93it/s]\n"
     ]
    },
    {
     "name": "stdout",
     "output_type": "stream",
     "text": [
      "Epoch [15/20]\n",
      "Train Loss: 0.2691, Train Acc: 0.8866\n",
      "Valid Loss: 0.4172, Valid Acc: 0.8197\n"
     ]
    },
    {
     "name": "stderr",
     "output_type": "stream",
     "text": [
      "100%|██████████| 1828/1828 [00:05<00:00, 327.57it/s]\n",
      "100%|██████████| 457/457 [00:00<00:00, 860.43it/s]\n"
     ]
    },
    {
     "name": "stdout",
     "output_type": "stream",
     "text": [
      "Epoch [16/20]\n",
      "Train Loss: 0.2788, Train Acc: 0.8840\n",
      "Valid Loss: 0.3561, Valid Acc: 0.8478\n"
     ]
    },
    {
     "name": "stderr",
     "output_type": "stream",
     "text": [
      "100%|██████████| 1828/1828 [00:05<00:00, 326.56it/s]\n",
      "100%|██████████| 457/457 [00:00<00:00, 889.46it/s]\n"
     ]
    },
    {
     "name": "stdout",
     "output_type": "stream",
     "text": [
      "Epoch [17/20]\n",
      "Train Loss: 0.2467, Train Acc: 0.8993\n",
      "Valid Loss: 0.3625, Valid Acc: 0.8457\n"
     ]
    },
    {
     "name": "stderr",
     "output_type": "stream",
     "text": [
      "100%|██████████| 1828/1828 [00:05<00:00, 329.90it/s]\n",
      "100%|██████████| 457/457 [00:00<00:00, 874.42it/s]\n"
     ]
    },
    {
     "name": "stdout",
     "output_type": "stream",
     "text": [
      "Epoch [18/20]\n",
      "Train Loss: 0.2445, Train Acc: 0.8990\n",
      "Valid Loss: 0.3783, Valid Acc: 0.8530\n"
     ]
    },
    {
     "name": "stderr",
     "output_type": "stream",
     "text": [
      "100%|██████████| 1828/1828 [00:05<00:00, 325.21it/s]\n",
      "100%|██████████| 457/457 [00:00<00:00, 882.90it/s]\n"
     ]
    },
    {
     "name": "stdout",
     "output_type": "stream",
     "text": [
      "Epoch [19/20]\n",
      "Train Loss: 0.2491, Train Acc: 0.8978\n",
      "Valid Loss: 0.3735, Valid Acc: 0.8533\n"
     ]
    },
    {
     "name": "stderr",
     "output_type": "stream",
     "text": [
      "100%|██████████| 1828/1828 [00:05<00:00, 327.28it/s]\n",
      "100%|██████████| 457/457 [00:00<00:00, 845.83it/s]"
     ]
    },
    {
     "name": "stdout",
     "output_type": "stream",
     "text": [
      "Epoch [20/20]\n",
      "Train Loss: 0.2342, Train Acc: 0.9049\n",
      "Valid Loss: 0.3764, Valid Acc: 0.8544\n"
     ]
    },
    {
     "name": "stderr",
     "output_type": "stream",
     "text": [
      "\n"
     ]
    }
   ],
   "source": [
    "num_epochs = 20\n",
    "train_losses = []\n",
    "valid_losses = []\n",
    "train_accuracies = []\n",
    "valid_accuracies = []\n",
    "best_valid_acc = 0.0\n",
    "\n",
    "for epoch in range(num_epochs):\n",
    "    model.train()\n",
    "    train_loss = 0\n",
    "    correct = 0\n",
    "    total = 0\n",
    "\n",
    "    for inputs, labels in tqdm(train_loader):\n",
    "        inputs, labels = inputs.to(device), labels.to(device)\n",
    "\n",
    "        optimizer.zero_grad()\n",
    "        outputs = model(inputs)\n",
    "        loss = criterion(outputs, labels)\n",
    "        loss.backward()\n",
    "        optimizer.step()\n",
    "\n",
    "        train_loss += loss.item()\n",
    "        preds = (outputs > 0.5).float()\n",
    "        correct += (preds == labels).sum().item()\n",
    "        total += labels.size(0)\n",
    "\n",
    "    avg_train_loss = train_loss / len(train_loader)\n",
    "    train_acc = correct / total\n",
    "\n",
    "    train_losses.append(avg_train_loss)\n",
    "    train_accuracies.append(train_acc)\n",
    "\n",
    "    model.eval()\n",
    "    valid_loss = 0\n",
    "    correct = 0\n",
    "    total = 0\n",
    "\n",
    "    with torch.no_grad():\n",
    "        for inputs, labels in tqdm(valid_loader):\n",
    "            inputs, labels = inputs.to(device), labels.to(device)\n",
    "            outputs = model(inputs)\n",
    "            loss = criterion(outputs, labels)\n",
    "\n",
    "            valid_loss += loss.item()\n",
    "            preds = (outputs > 0.5).float()\n",
    "            correct += (preds == labels).sum().item()\n",
    "            total += labels.size(0)\n",
    "\n",
    "    avg_valid_loss = valid_loss / len(valid_loader)\n",
    "    valid_acc = correct / total\n",
    "\n",
    "    valid_losses.append(avg_valid_loss)\n",
    "    valid_accuracies.append(valid_acc)\n",
    "    \n",
    "    if valid_acc > best_valid_acc:\n",
    "        best_valid_acc = valid_acc\n",
    "        torch.save(model.state_dict(), 'word2vec_ko_rnn.pth')\n",
    "\n",
    "    print(f'Epoch [{epoch+1}/{num_epochs}]')\n",
    "    print(f'Train Loss: {avg_train_loss:.4f}, Train Acc: {train_acc:.4f}')\n",
    "    print(f'Valid Loss: {avg_valid_loss:.4f}, Valid Acc: {valid_acc:.4f}')"
   ]
  },
  {
   "cell_type": "code",
   "execution_count": 28,
   "id": "d139f619-90a9-4ad5-8632-e025e9468d08",
   "metadata": {},
   "outputs": [
    {
     "data": {
      "image/png": "[encoded data removed]",
      "text/plain": [
       "<Figure size 640x480 with 1 Axes>"
      ]
     },
     "metadata": {},
     "output_type": "display_data"
    }
   ],
   "source": [
    "plt.plot(train_losses, label='Train Loss')\n",
    "plt.plot(valid_losses, label='Valid Loss')\n",
    "plt.xlabel('Epoch')\n",
    "plt.ylabel('Loss')\n",
    "plt.title('Loss Curve')\n",
    "plt.legend()\n",
    "plt.grid()\n",
    "plt.show()"
   ]
  },
  {
   "cell_type": "code",
   "execution_count": 29,
   "id": "418c6a4c-bc1d-4303-8e8c-cb2ac2fa01fd",
   "metadata": {},
   "outputs": [
    {
     "name": "stdout",
     "output_type": "stream",
     "text": [
      "Test Loss: 0.3544, Test Accuracy: 0.8503\n"
     ]
    }
   ],
   "source": [
    "model.load_state_dict(torch.load('word2vec_ko_rnn.pth'))\n",
    "model.to(device)\n",
    "model.eval()\n",
    "test_loss = 0\n",
    "correct = 0\n",
    "total = 0\n",
    "\n",
    "with torch.no_grad():\n",
    "    for inputs, labels in test_loader:\n",
    "        inputs, labels = inputs.to(device), labels.to(device)\n",
    "        outputs = model(inputs)\n",
    "        loss = criterion(outputs, labels)\n",
    "\n",
    "        test_loss += loss.item()\n",
    "        preds = (outputs > 0.5).float()\n",
    "        correct += (preds == labels).sum().item()\n",
    "        total += labels.size(0)\n",
    "\n",
    "avg_test_loss = test_loss / len(test_loader)\n",
    "test_acc = correct / total\n",
    "\n",
    "print(f\"Test Loss: {avg_test_loss:.4f}, Test Accuracy: {test_acc:.4f}\")"
   ]
  },
  {
   "cell_type": "code",
   "execution_count": 30,
   "id": "831d038c-66cf-40dc-a2d9-ac26dc2743a9",
   "metadata": {},
   "outputs": [],
   "source": [
    "hidden_size = 128\n",
    "model = LSTMClassifier(embedding_layer, hidden_size)\n",
    "criterion = nn.BCEWithLogitsLoss()\n",
    "optimizer = torch.optim.Adam(model.parameters(), lr=1e-3)\n",
    "device = torch.device(\"cuda\" if torch.cuda.is_available() else \"cpu\")\n",
    "model = model.to(device)"
   ]
  },
  {
   "cell_type": "code",
   "execution_count": 31,
   "id": "a6a67fae-26a9-450f-8b43-218f1cc87393",
   "metadata": {},
   "outputs": [
    {
     "name": "stderr",
     "output_type": "stream",
     "text": [
      "100%|██████████| 1828/1828 [00:06<00:00, 287.27it/s]\n",
      "100%|██████████| 457/457 [00:00<00:00, 670.75it/s]\n"
     ]
    },
    {
     "name": "stdout",
     "output_type": "stream",
     "text": [
      "Epoch [1/20]\n",
      "Train Loss: 0.3136, Train Acc: 0.8591\n",
      "Valid Loss: 0.3272, Valid Acc: 0.8635\n"
     ]
    },
    {
     "name": "stderr",
     "output_type": "stream",
     "text": [
      "100%|██████████| 1828/1828 [00:06<00:00, 287.25it/s]\n",
      "100%|██████████| 457/457 [00:00<00:00, 662.86it/s]\n"
     ]
    },
    {
     "name": "stdout",
     "output_type": "stream",
     "text": [
      "Epoch [2/20]\n",
      "Train Loss: 0.2654, Train Acc: 0.8860\n",
      "Valid Loss: 0.3189, Valid Acc: 0.8617\n"
     ]
    },
    {
     "name": "stderr",
     "output_type": "stream",
     "text": [
      "100%|██████████| 1828/1828 [00:06<00:00, 286.21it/s]\n",
      "100%|██████████| 457/457 [00:00<00:00, 666.93it/s]\n"
     ]
    },
    {
     "name": "stdout",
     "output_type": "stream",
     "text": [
      "Epoch [3/20]\n",
      "Train Loss: 0.2405, Train Acc: 0.8980\n",
      "Valid Loss: 0.3446, Valid Acc: 0.8654\n"
     ]
    },
    {
     "name": "stderr",
     "output_type": "stream",
     "text": [
      "100%|██████████| 1828/1828 [00:06<00:00, 291.76it/s]\n",
      "100%|██████████| 457/457 [00:00<00:00, 613.96it/s]\n"
     ]
    },
    {
     "name": "stdout",
     "output_type": "stream",
     "text": [
      "Epoch [4/20]\n",
      "Train Loss: 0.2147, Train Acc: 0.9103\n",
      "Valid Loss: 0.3361, Valid Acc: 0.8650\n"
     ]
    },
    {
     "name": "stderr",
     "output_type": "stream",
     "text": [
      "100%|██████████| 1828/1828 [00:06<00:00, 291.51it/s]\n",
      "100%|██████████| 457/457 [00:00<00:00, 655.97it/s]\n"
     ]
    },
    {
     "name": "stdout",
     "output_type": "stream",
     "text": [
      "Epoch [5/20]\n",
      "Train Loss: 0.1904, Train Acc: 0.9214\n",
      "Valid Loss: 0.3487, Valid Acc: 0.8642\n"
     ]
    },
    {
     "name": "stderr",
     "output_type": "stream",
     "text": [
      "100%|██████████| 1828/1828 [00:06<00:00, 290.41it/s]\n",
      "100%|██████████| 457/457 [00:00<00:00, 670.95it/s]\n"
     ]
    },
    {
     "name": "stdout",
     "output_type": "stream",
     "text": [
      "Epoch [6/20]\n",
      "Train Loss: 0.1635, Train Acc: 0.9339\n",
      "Valid Loss: 0.3757, Valid Acc: 0.8640\n"
     ]
    },
    {
     "name": "stderr",
     "output_type": "stream",
     "text": [
      "100%|██████████| 1828/1828 [00:06<00:00, 290.21it/s]\n",
      "100%|██████████| 457/457 [00:00<00:00, 666.64it/s]\n"
     ]
    },
    {
     "name": "stdout",
     "output_type": "stream",
     "text": [
      "Epoch [7/20]\n",
      "Train Loss: 0.1402, Train Acc: 0.9445\n",
      "Valid Loss: 0.4086, Valid Acc: 0.8608\n"
     ]
    },
    {
     "name": "stderr",
     "output_type": "stream",
     "text": [
      "100%|██████████| 1828/1828 [00:06<00:00, 293.49it/s]\n",
      "100%|██████████| 457/457 [00:00<00:00, 678.81it/s]\n"
     ]
    },
    {
     "name": "stdout",
     "output_type": "stream",
     "text": [
      "Epoch [8/20]\n",
      "Train Loss: 0.1182, Train Acc: 0.9542\n",
      "Valid Loss: 0.4513, Valid Acc: 0.8574\n"
     ]
    },
    {
     "name": "stderr",
     "output_type": "stream",
     "text": [
      "100%|██████████| 1828/1828 [00:06<00:00, 288.01it/s]\n",
      "100%|██████████| 457/457 [00:00<00:00, 669.68it/s]\n"
     ]
    },
    {
     "name": "stdout",
     "output_type": "stream",
     "text": [
      "Epoch [9/20]\n",
      "Train Loss: 0.0972, Train Acc: 0.9634\n",
      "Valid Loss: 0.4858, Valid Acc: 0.8549\n"
     ]
    },
    {
     "name": "stderr",
     "output_type": "stream",
     "text": [
      "100%|██████████| 1828/1828 [00:06<00:00, 290.18it/s]\n",
      "100%|██████████| 457/457 [00:00<00:00, 638.37it/s]\n"
     ]
    },
    {
     "name": "stdout",
     "output_type": "stream",
     "text": [
      "Epoch [10/20]\n",
      "Train Loss: 0.0816, Train Acc: 0.9691\n",
      "Valid Loss: 0.5356, Valid Acc: 0.8538\n"
     ]
    },
    {
     "name": "stderr",
     "output_type": "stream",
     "text": [
      "100%|██████████| 1828/1828 [00:06<00:00, 294.22it/s]\n",
      "100%|██████████| 457/457 [00:00<00:00, 671.58it/s]\n"
     ]
    },
    {
     "name": "stdout",
     "output_type": "stream",
     "text": [
      "Epoch [11/20]\n",
      "Train Loss: 0.0681, Train Acc: 0.9746\n",
      "Valid Loss: 0.5962, Valid Acc: 0.8535\n"
     ]
    },
    {
     "name": "stderr",
     "output_type": "stream",
     "text": [
      "100%|██████████| 1828/1828 [00:06<00:00, 290.81it/s]\n",
      "100%|██████████| 457/457 [00:00<00:00, 664.14it/s]\n"
     ]
    },
    {
     "name": "stdout",
     "output_type": "stream",
     "text": [
      "Epoch [12/20]\n",
      "Train Loss: 0.0623, Train Acc: 0.9770\n",
      "Valid Loss: 0.6152, Valid Acc: 0.8551\n"
     ]
    },
    {
     "name": "stderr",
     "output_type": "stream",
     "text": [
      "100%|██████████| 1828/1828 [00:06<00:00, 286.71it/s]\n",
      "100%|██████████| 457/457 [00:00<00:00, 665.69it/s]\n"
     ]
    },
    {
     "name": "stdout",
     "output_type": "stream",
     "text": [
      "Epoch [13/20]\n",
      "Train Loss: 0.0492, Train Acc: 0.9818\n",
      "Valid Loss: 0.7093, Valid Acc: 0.8541\n"
     ]
    },
    {
     "name": "stderr",
     "output_type": "stream",
     "text": [
      "100%|██████████| 1828/1828 [00:06<00:00, 291.95it/s]\n",
      "100%|██████████| 457/457 [00:00<00:00, 624.93it/s]\n"
     ]
    },
    {
     "name": "stdout",
     "output_type": "stream",
     "text": [
      "Epoch [14/20]\n",
      "Train Loss: 0.0452, Train Acc: 0.9833\n",
      "Valid Loss: 0.7108, Valid Acc: 0.8513\n"
     ]
    },
    {
     "name": "stderr",
     "output_type": "stream",
     "text": [
      "100%|██████████| 1828/1828 [00:06<00:00, 290.31it/s]\n",
      "100%|██████████| 457/457 [00:00<00:00, 653.31it/s]\n"
     ]
    },
    {
     "name": "stdout",
     "output_type": "stream",
     "text": [
      "Epoch [15/20]\n",
      "Train Loss: 0.0438, Train Acc: 0.9836\n",
      "Valid Loss: 0.7285, Valid Acc: 0.8513\n"
     ]
    },
    {
     "name": "stderr",
     "output_type": "stream",
     "text": [
      "100%|██████████| 1828/1828 [00:06<00:00, 290.69it/s]\n",
      "100%|██████████| 457/457 [00:00<00:00, 663.84it/s]\n"
     ]
    },
    {
     "name": "stdout",
     "output_type": "stream",
     "text": [
      "Epoch [16/20]\n",
      "Train Loss: 0.0358, Train Acc: 0.9865\n",
      "Valid Loss: 0.8214, Valid Acc: 0.8514\n"
     ]
    },
    {
     "name": "stderr",
     "output_type": "stream",
     "text": [
      "100%|██████████| 1828/1828 [00:06<00:00, 289.61it/s]\n",
      "100%|██████████| 457/457 [00:00<00:00, 629.81it/s]\n"
     ]
    },
    {
     "name": "stdout",
     "output_type": "stream",
     "text": [
      "Epoch [17/20]\n",
      "Train Loss: 0.0362, Train Acc: 0.9862\n",
      "Valid Loss: 0.7944, Valid Acc: 0.8499\n"
     ]
    },
    {
     "name": "stderr",
     "output_type": "stream",
     "text": [
      "100%|██████████| 1828/1828 [00:06<00:00, 291.55it/s]\n",
      "100%|██████████| 457/457 [00:00<00:00, 671.95it/s]\n"
     ]
    },
    {
     "name": "stdout",
     "output_type": "stream",
     "text": [
      "Epoch [18/20]\n",
      "Train Loss: 0.0341, Train Acc: 0.9871\n",
      "Valid Loss: 0.8282, Valid Acc: 0.8500\n"
     ]
    },
    {
     "name": "stderr",
     "output_type": "stream",
     "text": [
      "100%|██████████| 1828/1828 [00:06<00:00, 289.34it/s]\n",
      "100%|██████████| 457/457 [00:00<00:00, 675.88it/s]\n"
     ]
    },
    {
     "name": "stdout",
     "output_type": "stream",
     "text": [
      "Epoch [19/20]\n",
      "Train Loss: 0.0272, Train Acc: 0.9900\n",
      "Valid Loss: 0.8478, Valid Acc: 0.8475\n"
     ]
    },
    {
     "name": "stderr",
     "output_type": "stream",
     "text": [
      "100%|██████████| 1828/1828 [00:06<00:00, 291.49it/s]\n",
      "100%|██████████| 457/457 [00:00<00:00, 657.23it/s]"
     ]
    },
    {
     "name": "stdout",
     "output_type": "stream",
     "text": [
      "Epoch [20/20]\n",
      "Train Loss: 0.0268, Train Acc: 0.9898\n",
      "Valid Loss: 0.9141, Valid Acc: 0.8490\n"
     ]
    },
    {
     "name": "stderr",
     "output_type": "stream",
     "text": [
      "\n"
     ]
    }
   ],
   "source": [
    "num_epochs = 20\n",
    "train_losses = []\n",
    "valid_losses = []\n",
    "train_accuracies = []\n",
    "valid_accuracies = []\n",
    "best_valid_acc = 0.0\n",
    "\n",
    "for epoch in range(num_epochs):\n",
    "    model.train()\n",
    "    train_loss = 0\n",
    "    correct = 0\n",
    "    total = 0\n",
    "\n",
    "    for inputs, labels in tqdm(train_loader):\n",
    "        inputs, labels = inputs.to(device), labels.to(device)\n",
    "\n",
    "        optimizer.zero_grad()\n",
    "        outputs = model(inputs)\n",
    "        loss = criterion(outputs, labels)\n",
    "        loss.backward()\n",
    "        optimizer.step()\n",
    "\n",
    "        train_loss += loss.item()\n",
    "        preds = (outputs > 0.5).float()\n",
    "        correct += (preds == labels).sum().item()\n",
    "        total += labels.size(0)\n",
    "\n",
    "    avg_train_loss = train_loss / len(train_loader)\n",
    "    train_acc = correct / total\n",
    "\n",
    "    train_losses.append(avg_train_loss)\n",
    "    train_accuracies.append(train_acc)\n",
    "\n",
    "    model.eval()\n",
    "    valid_loss = 0\n",
    "    correct = 0\n",
    "    total = 0\n",
    "\n",
    "    with torch.no_grad():\n",
    "        for inputs, labels in tqdm(valid_loader):\n",
    "            inputs, labels = inputs.to(device), labels.to(device)\n",
    "            outputs = model(inputs)\n",
    "            loss = criterion(outputs, labels)\n",
    "\n",
    "            valid_loss += loss.item()\n",
    "            preds = (outputs > 0.5).float()\n",
    "            correct += (preds == labels).sum().item()\n",
    "            total += labels.size(0)\n",
    "\n",
    "    avg_valid_loss = valid_loss / len(valid_loader)\n",
    "    valid_acc = correct / total\n",
    "\n",
    "    valid_losses.append(avg_valid_loss)\n",
    "    valid_accuracies.append(valid_acc)\n",
    "    \n",
    "    if valid_acc > best_valid_acc:\n",
    "        best_valid_acc = valid_acc\n",
    "        torch.save(model.state_dict(), 'word2vec_ko_lstm.pth')\n",
    "\n",
    "    print(f'Epoch [{epoch+1}/{num_epochs}]')\n",
    "    print(f'Train Loss: {avg_train_loss:.4f}, Train Acc: {train_acc:.4f}')\n",
    "    print(f'Valid Loss: {avg_valid_loss:.4f}, Valid Acc: {valid_acc:.4f}')"
   ]
  },
  {
   "cell_type": "code",
   "execution_count": 32,
   "id": "17fb31be-feb6-4db0-a793-bd404933266f",
   "metadata": {},
   "outputs": [
    {
     "data": {
      "image/png": "[encoded data removed]",
      "text/plain": [
       "<Figure size 640x480 with 1 Axes>"
      ]
     },
     "metadata": {},
     "output_type": "display_data"
    }
   ],
   "source": [
    "plt.plot(train_losses, label='Train Loss')\n",
    "plt.plot(valid_losses, label='Valid Loss')\n",
    "plt.xlabel('Epoch')\n",
    "plt.ylabel('Loss')\n",
    "plt.title('Loss Curve')\n",
    "plt.legend()\n",
    "plt.grid()\n",
    "plt.show()"
   ]
  },
  {
   "cell_type": "code",
   "execution_count": 33,
   "id": "cac55886-c73d-4dc3-88d7-4f8edea549ff",
   "metadata": {},
   "outputs": [
    {
     "name": "stdout",
     "output_type": "stream",
     "text": [
      "Test Loss: 0.3481, Test Accuracy: 0.8623\n"
     ]
    }
   ],
   "source": [
    "model.load_state_dict(torch.load('word2vec_ko_lstm.pth'))\n",
    "model.to(device)\n",
    "model.eval()\n",
    "test_loss = 0\n",
    "correct = 0\n",
    "total = 0\n",
    "\n",
    "with torch.no_grad():\n",
    "    for inputs, labels in test_loader:\n",
    "        inputs, labels = inputs.to(device), labels.to(device)\n",
    "        outputs = model(inputs)\n",
    "        loss = criterion(outputs, labels)\n",
    "\n",
    "        test_loss += loss.item()\n",
    "        preds = (outputs > 0.5).float()\n",
    "        correct += (preds == labels).sum().item()\n",
    "        total += labels.size(0)\n",
    "\n",
    "avg_test_loss = test_loss / len(test_loader)\n",
    "test_acc = correct / total\n",
    "\n",
    "print(f\"Test Loss: {avg_test_loss:.4f}, Test Accuracy: {test_acc:.4f}\")"
   ]
  },
  {
   "cell_type": "code",
   "execution_count": 34,
   "id": "dcef8653-867e-4db3-98a2-9be97f007bae",
   "metadata": {},
   "outputs": [],
   "source": [
    "output_size = 1\n",
    "model = CNNClassifier(embedding_layer, output_size)\n",
    "criterion = nn.BCEWithLogitsLoss()\n",
    "optimizer = torch.optim.Adam(model.parameters(), lr=1e-3)\n",
    "device = torch.device(\"cuda\" if torch.cuda.is_available() else \"cpu\")\n",
    "model = model.to(device)"
   ]
  },
  {
   "cell_type": "code",
   "execution_count": 35,
   "id": "6b3091fd-2c2e-4d12-b149-7ddb15549344",
   "metadata": {},
   "outputs": [
    {
     "name": "stderr",
     "output_type": "stream",
     "text": [
      "100%|██████████| 1828/1828 [00:07<00:00, 234.41it/s]\n",
      "100%|██████████| 457/457 [00:00<00:00, 714.01it/s]\n"
     ]
    },
    {
     "name": "stdout",
     "output_type": "stream",
     "text": [
      "Epoch [1/20]\n",
      "Train Loss: 0.3546, Train Acc: 0.8394\n",
      "Valid Loss: 0.3452, Valid Acc: 0.8496\n"
     ]
    },
    {
     "name": "stderr",
     "output_type": "stream",
     "text": [
      "100%|██████████| 1828/1828 [00:07<00:00, 237.58it/s]\n",
      "100%|██████████| 457/457 [00:00<00:00, 639.01it/s]\n"
     ]
    },
    {
     "name": "stdout",
     "output_type": "stream",
     "text": [
      "Epoch [2/20]\n",
      "Train Loss: 0.3055, Train Acc: 0.8671\n",
      "Valid Loss: 0.3359, Valid Acc: 0.8529\n"
     ]
    },
    {
     "name": "stderr",
     "output_type": "stream",
     "text": [
      "100%|██████████| 1828/1828 [00:07<00:00, 236.85it/s]\n",
      "100%|██████████| 457/457 [00:00<00:00, 718.99it/s]\n"
     ]
    },
    {
     "name": "stdout",
     "output_type": "stream",
     "text": [
      "Epoch [3/20]\n",
      "Train Loss: 0.2906, Train Acc: 0.8735\n",
      "Valid Loss: 0.3363, Valid Acc: 0.8533\n"
     ]
    },
    {
     "name": "stderr",
     "output_type": "stream",
     "text": [
      "100%|██████████| 1828/1828 [00:07<00:00, 236.52it/s]\n",
      "100%|██████████| 457/457 [00:00<00:00, 725.76it/s]\n"
     ]
    },
    {
     "name": "stdout",
     "output_type": "stream",
     "text": [
      "Epoch [4/20]\n",
      "Train Loss: 0.2800, Train Acc: 0.8786\n",
      "Valid Loss: 0.3443, Valid Acc: 0.8508\n"
     ]
    },
    {
     "name": "stderr",
     "output_type": "stream",
     "text": [
      "100%|██████████| 1828/1828 [00:07<00:00, 234.87it/s]\n",
      "100%|██████████| 457/457 [00:00<00:00, 710.36it/s]\n"
     ]
    },
    {
     "name": "stdout",
     "output_type": "stream",
     "text": [
      "Epoch [5/20]\n",
      "Train Loss: 0.2704, Train Acc: 0.8826\n",
      "Valid Loss: 0.3415, Valid Acc: 0.8556\n"
     ]
    },
    {
     "name": "stderr",
     "output_type": "stream",
     "text": [
      "100%|██████████| 1828/1828 [00:07<00:00, 235.91it/s]\n",
      "100%|██████████| 457/457 [00:00<00:00, 728.75it/s]\n"
     ]
    },
    {
     "name": "stdout",
     "output_type": "stream",
     "text": [
      "Epoch [6/20]\n",
      "Train Loss: 0.2603, Train Acc: 0.8876\n",
      "Valid Loss: 0.3438, Valid Acc: 0.8587\n"
     ]
    },
    {
     "name": "stderr",
     "output_type": "stream",
     "text": [
      "100%|██████████| 1828/1828 [00:07<00:00, 235.72it/s]\n",
      "100%|██████████| 457/457 [00:00<00:00, 706.10it/s]\n"
     ]
    },
    {
     "name": "stdout",
     "output_type": "stream",
     "text": [
      "Epoch [7/20]\n",
      "Train Loss: 0.2512, Train Acc: 0.8917\n",
      "Valid Loss: 0.3522, Valid Acc: 0.8543\n"
     ]
    },
    {
     "name": "stderr",
     "output_type": "stream",
     "text": [
      "100%|██████████| 1828/1828 [00:07<00:00, 236.99it/s]\n",
      "100%|██████████| 457/457 [00:00<00:00, 709.22it/s]\n"
     ]
    },
    {
     "name": "stdout",
     "output_type": "stream",
     "text": [
      "Epoch [8/20]\n",
      "Train Loss: 0.2436, Train Acc: 0.8950\n",
      "Valid Loss: 0.3599, Valid Acc: 0.8555\n"
     ]
    },
    {
     "name": "stderr",
     "output_type": "stream",
     "text": [
      "100%|██████████| 1828/1828 [00:07<00:00, 235.97it/s]\n",
      "100%|██████████| 457/457 [00:00<00:00, 717.64it/s]\n"
     ]
    },
    {
     "name": "stdout",
     "output_type": "stream",
     "text": [
      "Epoch [9/20]\n",
      "Train Loss: 0.2352, Train Acc: 0.8989\n",
      "Valid Loss: 0.3658, Valid Acc: 0.8589\n"
     ]
    },
    {
     "name": "stderr",
     "output_type": "stream",
     "text": [
      "100%|██████████| 1828/1828 [00:07<00:00, 233.47it/s]\n",
      "100%|██████████| 457/457 [00:00<00:00, 722.09it/s]\n"
     ]
    },
    {
     "name": "stdout",
     "output_type": "stream",
     "text": [
      "Epoch [10/20]\n",
      "Train Loss: 0.2278, Train Acc: 0.9015\n",
      "Valid Loss: 0.3817, Valid Acc: 0.8573\n"
     ]
    },
    {
     "name": "stderr",
     "output_type": "stream",
     "text": [
      "100%|██████████| 1828/1828 [00:07<00:00, 236.32it/s]\n",
      "100%|██████████| 457/457 [00:00<00:00, 730.29it/s]\n"
     ]
    },
    {
     "name": "stdout",
     "output_type": "stream",
     "text": [
      "Epoch [11/20]\n",
      "Train Loss: 0.2194, Train Acc: 0.9053\n",
      "Valid Loss: 0.3792, Valid Acc: 0.8538\n"
     ]
    },
    {
     "name": "stderr",
     "output_type": "stream",
     "text": [
      "100%|██████████| 1828/1828 [00:07<00:00, 235.45it/s]\n",
      "100%|██████████| 457/457 [00:00<00:00, 723.44it/s]\n"
     ]
    },
    {
     "name": "stdout",
     "output_type": "stream",
     "text": [
      "Epoch [12/20]\n",
      "Train Loss: 0.2106, Train Acc: 0.9095\n",
      "Valid Loss: 0.3878, Valid Acc: 0.8562\n"
     ]
    },
    {
     "name": "stderr",
     "output_type": "stream",
     "text": [
      "100%|██████████| 1828/1828 [00:07<00:00, 237.01it/s]\n",
      "100%|██████████| 457/457 [00:00<00:00, 690.34it/s]\n"
     ]
    },
    {
     "name": "stdout",
     "output_type": "stream",
     "text": [
      "Epoch [13/20]\n",
      "Train Loss: 0.2009, Train Acc: 0.9134\n",
      "Valid Loss: 0.4031, Valid Acc: 0.8547\n"
     ]
    },
    {
     "name": "stderr",
     "output_type": "stream",
     "text": [
      "100%|██████████| 1828/1828 [00:07<00:00, 236.47it/s]\n",
      "100%|██████████| 457/457 [00:00<00:00, 715.47it/s]\n"
     ]
    },
    {
     "name": "stdout",
     "output_type": "stream",
     "text": [
      "Epoch [14/20]\n",
      "Train Loss: 0.1955, Train Acc: 0.9154\n",
      "Valid Loss: 0.4169, Valid Acc: 0.8525\n"
     ]
    },
    {
     "name": "stderr",
     "output_type": "stream",
     "text": [
      "100%|██████████| 1828/1828 [00:07<00:00, 236.77it/s]\n",
      "100%|██████████| 457/457 [00:00<00:00, 706.04it/s]\n"
     ]
    },
    {
     "name": "stdout",
     "output_type": "stream",
     "text": [
      "Epoch [15/20]\n",
      "Train Loss: 0.1870, Train Acc: 0.9203\n",
      "Valid Loss: 0.4387, Valid Acc: 0.8492\n"
     ]
    },
    {
     "name": "stderr",
     "output_type": "stream",
     "text": [
      "100%|██████████| 1828/1828 [00:07<00:00, 234.62it/s]\n",
      "100%|██████████| 457/457 [00:00<00:00, 730.46it/s]\n"
     ]
    },
    {
     "name": "stdout",
     "output_type": "stream",
     "text": [
      "Epoch [16/20]\n",
      "Train Loss: 0.1812, Train Acc: 0.9222\n",
      "Valid Loss: 0.4505, Valid Acc: 0.8549\n"
     ]
    },
    {
     "name": "stderr",
     "output_type": "stream",
     "text": [
      "100%|██████████| 1828/1828 [00:07<00:00, 234.49it/s]\n",
      "100%|██████████| 457/457 [00:00<00:00, 712.05it/s]\n"
     ]
    },
    {
     "name": "stdout",
     "output_type": "stream",
     "text": [
      "Epoch [17/20]\n",
      "Train Loss: 0.1731, Train Acc: 0.9266\n",
      "Valid Loss: 0.4768, Valid Acc: 0.8543\n"
     ]
    },
    {
     "name": "stderr",
     "output_type": "stream",
     "text": [
      "100%|██████████| 1828/1828 [00:07<00:00, 236.39it/s]\n",
      "100%|██████████| 457/457 [00:00<00:00, 718.25it/s]\n"
     ]
    },
    {
     "name": "stdout",
     "output_type": "stream",
     "text": [
      "Epoch [18/20]\n",
      "Train Loss: 0.1678, Train Acc: 0.9287\n",
      "Valid Loss: 0.4716, Valid Acc: 0.8545\n"
     ]
    },
    {
     "name": "stderr",
     "output_type": "stream",
     "text": [
      "100%|██████████| 1828/1828 [00:07<00:00, 233.71it/s]\n",
      "100%|██████████| 457/457 [00:00<00:00, 721.93it/s]\n"
     ]
    },
    {
     "name": "stdout",
     "output_type": "stream",
     "text": [
      "Epoch [19/20]\n",
      "Train Loss: 0.1630, Train Acc: 0.9308\n",
      "Valid Loss: 0.4942, Valid Acc: 0.8518\n"
     ]
    },
    {
     "name": "stderr",
     "output_type": "stream",
     "text": [
      "100%|██████████| 1828/1828 [00:07<00:00, 235.14it/s]\n",
      "100%|██████████| 457/457 [00:00<00:00, 725.87it/s]"
     ]
    },
    {
     "name": "stdout",
     "output_type": "stream",
     "text": [
      "Epoch [20/20]\n",
      "Train Loss: 0.1566, Train Acc: 0.9331\n",
      "Valid Loss: 0.5215, Valid Acc: 0.8518\n"
     ]
    },
    {
     "name": "stderr",
     "output_type": "stream",
     "text": [
      "\n"
     ]
    }
   ],
   "source": [
    "num_epochs = 20\n",
    "train_losses = []\n",
    "valid_losses = []\n",
    "train_accuracies = []\n",
    "valid_accuracies = []\n",
    "best_valid_acc = 0.0\n",
    "\n",
    "for epoch in range(num_epochs):\n",
    "    model.train()\n",
    "    train_loss = 0\n",
    "    correct = 0\n",
    "    total = 0\n",
    "\n",
    "    for inputs, labels in tqdm(train_loader):\n",
    "        inputs, labels = inputs.to(device), labels.to(device)\n",
    "\n",
    "        optimizer.zero_grad()\n",
    "        outputs = model(inputs)\n",
    "        loss = criterion(outputs, labels)\n",
    "        loss.backward()\n",
    "        optimizer.step()\n",
    "\n",
    "        train_loss += loss.item()\n",
    "        preds = (outputs > 0.5).float()\n",
    "        correct += (preds == labels).sum().item()\n",
    "        total += labels.size(0)\n",
    "\n",
    "    avg_train_loss = train_loss / len(train_loader)\n",
    "    train_acc = correct / total\n",
    "\n",
    "    train_losses.append(avg_train_loss)\n",
    "    train_accuracies.append(train_acc)\n",
    "\n",
    "    model.eval()\n",
    "    valid_loss = 0\n",
    "    correct = 0\n",
    "    total = 0\n",
    "\n",
    "    with torch.no_grad():\n",
    "        for inputs, labels in tqdm(valid_loader):\n",
    "            inputs, labels = inputs.to(device), labels.to(device)\n",
    "            outputs = model(inputs)\n",
    "            loss = criterion(outputs, labels)\n",
    "\n",
    "            valid_loss += loss.item()\n",
    "            preds = (outputs > 0.5).float()\n",
    "            correct += (preds == labels).sum().item()\n",
    "            total += labels.size(0)\n",
    "\n",
    "    avg_valid_loss = valid_loss / len(valid_loader)\n",
    "    valid_acc = correct / total\n",
    "\n",
    "    valid_losses.append(avg_valid_loss)\n",
    "    valid_accuracies.append(valid_acc)\n",
    "    \n",
    "    if valid_acc > best_valid_acc:\n",
    "        best_valid_acc = valid_acc\n",
    "        torch.save(model.state_dict(), 'word2vec_ko_cnn.pth')\n",
    "\n",
    "    print(f'Epoch [{epoch+1}/{num_epochs}]')\n",
    "    print(f'Train Loss: {avg_train_loss:.4f}, Train Acc: {train_acc:.4f}')\n",
    "    print(f'Valid Loss: {avg_valid_loss:.4f}, Valid Acc: {valid_acc:.4f}')"
   ]
  },
  {
   "cell_type": "code",
   "execution_count": 36,
   "id": "f1329ece-6e14-4734-8a85-72a500c097a2",
   "metadata": {},
   "outputs": [
    {
     "data": {
      "image/png": "[encoded data removed]",
      "text/plain": [
       "<Figure size 640x480 with 1 Axes>"
      ]
     },
     "metadata": {},
     "output_type": "display_data"
    }
   ],
   "source": [
    "plt.plot(train_losses, label='Train Loss')\n",
    "plt.plot(valid_losses, label='Valid Loss')\n",
    "plt.xlabel('Epoch')\n",
    "plt.ylabel('Loss')\n",
    "plt.title('Loss Curve')\n",
    "plt.legend()\n",
    "plt.grid()\n",
    "plt.show()"
   ]
  },
  {
   "cell_type": "code",
   "execution_count": 37,
   "id": "2dd8f7a4-a54e-4603-bbfd-e4281e0856b7",
   "metadata": {},
   "outputs": [
    {
     "name": "stdout",
     "output_type": "stream",
     "text": [
      "Test Loss: 0.3686, Test Accuracy: 0.8565\n"
     ]
    }
   ],
   "source": [
    "model.load_state_dict(torch.load('word2vec_ko_cnn.pth'))\n",
    "model.to(device)\n",
    "model.eval()\n",
    "test_loss = 0\n",
    "correct = 0\n",
    "total = 0\n",
    "\n",
    "with torch.no_grad():\n",
    "    for inputs, labels in test_loader:\n",
    "        inputs, labels = inputs.to(device), labels.to(device)\n",
    "        outputs = model(inputs)\n",
    "        loss = criterion(outputs, labels)\n",
    "\n",
    "        test_loss += loss.item()\n",
    "        preds = (outputs > 0.5).float()\n",
    "        correct += (preds == labels).sum().item()\n",
    "        total += labels.size(0)\n",
    "\n",
    "avg_test_loss = test_loss / len(test_loader)\n",
    "test_acc = correct / total\n",
    "\n",
    "print(f\"Test Loss: {avg_test_loss:.4f}, Test Accuracy: {test_acc:.4f}\")"
   ]
  },
  {
   "cell_type": "code",
   "execution_count": 38,
   "id": "e7d3b2c7-d84d-4371-89c5-532e8dc59a22",
   "metadata": {},
   "outputs": [],
   "source": [
    "# review\n",
    "# 이번 프로젝트에서는 Skip-gram 기반 Word2Vec 임베딩을 직접 학습하여, 문장 분류 모델의 성능에 어떤 영향을 미치는지 확인하고 영화 리뷰 텍스트 김성분석을 진행하였다.\n",
    "# Skip-gram 방식은 희소한 단어에 강하고, 문맥의 다양한 조합을 학습하는 데 유리하다는 장점이 있어 CBOW보다 일반적으로 더 정교한 단어 표현을 생성한다.\n",
    "# 따라서 Skip-gram을 활용해 임베딩을 생성하였다. 또한 직접 학습한 Word2Vec 모델과 사전학습된 Word2Vec 모델 모두에 대해 RNN, LSTM, CNN 분류기를 구성하여 성능을 비교하였다.\n",
    "# 직접 학습한 Skip-gram 기반 Word2Vec 임베딩은 전반적으로 문맥에 맞는 벡터를 잘 학습하였고, 특정 키워드에 대해 Top-10 유사도 단어를 추출했을 때, \n",
    "# 직접 학습한 모델보다 사전 학습 모델이 더 정밀하고 의미 있는 단어들을 잘 뽑아내는 경향을 보였다. 이는 사전학습된 모델이 훨씬 더 큰 코퍼스와 더 긴 학습 시간을 바탕으로 구축되었기 때문이다.\n",
    "# 직접 학습한 Skip-gram 기반 Word2Vec 임베딩을 적용했을 때, RNN은 0.8509, LSTM은 0.8562, CNN은 0.8573의 정확도를 보였다. \n",
    "# 반면, 사전학습된 Word2Vec 임베딩을 활용한 경우 RNN은 0.8503, LSTM은 0.8623, CNN은 0.8565의 정확도를 보였다.\n",
    "# 이번 프로젝트를 통해 좋은 임베딩이 주어졌을 때 LSTM이 가장 높은 성능을 발휘한다는 점을 확인할 수 있었다. \n",
    "# 이는 LSTM이 과거 정보를 장기적으로 유지하며, 각 시점의 입력을 더 정교하게 반영할 수 있는 구조적 특성을 갖고 있기 때문이다.\n",
    "# 특히 좋은 임베딩은 단어 간 의미적 관계를 잘 표현하는데, LSTM은 이러한 의미 정보를 시퀀스 흐름 속에서 효과적으로 활용할 수 있어 성능 향상으로 이어졌다.\n",
    "# 이를 통해 임베딩의 품질이 모델 성능에 큰 영향을 미친다는 사실도 확인할 수 있었다.\n",
    "# 이미지 데이터를 학습할때와 다르게 에폭수를 많이 가져갈 필요가 없나? 싶었다. 텍스트는 에폭 단위로 모니터링하는게 아니라 배치 단위로 모니터링을 해야하는것인가... \n",
    "# 에폭수를 늘리니 과적합이 심하게 걸렸다. validation acc 기준으로 모델을 저장시켜서 문제될건 없었다."
   ]
  },
  {
   "cell_type": "code",
   "execution_count": null,
   "id": "326fd40a-a916-4c7b-a380-efbe7099b1e8",
   "metadata": {},
   "outputs": [],
   "source": []
  }
 ],
 "metadata": {
  "kernelspec": {
   "display_name": "Python 3 (ipykernel)",
   "language": "python",
   "name": "python3"
  },
  "language_info": {
   "codemirror_mode": {
    "name": "ipython",
    "version": 3
   },
   "file_extension": ".py",
   "mimetype": "text/x-python",
   "name": "python",
   "nbconvert_exporter": "python",
   "pygments_lexer": "ipython3",
   "version": "3.12.11"
  }
 },
 "nbformat": 4,
 "nbformat_minor": 5
}
